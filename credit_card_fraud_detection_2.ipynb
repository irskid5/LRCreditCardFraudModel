{
  "nbformat": 4,
  "nbformat_minor": 0,
  "metadata": {
    "colab": {
      "name": "credit-card-fraud-detection-2.ipynb",
      "provenance": [],
      "collapsed_sections": [],
      "toc_visible": true
    },
    "kernelspec": {
      "name": "python3",
      "display_name": "Python 3"
    },
    "accelerator": "GPU"
  },
  "cells": [
    {
      "cell_type": "code",
      "metadata": {
        "colab_type": "code",
        "id": "yJHVo_K_v20i",
        "colab": {}
      },
      "source": [
        "from __future__ import absolute_import, division, print_function, unicode_literals"
      ],
      "execution_count": 0,
      "outputs": []
    },
    {
      "cell_type": "code",
      "metadata": {
        "colab_type": "code",
        "id": "fYBlUQ5FvzxP",
        "colab": {}
      },
      "source": [
        "try:\n",
        "  # %tensorflow_version only exists in Colab.\n",
        "  %tensorflow_version 2.x\n",
        "except Exception:\n",
        "  pass"
      ],
      "execution_count": 0,
      "outputs": []
    },
    {
      "cell_type": "code",
      "metadata": {
        "colab_type": "code",
        "id": "JM7hDSNClfoK",
        "colab": {}
      },
      "source": [
        "import tensorflow as tf\n",
        "from tensorflow import keras\n",
        "\n",
        "import os\n",
        "import tempfile\n",
        "\n",
        "import matplotlib as mpl\n",
        "import matplotlib.pyplot as plt\n",
        "import numpy as np\n",
        "import pandas as pd\n",
        "import seaborn as sns\n",
        "\n",
        "import math\n",
        "\n",
        "import sklearn\n",
        "from sklearn.metrics import confusion_matrix\n",
        "from sklearn.model_selection import train_test_split\n",
        "from sklearn.preprocessing import StandardScaler"
      ],
      "execution_count": 0,
      "outputs": []
    },
    {
      "cell_type": "markdown",
      "metadata": {
        "id": "fWwLCJrgF5nQ",
        "colab_type": "text"
      },
      "source": [
        "Import and Preprocess datset"
      ]
    },
    {
      "cell_type": "code",
      "metadata": {
        "colab_type": "code",
        "id": "c8o1FHzD-_y_",
        "colab": {}
      },
      "source": [
        "mpl.rcParams['figure.figsize'] = (12, 10)\n",
        "colors = plt.rcParams['axes.prop_cycle'].by_key()['color']"
      ],
      "execution_count": 0,
      "outputs": []
    },
    {
      "cell_type": "code",
      "metadata": {
        "colab_type": "code",
        "id": "pR_SnbMArXr7",
        "outputId": "78874136-efe1-41ef-9ca1-721536c66268",
        "colab": {
          "base_uri": "https://localhost:8080/",
          "height": 215
        }
      },
      "source": [
        "file = tf.keras.utils\n",
        "raw_df = pd.read_csv('https://storage.googleapis.com/download.tensorflow.org/data/creditcard.csv')\n",
        "raw_df.head()"
      ],
      "execution_count": 18,
      "outputs": [
        {
          "output_type": "execute_result",
          "data": {
            "text/html": [
              "<div>\n",
              "<style scoped>\n",
              "    .dataframe tbody tr th:only-of-type {\n",
              "        vertical-align: middle;\n",
              "    }\n",
              "\n",
              "    .dataframe tbody tr th {\n",
              "        vertical-align: top;\n",
              "    }\n",
              "\n",
              "    .dataframe thead th {\n",
              "        text-align: right;\n",
              "    }\n",
              "</style>\n",
              "<table border=\"1\" class=\"dataframe\">\n",
              "  <thead>\n",
              "    <tr style=\"text-align: right;\">\n",
              "      <th></th>\n",
              "      <th>Time</th>\n",
              "      <th>V1</th>\n",
              "      <th>V2</th>\n",
              "      <th>V3</th>\n",
              "      <th>V4</th>\n",
              "      <th>V5</th>\n",
              "      <th>V6</th>\n",
              "      <th>V7</th>\n",
              "      <th>V8</th>\n",
              "      <th>V9</th>\n",
              "      <th>V10</th>\n",
              "      <th>V11</th>\n",
              "      <th>V12</th>\n",
              "      <th>V13</th>\n",
              "      <th>V14</th>\n",
              "      <th>V15</th>\n",
              "      <th>V16</th>\n",
              "      <th>V17</th>\n",
              "      <th>V18</th>\n",
              "      <th>V19</th>\n",
              "      <th>V20</th>\n",
              "      <th>V21</th>\n",
              "      <th>V22</th>\n",
              "      <th>V23</th>\n",
              "      <th>V24</th>\n",
              "      <th>V25</th>\n",
              "      <th>V26</th>\n",
              "      <th>V27</th>\n",
              "      <th>V28</th>\n",
              "      <th>Amount</th>\n",
              "      <th>Class</th>\n",
              "    </tr>\n",
              "  </thead>\n",
              "  <tbody>\n",
              "    <tr>\n",
              "      <th>0</th>\n",
              "      <td>0.0</td>\n",
              "      <td>-1.359807</td>\n",
              "      <td>-0.072781</td>\n",
              "      <td>2.536347</td>\n",
              "      <td>1.378155</td>\n",
              "      <td>-0.338321</td>\n",
              "      <td>0.462388</td>\n",
              "      <td>0.239599</td>\n",
              "      <td>0.098698</td>\n",
              "      <td>0.363787</td>\n",
              "      <td>0.090794</td>\n",
              "      <td>-0.551600</td>\n",
              "      <td>-0.617801</td>\n",
              "      <td>-0.991390</td>\n",
              "      <td>-0.311169</td>\n",
              "      <td>1.468177</td>\n",
              "      <td>-0.470401</td>\n",
              "      <td>0.207971</td>\n",
              "      <td>0.025791</td>\n",
              "      <td>0.403993</td>\n",
              "      <td>0.251412</td>\n",
              "      <td>-0.018307</td>\n",
              "      <td>0.277838</td>\n",
              "      <td>-0.110474</td>\n",
              "      <td>0.066928</td>\n",
              "      <td>0.128539</td>\n",
              "      <td>-0.189115</td>\n",
              "      <td>0.133558</td>\n",
              "      <td>-0.021053</td>\n",
              "      <td>149.62</td>\n",
              "      <td>0</td>\n",
              "    </tr>\n",
              "    <tr>\n",
              "      <th>1</th>\n",
              "      <td>0.0</td>\n",
              "      <td>1.191857</td>\n",
              "      <td>0.266151</td>\n",
              "      <td>0.166480</td>\n",
              "      <td>0.448154</td>\n",
              "      <td>0.060018</td>\n",
              "      <td>-0.082361</td>\n",
              "      <td>-0.078803</td>\n",
              "      <td>0.085102</td>\n",
              "      <td>-0.255425</td>\n",
              "      <td>-0.166974</td>\n",
              "      <td>1.612727</td>\n",
              "      <td>1.065235</td>\n",
              "      <td>0.489095</td>\n",
              "      <td>-0.143772</td>\n",
              "      <td>0.635558</td>\n",
              "      <td>0.463917</td>\n",
              "      <td>-0.114805</td>\n",
              "      <td>-0.183361</td>\n",
              "      <td>-0.145783</td>\n",
              "      <td>-0.069083</td>\n",
              "      <td>-0.225775</td>\n",
              "      <td>-0.638672</td>\n",
              "      <td>0.101288</td>\n",
              "      <td>-0.339846</td>\n",
              "      <td>0.167170</td>\n",
              "      <td>0.125895</td>\n",
              "      <td>-0.008983</td>\n",
              "      <td>0.014724</td>\n",
              "      <td>2.69</td>\n",
              "      <td>0</td>\n",
              "    </tr>\n",
              "    <tr>\n",
              "      <th>2</th>\n",
              "      <td>1.0</td>\n",
              "      <td>-1.358354</td>\n",
              "      <td>-1.340163</td>\n",
              "      <td>1.773209</td>\n",
              "      <td>0.379780</td>\n",
              "      <td>-0.503198</td>\n",
              "      <td>1.800499</td>\n",
              "      <td>0.791461</td>\n",
              "      <td>0.247676</td>\n",
              "      <td>-1.514654</td>\n",
              "      <td>0.207643</td>\n",
              "      <td>0.624501</td>\n",
              "      <td>0.066084</td>\n",
              "      <td>0.717293</td>\n",
              "      <td>-0.165946</td>\n",
              "      <td>2.345865</td>\n",
              "      <td>-2.890083</td>\n",
              "      <td>1.109969</td>\n",
              "      <td>-0.121359</td>\n",
              "      <td>-2.261857</td>\n",
              "      <td>0.524980</td>\n",
              "      <td>0.247998</td>\n",
              "      <td>0.771679</td>\n",
              "      <td>0.909412</td>\n",
              "      <td>-0.689281</td>\n",
              "      <td>-0.327642</td>\n",
              "      <td>-0.139097</td>\n",
              "      <td>-0.055353</td>\n",
              "      <td>-0.059752</td>\n",
              "      <td>378.66</td>\n",
              "      <td>0</td>\n",
              "    </tr>\n",
              "    <tr>\n",
              "      <th>3</th>\n",
              "      <td>1.0</td>\n",
              "      <td>-0.966272</td>\n",
              "      <td>-0.185226</td>\n",
              "      <td>1.792993</td>\n",
              "      <td>-0.863291</td>\n",
              "      <td>-0.010309</td>\n",
              "      <td>1.247203</td>\n",
              "      <td>0.237609</td>\n",
              "      <td>0.377436</td>\n",
              "      <td>-1.387024</td>\n",
              "      <td>-0.054952</td>\n",
              "      <td>-0.226487</td>\n",
              "      <td>0.178228</td>\n",
              "      <td>0.507757</td>\n",
              "      <td>-0.287924</td>\n",
              "      <td>-0.631418</td>\n",
              "      <td>-1.059647</td>\n",
              "      <td>-0.684093</td>\n",
              "      <td>1.965775</td>\n",
              "      <td>-1.232622</td>\n",
              "      <td>-0.208038</td>\n",
              "      <td>-0.108300</td>\n",
              "      <td>0.005274</td>\n",
              "      <td>-0.190321</td>\n",
              "      <td>-1.175575</td>\n",
              "      <td>0.647376</td>\n",
              "      <td>-0.221929</td>\n",
              "      <td>0.062723</td>\n",
              "      <td>0.061458</td>\n",
              "      <td>123.50</td>\n",
              "      <td>0</td>\n",
              "    </tr>\n",
              "    <tr>\n",
              "      <th>4</th>\n",
              "      <td>2.0</td>\n",
              "      <td>-1.158233</td>\n",
              "      <td>0.877737</td>\n",
              "      <td>1.548718</td>\n",
              "      <td>0.403034</td>\n",
              "      <td>-0.407193</td>\n",
              "      <td>0.095921</td>\n",
              "      <td>0.592941</td>\n",
              "      <td>-0.270533</td>\n",
              "      <td>0.817739</td>\n",
              "      <td>0.753074</td>\n",
              "      <td>-0.822843</td>\n",
              "      <td>0.538196</td>\n",
              "      <td>1.345852</td>\n",
              "      <td>-1.119670</td>\n",
              "      <td>0.175121</td>\n",
              "      <td>-0.451449</td>\n",
              "      <td>-0.237033</td>\n",
              "      <td>-0.038195</td>\n",
              "      <td>0.803487</td>\n",
              "      <td>0.408542</td>\n",
              "      <td>-0.009431</td>\n",
              "      <td>0.798278</td>\n",
              "      <td>-0.137458</td>\n",
              "      <td>0.141267</td>\n",
              "      <td>-0.206010</td>\n",
              "      <td>0.502292</td>\n",
              "      <td>0.219422</td>\n",
              "      <td>0.215153</td>\n",
              "      <td>69.99</td>\n",
              "      <td>0</td>\n",
              "    </tr>\n",
              "  </tbody>\n",
              "</table>\n",
              "</div>"
            ],
            "text/plain": [
              "   Time        V1        V2        V3  ...       V27       V28  Amount  Class\n",
              "0   0.0 -1.359807 -0.072781  2.536347  ...  0.133558 -0.021053  149.62      0\n",
              "1   0.0  1.191857  0.266151  0.166480  ... -0.008983  0.014724    2.69      0\n",
              "2   1.0 -1.358354 -1.340163  1.773209  ... -0.055353 -0.059752  378.66      0\n",
              "3   1.0 -0.966272 -0.185226  1.792993  ...  0.062723  0.061458  123.50      0\n",
              "4   2.0 -1.158233  0.877737  1.548718  ...  0.219422  0.215153   69.99      0\n",
              "\n",
              "[5 rows x 31 columns]"
            ]
          },
          "metadata": {
            "tags": []
          },
          "execution_count": 18
        }
      ]
    },
    {
      "cell_type": "code",
      "metadata": {
        "colab_type": "code",
        "id": "-fgdQgmwUFuj",
        "outputId": "a984d332-a877-4981-c088-855c3bd86fcf",
        "colab": {
          "base_uri": "https://localhost:8080/",
          "height": 304
        }
      },
      "source": [
        "raw_df[['Time', 'V1', 'V2', 'V3', 'V4', 'V5', 'V26', 'V27', 'V28', 'Amount', 'Class']].describe()"
      ],
      "execution_count": 19,
      "outputs": [
        {
          "output_type": "execute_result",
          "data": {
            "text/html": [
              "<div>\n",
              "<style scoped>\n",
              "    .dataframe tbody tr th:only-of-type {\n",
              "        vertical-align: middle;\n",
              "    }\n",
              "\n",
              "    .dataframe tbody tr th {\n",
              "        vertical-align: top;\n",
              "    }\n",
              "\n",
              "    .dataframe thead th {\n",
              "        text-align: right;\n",
              "    }\n",
              "</style>\n",
              "<table border=\"1\" class=\"dataframe\">\n",
              "  <thead>\n",
              "    <tr style=\"text-align: right;\">\n",
              "      <th></th>\n",
              "      <th>Time</th>\n",
              "      <th>V1</th>\n",
              "      <th>V2</th>\n",
              "      <th>V3</th>\n",
              "      <th>V4</th>\n",
              "      <th>V5</th>\n",
              "      <th>V26</th>\n",
              "      <th>V27</th>\n",
              "      <th>V28</th>\n",
              "      <th>Amount</th>\n",
              "      <th>Class</th>\n",
              "    </tr>\n",
              "  </thead>\n",
              "  <tbody>\n",
              "    <tr>\n",
              "      <th>count</th>\n",
              "      <td>284807.000000</td>\n",
              "      <td>2.848070e+05</td>\n",
              "      <td>2.848070e+05</td>\n",
              "      <td>2.848070e+05</td>\n",
              "      <td>2.848070e+05</td>\n",
              "      <td>2.848070e+05</td>\n",
              "      <td>2.848070e+05</td>\n",
              "      <td>2.848070e+05</td>\n",
              "      <td>2.848070e+05</td>\n",
              "      <td>284807.000000</td>\n",
              "      <td>284807.000000</td>\n",
              "    </tr>\n",
              "    <tr>\n",
              "      <th>mean</th>\n",
              "      <td>94813.859575</td>\n",
              "      <td>3.919560e-15</td>\n",
              "      <td>5.688174e-16</td>\n",
              "      <td>-8.769071e-15</td>\n",
              "      <td>2.782312e-15</td>\n",
              "      <td>-1.552563e-15</td>\n",
              "      <td>1.699104e-15</td>\n",
              "      <td>-3.660161e-16</td>\n",
              "      <td>-1.206049e-16</td>\n",
              "      <td>88.349619</td>\n",
              "      <td>0.001727</td>\n",
              "    </tr>\n",
              "    <tr>\n",
              "      <th>std</th>\n",
              "      <td>47488.145955</td>\n",
              "      <td>1.958696e+00</td>\n",
              "      <td>1.651309e+00</td>\n",
              "      <td>1.516255e+00</td>\n",
              "      <td>1.415869e+00</td>\n",
              "      <td>1.380247e+00</td>\n",
              "      <td>4.822270e-01</td>\n",
              "      <td>4.036325e-01</td>\n",
              "      <td>3.300833e-01</td>\n",
              "      <td>250.120109</td>\n",
              "      <td>0.041527</td>\n",
              "    </tr>\n",
              "    <tr>\n",
              "      <th>min</th>\n",
              "      <td>0.000000</td>\n",
              "      <td>-5.640751e+01</td>\n",
              "      <td>-7.271573e+01</td>\n",
              "      <td>-4.832559e+01</td>\n",
              "      <td>-5.683171e+00</td>\n",
              "      <td>-1.137433e+02</td>\n",
              "      <td>-2.604551e+00</td>\n",
              "      <td>-2.256568e+01</td>\n",
              "      <td>-1.543008e+01</td>\n",
              "      <td>0.000000</td>\n",
              "      <td>0.000000</td>\n",
              "    </tr>\n",
              "    <tr>\n",
              "      <th>25%</th>\n",
              "      <td>54201.500000</td>\n",
              "      <td>-9.203734e-01</td>\n",
              "      <td>-5.985499e-01</td>\n",
              "      <td>-8.903648e-01</td>\n",
              "      <td>-8.486401e-01</td>\n",
              "      <td>-6.915971e-01</td>\n",
              "      <td>-3.269839e-01</td>\n",
              "      <td>-7.083953e-02</td>\n",
              "      <td>-5.295979e-02</td>\n",
              "      <td>5.600000</td>\n",
              "      <td>0.000000</td>\n",
              "    </tr>\n",
              "    <tr>\n",
              "      <th>50%</th>\n",
              "      <td>84692.000000</td>\n",
              "      <td>1.810880e-02</td>\n",
              "      <td>6.548556e-02</td>\n",
              "      <td>1.798463e-01</td>\n",
              "      <td>-1.984653e-02</td>\n",
              "      <td>-5.433583e-02</td>\n",
              "      <td>-5.213911e-02</td>\n",
              "      <td>1.342146e-03</td>\n",
              "      <td>1.124383e-02</td>\n",
              "      <td>22.000000</td>\n",
              "      <td>0.000000</td>\n",
              "    </tr>\n",
              "    <tr>\n",
              "      <th>75%</th>\n",
              "      <td>139320.500000</td>\n",
              "      <td>1.315642e+00</td>\n",
              "      <td>8.037239e-01</td>\n",
              "      <td>1.027196e+00</td>\n",
              "      <td>7.433413e-01</td>\n",
              "      <td>6.119264e-01</td>\n",
              "      <td>2.409522e-01</td>\n",
              "      <td>9.104512e-02</td>\n",
              "      <td>7.827995e-02</td>\n",
              "      <td>77.165000</td>\n",
              "      <td>0.000000</td>\n",
              "    </tr>\n",
              "    <tr>\n",
              "      <th>max</th>\n",
              "      <td>172792.000000</td>\n",
              "      <td>2.454930e+00</td>\n",
              "      <td>2.205773e+01</td>\n",
              "      <td>9.382558e+00</td>\n",
              "      <td>1.687534e+01</td>\n",
              "      <td>3.480167e+01</td>\n",
              "      <td>3.517346e+00</td>\n",
              "      <td>3.161220e+01</td>\n",
              "      <td>3.384781e+01</td>\n",
              "      <td>25691.160000</td>\n",
              "      <td>1.000000</td>\n",
              "    </tr>\n",
              "  </tbody>\n",
              "</table>\n",
              "</div>"
            ],
            "text/plain": [
              "                Time            V1  ...         Amount          Class\n",
              "count  284807.000000  2.848070e+05  ...  284807.000000  284807.000000\n",
              "mean    94813.859575  3.919560e-15  ...      88.349619       0.001727\n",
              "std     47488.145955  1.958696e+00  ...     250.120109       0.041527\n",
              "min         0.000000 -5.640751e+01  ...       0.000000       0.000000\n",
              "25%     54201.500000 -9.203734e-01  ...       5.600000       0.000000\n",
              "50%     84692.000000  1.810880e-02  ...      22.000000       0.000000\n",
              "75%    139320.500000  1.315642e+00  ...      77.165000       0.000000\n",
              "max    172792.000000  2.454930e+00  ...   25691.160000       1.000000\n",
              "\n",
              "[8 rows x 11 columns]"
            ]
          },
          "metadata": {
            "tags": []
          },
          "execution_count": 19
        }
      ]
    },
    {
      "cell_type": "code",
      "metadata": {
        "colab_type": "code",
        "id": "HCJFrtuY2iLF",
        "outputId": "e465c145-a2b5-4fd9-f044-2c5c08173b69",
        "colab": {
          "base_uri": "https://localhost:8080/",
          "height": 84
        }
      },
      "source": [
        "neg, pos = np.bincount(raw_df['Class'])\n",
        "total = neg + pos\n",
        "print('Examples:\\n    Total: {}\\n    Positive: {} ({:.2f}% of total)\\n'.format(\n",
        "    total, pos, 100 * pos / total))"
      ],
      "execution_count": 20,
      "outputs": [
        {
          "output_type": "stream",
          "text": [
            "Examples:\n",
            "    Total: 284807\n",
            "    Positive: 492 (0.17% of total)\n",
            "\n"
          ],
          "name": "stdout"
        }
      ]
    },
    {
      "cell_type": "code",
      "metadata": {
        "colab_type": "code",
        "id": "Ef42jTuxEjnj",
        "colab": {}
      },
      "source": [
        "cleaned_df = raw_df.copy()\n",
        "\n",
        "# You don't want the `Time` column.\n",
        "cleaned_df.pop('Time')\n",
        "\n",
        "# The `Amount` column covers a huge range. Convert to log-space.\n",
        "eps=0.001 # 0 => 0.1¢\n",
        "cleaned_df['Log Amount'] = np.log(cleaned_df.pop('Amount')+eps)"
      ],
      "execution_count": 0,
      "outputs": []
    },
    {
      "cell_type": "code",
      "metadata": {
        "colab_type": "code",
        "id": "xfxhKg7Yr1-b",
        "colab": {}
      },
      "source": [
        "# Use a utility from sklearn to split and shuffle our dataset.\n",
        "train_df, test_df = train_test_split(cleaned_df, test_size=0.2)\n",
        "train_df, val_df = train_test_split(train_df, test_size=0.2)\n",
        "\n",
        "# Form np arrays of labels and features.\n",
        "train_labels = np.array(train_df.pop('Class'))\n",
        "bool_train_labels = train_labels != 0\n",
        "val_labels = np.array(val_df.pop('Class'))\n",
        "test_labels = np.array(test_df.pop('Class'))\n",
        "\n",
        "train_features = np.array(train_df)\n",
        "val_features = np.array(val_df)\n",
        "test_features = np.array(test_df)"
      ],
      "execution_count": 0,
      "outputs": []
    },
    {
      "cell_type": "code",
      "metadata": {
        "colab_type": "code",
        "id": "IO-qEUmJ5JQg",
        "outputId": "2f37ef83-71ba-48df-e084-bc7dbbaad0ca",
        "colab": {
          "base_uri": "https://localhost:8080/",
          "height": 118
        }
      },
      "source": [
        "# Normalize and clip the data\n",
        "\n",
        "scaler = StandardScaler()\n",
        "train_features = scaler.fit_transform(train_features)\n",
        "\n",
        "val_features = scaler.transform(val_features)\n",
        "test_features = scaler.transform(test_features)\n",
        "\n",
        "clip = 1\n",
        "\n",
        "train_features = np.clip(train_features, -clip, clip)\n",
        "val_features = np.clip(val_features, -clip, clip)\n",
        "test_features = np.clip(test_features, -clip, clip)\n",
        "\n",
        "np.savetxt('test_features.csv', test_features[:1000], delimiter=',')\n",
        "np.savetxt('test_labels.csv', test_labels[:1000], delimiter=',')\n",
        "\n",
        "print('Training labels shape:', train_labels.shape)\n",
        "print('Validation labels shape:', val_labels.shape)\n",
        "print('Test labels shape:', test_labels.shape)\n",
        "\n",
        "print('Training features shape:', train_features.shape)\n",
        "print('Validation features shape:', val_features.shape)\n",
        "print('Test features shape:', test_features.shape)\n"
      ],
      "execution_count": 23,
      "outputs": [
        {
          "output_type": "stream",
          "text": [
            "Training labels shape: (182276,)\n",
            "Validation labels shape: (45569,)\n",
            "Test labels shape: (56962,)\n",
            "Training features shape: (182276, 29)\n",
            "Validation features shape: (45569, 29)\n",
            "Test features shape: (56962, 29)\n"
          ],
          "name": "stdout"
        }
      ]
    },
    {
      "cell_type": "code",
      "metadata": {
        "id": "k1grK0dP5RnY",
        "colab_type": "code",
        "colab": {}
      },
      "source": [
        "# Attempt to create Chebyshev polynomial approximation algorithm\n",
        "\n",
        "# # Tools\n",
        "\n",
        "# import operator as op\n",
        "# from functools import reduce\n",
        "\n",
        "# def ncr(n, r):\n",
        "#     r = min(r, n-r)\n",
        "#     numer = reduce(op.mul, range(n, n-r, -1), 1)\n",
        "#     denom = reduce(op.mul, range(1, r+1), 1)\n",
        "#     return numer / denom"
      ],
      "execution_count": 0,
      "outputs": []
    },
    {
      "cell_type": "code",
      "metadata": {
        "id": "16uoq6333_FI",
        "colab_type": "code",
        "colab": {}
      },
      "source": [
        "# # Given\n",
        "\n",
        "# p = 16\n",
        "# q = 4\n",
        "# N = p + q + 1\n",
        "\n",
        "# alpha = np.zeros(N+1, dtype=float)\n",
        "# a = np.zeros(N+1, dtype=float)\n",
        "\n",
        "# # Initialization\n",
        "\n",
        "# alpha[N] = ((-1)**p) * (2**(-2*(p+q))) * N/2 * ncr(p+q, q)\n",
        "# alpha[N-1] = 2 * (q-p) * alpha[N]\n",
        "\n",
        "# for mew in range(N-1, 2, -1):\n",
        "#   alpha[mew-1] = 2/(N+1-mew) * ( (q-p)*alpha[mew] - (N+1+mew)/2*alpha[mew+1] )\n",
        "\n",
        "# for mew in range(N, 1, -1):\n",
        "#   a[mew] = alpha[mew]/mew\n",
        "\n",
        "# a[0] = 1 - np.sum(a)\n",
        "\n",
        "# sig_approx = np.polynomial.Chebyshev(a)\n",
        "\n",
        "# x, y = sig_approx.linspace(1000, [-1, 1])\n",
        "\n",
        "# plt.plot(x, y)\n",
        "# plt.show()\n",
        "\n",
        "# print(sig_approx)"
      ],
      "execution_count": 0,
      "outputs": []
    },
    {
      "cell_type": "markdown",
      "metadata": {
        "id": "gGtbtwpmF0k4",
        "colab_type": "text"
      },
      "source": [
        "Extract approximate function Chebyshev polynomial coefficients / save to disk"
      ]
    },
    {
      "cell_type": "code",
      "metadata": {
        "id": "IBLeOJ2rSFfw",
        "colab_type": "code",
        "outputId": "5baaba45-aae5-4dd2-89f2-2bc1083abd88",
        "colab": {
          "base_uri": "https://localhost:8080/",
          "height": 1000
        }
      },
      "source": [
        "# Extract approximate function Chebyshev polynomial coefficients / save to disk\n",
        "\n",
        "def sigmoid(x):\n",
        "  return 1/(1 + np.exp(-x)) \n",
        "\n",
        "approx = np.polynomial.chebyshev.Chebyshev.interpolate(sigmoid, 15, [-100, 100])\n",
        "coef = np.polynomial.chebyshev.cheb2poly(approx.coef)\n",
        "for i in range(16):\n",
        "  if i == 0:\n",
        "    coef[i] = 0.76*(coef[i]+0.15)*(0.04**i)  \n",
        "  else:\n",
        "    coef[i] = 0.76*coef[i]*(0.04**i)\n",
        "np.savetxt('coef.csv', coef, delimiter=',')\n",
        "print(coef)\n",
        "x, y = approx.linspace(1000000, [-100, 100])\n",
        "plt.title(\"Degree-15 Chebyshev Polynomial Approximation of Sigmoid Function\")\n",
        "plt.xlabel(\"x\")\n",
        "plt.ylabel(\"f(x)\")\n",
        "plt.plot(x, y)\n",
        "plt.show()\n",
        "\n",
        "poly = \"\"\n",
        "for i in range(len(coef)):\n",
        "  if i == 0:\n",
        "    poly += str(coef[i]) + \" \"\n",
        "  else:\n",
        "    poly += \"+ (\" + str(coef[i]) + \")x\" + \"^(\" + str(i) + \") \"\n",
        "\n",
        "print(poly)\n",
        "x, y = approx.linspace(1000000, [-100, 100])\n",
        "plt.plot(x, y)\n"
      ],
      "execution_count": 26,
      "outputs": [
        {
          "output_type": "stream",
          "text": [
            "[ 4.94000000e-01  1.80385159e-01  1.09015019e-17 -4.53564039e-03\n",
            " -2.95926839e-20  5.48868668e-05 -1.54555892e-21 -3.37775893e-07\n",
            "  1.56159513e-23  1.14101140e-09 -5.82665205e-26 -2.14479855e-12\n",
            "  9.44042206e-29  2.10396440e-15 -5.56640625e-32 -8.39487958e-19]\n"
          ],
          "name": "stdout"
        },
        {
          "output_type": "display_data",
          "data": {
            "image/png": "[encoded data removed]",
            "text/plain": [
              "<Figure size 864x720 with 1 Axes>"
            ]
          },
          "metadata": {
            "tags": []
          }
        },
        {
          "output_type": "stream",
          "text": [
            "0.4939999999999998 + (0.18038515864766605)x^(1) + (1.0901501923399337e-17)x^(2) + (-0.004535640387668542)x^(3) + (-2.9592683858936655e-20)x^(4) + (5.4886866762235074e-05)x^(5) + (-1.5455589164048437e-21)x^(6) + (-3.377758932422119e-07)x^(7) + (1.5615951269865042e-23)x^(8) + (1.1410113968693596e-09)x^(9) + (-5.826652050018312e-26)x^(10) + (-2.1447985504561754e-12)x^(11) + (9.440422058105471e-29)x^(12) + (2.103964397492797e-15)x^(13) + (-5.566406250000002e-32)x^(14) + (-8.394879584813549e-19)x^(15) \n"
          ],
          "name": "stdout"
        },
        {
          "output_type": "execute_result",
          "data": {
            "text/plain": [
              "[<matplotlib.lines.Line2D at 0x7f493651bcc0>]"
            ]
          },
          "metadata": {
            "tags": []
          },
          "execution_count": 26
        },
        {
          "output_type": "display_data",
          "data": {
            "image/png": "[encoded data removed]",
            "text/plain": [
              "<Figure size 864x720 with 1 Axes>"
            ]
          },
          "metadata": {
            "tags": []
          }
        }
      ]
    },
    {
      "cell_type": "code",
      "metadata": {
        "colab_type": "code",
        "id": "WTSkhT1jyGu6",
        "colab": {}
      },
      "source": [
        "# Helper functions\n",
        "\n",
        "def plot_metrics(history):\n",
        "  metrics =  ['loss', 'auc', 'precision', 'recall']\n",
        "  for n, metric in enumerate(metrics):\n",
        "    name = metric.replace(\"_\",\" \").capitalize()\n",
        "    plt.subplot(2,2,n+1)\n",
        "    plt.plot(history.epoch,  history.history[metric], color=colors[0], label='Train')\n",
        "    plt.plot(history.epoch, history.history['val_'+metric],\n",
        "             color=colors[0], linestyle=\"--\", label='Val')\n",
        "    plt.xlabel('Epoch')\n",
        "    plt.ylabel(name)\n",
        "    if metric == 'loss':\n",
        "      plt.ylim([0, plt.ylim()[1]])\n",
        "    elif metric == 'auc':\n",
        "      plt.ylim([0.8,1])\n",
        "    else:\n",
        "      plt.ylim([0,1])\n",
        "\n",
        "    plt.legend()\n",
        "\n",
        "def plot_cm(labels, predictions, p=0.5):\n",
        "  cm = confusion_matrix(labels, predictions > p)\n",
        "  plt.figure(figsize=(5,5))\n",
        "  sns.heatmap(cm, annot=True, fmt=\"d\")\n",
        "  plt.title('Confusion matrix @{:.2f}'.format(p))\n",
        "  plt.ylabel('Actual label')\n",
        "  plt.xlabel('Predicted label')\n",
        "\n",
        "  print('Legitimate Transactions Detected (True Negatives): ', cm[0][0])\n",
        "  print('Legitimate Transactions Incorrectly Detected (False Positives): ', cm[0][1])\n",
        "  print('Fraudulent Transactions Missed (False Negatives): ', cm[1][0])\n",
        "  print('Fraudulent Transactions Detected (True Positives): ', cm[1][1])\n",
        "  print('Total Fraudulent Transactions: ', np.sum(cm[1]))\n",
        "\n",
        "def plot_roc(name, labels, predictions, **kwargs):\n",
        "  fp, tp, _ = sklearn.metrics.roc_curve(labels, predictions)\n",
        "\n",
        "  plt.plot(100*fp, 100*tp, label=name, linewidth=2, **kwargs)\n",
        "  plt.xlabel('False positives [%]')\n",
        "  plt.ylabel('True positives [%]')\n",
        "  plt.xlim([-0.5,20])\n",
        "  plt.ylim([80,100.5])\n",
        "  plt.grid(True)\n",
        "  ax = plt.gca()\n",
        "  ax.set_aspect('equal')"
      ],
      "execution_count": 0,
      "outputs": []
    },
    {
      "cell_type": "markdown",
      "metadata": {
        "id": "PqK6lI-gUx4U",
        "colab_type": "text"
      },
      "source": [
        "Define Approximate Function"
      ]
    },
    {
      "cell_type": "code",
      "metadata": {
        "id": "Ar1DbsyDWSXd",
        "colab_type": "code",
        "colab": {}
      },
      "source": [
        "def test2(x):\n",
        "  return tf.constant(0.494, dtype=tf.float32) + tf.add_n([ \n",
        "                   0.180385159*tf.pow(x, 1), \n",
        "                   1.09015019*10**(-17)*tf.pow(x, 2), \n",
        "                   -4.53564039*10**(-3)*tf.pow(x, 3), \n",
        "                   0*-2.95926839*10**(-20)*tf.pow(x, 4), \n",
        "                   5.48868668*10**(-5)*tf.pow(x, 5), \n",
        "                   0*-1.54555892*10**(-21)*tf.pow(x, 6), \n",
        "                   -3.37775893*10**(-7)*tf.pow(x, 7), \n",
        "                   0*1.56159513*10**(-23)*tf.pow(x, 8), \n",
        "                   1.14101140*10**(-9)*tf.pow(x, 9), \n",
        "                   0*-5.82665205*10**(-26)*tf.pow(x, 10), \n",
        "                   -2.14479855*10**(-12)*tf.pow(x, 11), \n",
        "                   0*9.44042206*10**(-29)*tf.pow(x, 12), \n",
        "                   2.10396440*10**(-15)*tf.pow(x, 13), \n",
        "                   0*-5.56640625*10**(-32)*tf.pow(x, 14), \n",
        "                   -8.39487958*10**(-19)*tf.pow(x, 15)\n",
        "  ])"
      ],
      "execution_count": 0,
      "outputs": []
    },
    {
      "cell_type": "markdown",
      "metadata": {
        "id": "Oj0BtSSOFuvS",
        "colab_type": "text"
      },
      "source": [
        "Define Model"
      ]
    },
    {
      "cell_type": "code",
      "metadata": {
        "colab_type": "code",
        "id": "3JQDzUqT3UYG",
        "colab": {}
      },
      "source": [
        "METRICS = [\n",
        "      keras.metrics.TruePositives(name='tp'),\n",
        "      keras.metrics.FalsePositives(name='fp'),\n",
        "      keras.metrics.TrueNegatives(name='tn'),\n",
        "      keras.metrics.FalseNegatives(name='fn'), \n",
        "      keras.metrics.BinaryAccuracy(name='accuracy'),\n",
        "      keras.metrics.Precision(name='precision'),\n",
        "      keras.metrics.Recall(name='recall'),\n",
        "      keras.metrics.AUC(name='auc'),\n",
        "]\n",
        "\n",
        "def make_model(metrics = METRICS, output_bias=None):\n",
        "  if output_bias is not None:\n",
        "    output_bias = tf.keras.initializers.Constant(output_bias)\n",
        "  model = keras.Sequential([\n",
        "      keras.layers.Dense(\n",
        "          29, activation=test2,#tf_relu_approx,\n",
        "          input_shape=(train_features.shape[-1],)),\n",
        "      # keras.layers.Dropout(0.5),\n",
        "      keras.layers.Dense(1, activation=test2,\n",
        "                         bias_initializer=output_bias),\n",
        "  ])\n",
        "\n",
        "  model.compile(\n",
        "      optimizer=keras.optimizers.Adam(lr=1e-3),\n",
        "      loss=keras.losses.BinaryCrossentropy(),\n",
        "      metrics=metrics)\n",
        "\n",
        "  return model"
      ],
      "execution_count": 0,
      "outputs": []
    },
    {
      "cell_type": "code",
      "metadata": {
        "colab_type": "code",
        "id": "ouUkwPcGQsy3",
        "colab": {}
      },
      "source": [
        "EPOCHS = 100\n",
        "BATCH_SIZE = 2048\n",
        "\n",
        "early_stopping = tf.keras.callbacks.EarlyStopping(\n",
        "    monitor='val_auc', \n",
        "    verbose=1,\n",
        "    patience=10,\n",
        "    mode='max',\n",
        "    restore_best_weights=True)"
      ],
      "execution_count": 0,
      "outputs": []
    },
    {
      "cell_type": "code",
      "metadata": {
        "colab_type": "code",
        "id": "1xlR_dekzw7C",
        "outputId": "b7175e87-c0cd-4e5d-fa47-9ea52a0ed02c",
        "colab": {
          "base_uri": "https://localhost:8080/",
          "height": 218
        }
      },
      "source": [
        "model = make_model()\n",
        "model.summary()"
      ],
      "execution_count": 31,
      "outputs": [
        {
          "output_type": "stream",
          "text": [
            "Model: \"sequential\"\n",
            "_________________________________________________________________\n",
            "Layer (type)                 Output Shape              Param #   \n",
            "=================================================================\n",
            "dense (Dense)                (None, 29)                870       \n",
            "_________________________________________________________________\n",
            "dense_1 (Dense)              (None, 1)                 30        \n",
            "=================================================================\n",
            "Total params: 900\n",
            "Trainable params: 900\n",
            "Non-trainable params: 0\n",
            "_________________________________________________________________\n"
          ],
          "name": "stdout"
        }
      ]
    },
    {
      "cell_type": "code",
      "metadata": {
        "colab_type": "code",
        "id": "LopSd-yQqO3a",
        "outputId": "b4d16bcf-024e-4733-8f02-4505375f47d7",
        "colab": {
          "base_uri": "https://localhost:8080/",
          "height": 185
        }
      },
      "source": [
        "model.predict(train_features[:10])"
      ],
      "execution_count": 32,
      "outputs": [
        {
          "output_type": "execute_result",
          "data": {
            "text/plain": [
              "array([[0.59103805],\n",
              "       [0.6011765 ],\n",
              "       [0.56205237],\n",
              "       [0.6415948 ],\n",
              "       [0.6042614 ],\n",
              "       [0.5893156 ],\n",
              "       [0.5654691 ],\n",
              "       [0.5765331 ],\n",
              "       [0.5845136 ],\n",
              "       [0.57825446]], dtype=float32)"
            ]
          },
          "metadata": {
            "tags": []
          },
          "execution_count": 32
        }
      ]
    },
    {
      "cell_type": "code",
      "metadata": {
        "colab_type": "code",
        "id": "H-oPqh3SoGXk",
        "outputId": "08a25139-753b-4e14-8e38-70e9455c5ee0",
        "colab": {
          "base_uri": "https://localhost:8080/",
          "height": 34
        }
      },
      "source": [
        "results = model.evaluate(train_features, train_labels, batch_size=BATCH_SIZE, verbose=0)\n",
        "print(\"Loss: {:0.4f}\".format(results[0]))"
      ],
      "execution_count": 33,
      "outputs": [
        {
          "output_type": "stream",
          "text": [
            "Loss: 0.8683\n"
          ],
          "name": "stdout"
        }
      ]
    },
    {
      "cell_type": "code",
      "metadata": {
        "colab_type": "code",
        "id": "F5KWPSjjstUS",
        "outputId": "a409a961-376c-4d76-9c03-fb2517e2d113",
        "colab": {
          "base_uri": "https://localhost:8080/",
          "height": 34
        }
      },
      "source": [
        "initial_bias = np.log([pos/neg])\n",
        "initial_bias"
      ],
      "execution_count": 34,
      "outputs": [
        {
          "output_type": "execute_result",
          "data": {
            "text/plain": [
              "array([-6.35935934])"
            ]
          },
          "metadata": {
            "tags": []
          },
          "execution_count": 34
        }
      ]
    },
    {
      "cell_type": "code",
      "metadata": {
        "colab_type": "code",
        "id": "50oyu1uss0i-",
        "outputId": "f93e105d-a4b9-425f-cf30-841f59cbddae",
        "colab": {
          "base_uri": "https://localhost:8080/",
          "height": 185
        }
      },
      "source": [
        "model = make_model(output_bias = initial_bias)\n",
        "model.predict(train_features[:10])"
      ],
      "execution_count": 35,
      "outputs": [
        {
          "output_type": "execute_result",
          "data": {
            "text/plain": [
              "array([[0.05193838],\n",
              "       [0.05421618],\n",
              "       [0.05409977],\n",
              "       [0.05798021],\n",
              "       [0.05960026],\n",
              "       [0.05882826],\n",
              "       [0.06566039],\n",
              "       [0.07372758],\n",
              "       [0.06150749],\n",
              "       [0.06967989]], dtype=float32)"
            ]
          },
          "metadata": {
            "tags": []
          },
          "execution_count": 35
        }
      ]
    },
    {
      "cell_type": "code",
      "metadata": {
        "colab_type": "code",
        "id": "xVDqCWXDqHSc",
        "outputId": "a98ab509-f9a5-4f27-d98f-74a552d897c9",
        "colab": {
          "base_uri": "https://localhost:8080/",
          "height": 34
        }
      },
      "source": [
        "results = model.evaluate(train_features, train_labels, batch_size=BATCH_SIZE, verbose=0)\n",
        "print(\"Loss: {:0.4f}\".format(results[0]))"
      ],
      "execution_count": 36,
      "outputs": [
        {
          "output_type": "stream",
          "text": [
            "Loss: 0.0662\n"
          ],
          "name": "stdout"
        }
      ]
    },
    {
      "cell_type": "code",
      "metadata": {
        "colab_type": "code",
        "id": "_tSUm4yAVIif",
        "colab": {}
      },
      "source": [
        "initial_weights = os.path.join(tempfile.mkdtemp(),'initial_weights')\n",
        "model.save_weights(initial_weights)"
      ],
      "execution_count": 0,
      "outputs": []
    },
    {
      "cell_type": "markdown",
      "metadata": {
        "id": "t4fG1JzCGI0B",
        "colab_type": "text"
      },
      "source": [
        "Oversample"
      ]
    },
    {
      "cell_type": "code",
      "metadata": {
        "colab_type": "code",
        "id": "sHirNp6u7OWp",
        "colab": {}
      },
      "source": [
        "pos_features = train_features[bool_train_labels]\n",
        "neg_features = train_features[~bool_train_labels]\n",
        "\n",
        "pos_labels = train_labels[bool_train_labels]\n",
        "neg_labels = train_labels[~bool_train_labels]"
      ],
      "execution_count": 0,
      "outputs": []
    },
    {
      "cell_type": "code",
      "metadata": {
        "colab_type": "code",
        "id": "BUzGjSkwqT88",
        "outputId": "cb953567-3232-4677-e4d3-5c38aa7fa3a6",
        "colab": {
          "base_uri": "https://localhost:8080/",
          "height": 67
        }
      },
      "source": [
        "print(pos_features.shape)\n",
        "print(neg_features.shape)\n",
        "\n",
        "ids = np.arange(len(pos_features))\n",
        "choices = np.random.choice(ids, len(neg_features))\n",
        "\n",
        "res_pos_features = pos_features[choices]\n",
        "res_pos_labels = pos_labels[choices]\n",
        "\n",
        "res_pos_features.shape"
      ],
      "execution_count": 39,
      "outputs": [
        {
          "output_type": "stream",
          "text": [
            "(321, 29)\n",
            "(181955, 29)\n"
          ],
          "name": "stdout"
        },
        {
          "output_type": "execute_result",
          "data": {
            "text/plain": [
              "(181955, 29)"
            ]
          },
          "metadata": {
            "tags": []
          },
          "execution_count": 39
        }
      ]
    },
    {
      "cell_type": "code",
      "metadata": {
        "colab_type": "code",
        "id": "7ie_FFet6cep",
        "outputId": "056c4886-3cfd-4e33-e601-caedb00be382",
        "colab": {
          "base_uri": "https://localhost:8080/",
          "height": 34
        }
      },
      "source": [
        "resampled_features = np.concatenate([res_pos_features, neg_features], axis=0)\n",
        "resampled_labels = np.concatenate([res_pos_labels, neg_labels], axis=0)\n",
        "\n",
        "order = np.arange(len(resampled_labels))\n",
        "np.random.shuffle(order)\n",
        "resampled_features = resampled_features[order]\n",
        "resampled_labels = resampled_labels[order]\n",
        "\n",
        "resampled_features.shape"
      ],
      "execution_count": 40,
      "outputs": [
        {
          "output_type": "execute_result",
          "data": {
            "text/plain": [
              "(363910, 29)"
            ]
          },
          "metadata": {
            "tags": []
          },
          "execution_count": 40
        }
      ]
    },
    {
      "cell_type": "code",
      "metadata": {
        "colab_type": "code",
        "id": "EZwSOh1LNnlV",
        "colab": {}
      },
      "source": [
        "BUFFER_SIZE = 100000\n",
        "\n",
        "def make_ds(features, labels):\n",
        "  ds = tf.data.Dataset.from_tensor_slices((features, labels))#.cache()\n",
        "  ds = ds.shuffle(BUFFER_SIZE).repeat()\n",
        "  return ds\n",
        "\n",
        "pos_ds = make_ds(pos_features, pos_labels)\n",
        "neg_ds = make_ds(neg_features, neg_labels)"
      ],
      "execution_count": 0,
      "outputs": []
    },
    {
      "cell_type": "code",
      "metadata": {
        "colab_type": "code",
        "id": "llXc9rNH7Fbz",
        "outputId": "cd88f083-e27e-4def-a6e5-11119c67a81d",
        "colab": {
          "base_uri": "https://localhost:8080/",
          "height": 151
        }
      },
      "source": [
        "for features, label in pos_ds.take(1):\n",
        "  print(\"Features:\\n\", features.numpy())\n",
        "  print()\n",
        "  print(\"Label: \", label.numpy())"
      ],
      "execution_count": 42,
      "outputs": [
        {
          "output_type": "stream",
          "text": [
            "Features:\n",
            " [-0.36207636  0.36804004  0.76108664 -0.18822684 -0.40430173 -0.46427798\n",
            "  0.55655684  0.05715643 -0.12048559 -0.94381367  1.         -0.41738381\n",
            " -1.         -1.          0.31886855  1.          0.26076495  1.\n",
            " -1.         -0.23718632  0.17551408  0.33007514 -0.14373765  0.67933269\n",
            " -0.41449976  0.73068084 -0.15387941  0.02716522  0.94628595]\n",
            "\n",
            "Label:  1\n"
          ],
          "name": "stdout"
        }
      ]
    },
    {
      "cell_type": "code",
      "metadata": {
        "colab_type": "code",
        "id": "e7w9UQPT9wzE",
        "colab": {}
      },
      "source": [
        "resampled_ds = tf.data.experimental.sample_from_datasets([pos_ds, neg_ds], weights=[0.5, 0.5])\n",
        "resampled_ds = resampled_ds.batch(BATCH_SIZE).prefetch(2)"
      ],
      "execution_count": 0,
      "outputs": []
    },
    {
      "cell_type": "code",
      "metadata": {
        "colab_type": "code",
        "id": "EWXARdTdAuQK",
        "outputId": "d12dc8b5-0563-4afc-c821-e77a6b2e561a",
        "colab": {
          "base_uri": "https://localhost:8080/",
          "height": 34
        }
      },
      "source": [
        "for features, label in resampled_ds.take(1):\n",
        "  print(label.numpy().mean())"
      ],
      "execution_count": 44,
      "outputs": [
        {
          "output_type": "stream",
          "text": [
            "0.5078125\n"
          ],
          "name": "stdout"
        }
      ]
    },
    {
      "cell_type": "code",
      "metadata": {
        "colab_type": "code",
        "id": "xH-7K46AAxpq",
        "outputId": "039a503e-2726-472c-f04d-41197bb143d8",
        "colab": {
          "base_uri": "https://localhost:8080/",
          "height": 34
        }
      },
      "source": [
        "resampled_steps_per_epoch = np.ceil(2.0*neg/BATCH_SIZE)\n",
        "resampled_steps_per_epoch"
      ],
      "execution_count": 45,
      "outputs": [
        {
          "output_type": "execute_result",
          "data": {
            "text/plain": [
              "278.0"
            ]
          },
          "metadata": {
            "tags": []
          },
          "execution_count": 45
        }
      ]
    },
    {
      "cell_type": "code",
      "metadata": {
        "colab_type": "code",
        "id": "soRQ89JYqd6b",
        "colab": {}
      },
      "source": [
        "val_ds = tf.data.Dataset.from_tensor_slices((val_features, val_labels)).cache()\n",
        "val_ds = val_ds.batch(BATCH_SIZE).prefetch(2) "
      ],
      "execution_count": 0,
      "outputs": []
    },
    {
      "cell_type": "markdown",
      "metadata": {
        "id": "5ZmOJ-ZgGNkK",
        "colab_type": "text"
      },
      "source": [
        "Train"
      ]
    },
    {
      "cell_type": "code",
      "metadata": {
        "colab_type": "code",
        "id": "e_yn9I26qAHU",
        "outputId": "ddcf67da-2796-4411-b17b-c9f747e94333",
        "colab": {
          "base_uri": "https://localhost:8080/",
          "height": 1000
        }
      },
      "source": [
        "resampled_model = make_model()\n",
        "resampled_model.load_weights(initial_weights)\n",
        "\n",
        "# Reset the bias to zero, since this dataset is balanced.\n",
        "output_layer = resampled_model.layers[-1] \n",
        "output_layer.bias.assign([0])\n",
        "\n",
        "resampled_history = resampled_model.fit(\n",
        "    resampled_ds,\n",
        "    # These are not real epochs\n",
        "    steps_per_epoch = 20,\n",
        "    epochs=10*EPOCHS,\n",
        "    callbacks = [early_stopping],\n",
        "    validation_data=(val_ds))"
      ],
      "execution_count": 47,
      "outputs": [
        {
          "output_type": "stream",
          "text": [
            "Epoch 1/1000\n",
            "20/20 [==============================] - 1s 64ms/step - loss: 0.6510 - tp: 19885.0000 - fp: 192326.0000 - tn: 191878.0000 - fn: 1423.0000 - accuracy: 0.5222 - precision: 0.0937 - recall: 0.9332 - auc: 0.6416 - val_loss: 0.6746 - val_tp: 65.0000 - val_fp: 15948.0000 - val_tn: 29553.0000 - val_fn: 3.0000 - val_accuracy: 0.6500 - val_precision: 0.0041 - val_recall: 0.9559 - val_auc: 0.9513\n",
            "Epoch 2/1000\n",
            "20/20 [==============================] - 0s 21ms/step - loss: 0.5907 - tp: 18138.0000 - fp: 3504.0000 - tn: 17090.0000 - fn: 2228.0000 - accuracy: 0.8601 - precision: 0.8381 - recall: 0.8906 - auc: 0.9323 - val_loss: 0.6074 - val_tp: 58.0000 - val_fp: 2716.0000 - val_tn: 42785.0000 - val_fn: 10.0000 - val_accuracy: 0.9402 - val_precision: 0.0209 - val_recall: 0.8529 - val_auc: 0.9474\n",
            "Epoch 3/1000\n",
            "20/20 [==============================] - 0s 22ms/step - loss: 0.5361 - tp: 17622.0000 - fp: 781.0000 - tn: 19659.0000 - fn: 2898.0000 - accuracy: 0.9102 - precision: 0.9576 - recall: 0.8588 - auc: 0.9346 - val_loss: 0.5536 - val_tp: 58.0000 - val_fp: 1152.0000 - val_tn: 44349.0000 - val_fn: 10.0000 - val_accuracy: 0.9745 - val_precision: 0.0479 - val_recall: 0.8529 - val_auc: 0.9440\n",
            "Epoch 4/1000\n",
            "20/20 [==============================] - 0s 20ms/step - loss: 0.4872 - tp: 17056.0000 - fp: 455.0000 - tn: 20088.0000 - fn: 3361.0000 - accuracy: 0.9068 - precision: 0.9740 - recall: 0.8354 - auc: 0.9364 - val_loss: 0.5080 - val_tp: 58.0000 - val_fp: 904.0000 - val_tn: 44597.0000 - val_fn: 10.0000 - val_accuracy: 0.9799 - val_precision: 0.0603 - val_recall: 0.8529 - val_auc: 0.9421\n",
            "Epoch 5/1000\n",
            "20/20 [==============================] - 0s 25ms/step - loss: 0.4436 - tp: 17001.0000 - fp: 374.0000 - tn: 20095.0000 - fn: 3490.0000 - accuracy: 0.9057 - precision: 0.9785 - recall: 0.8297 - auc: 0.9380 - val_loss: 0.4618 - val_tp: 58.0000 - val_fp: 743.0000 - val_tn: 44758.0000 - val_fn: 10.0000 - val_accuracy: 0.9835 - val_precision: 0.0724 - val_recall: 0.8529 - val_auc: 0.9428\n",
            "Epoch 6/1000\n",
            "20/20 [==============================] - 1s 29ms/step - loss: 0.4047 - tp: 17057.0000 - fp: 286.0000 - tn: 20088.0000 - fn: 3529.0000 - accuracy: 0.9069 - precision: 0.9835 - recall: 0.8286 - auc: 0.9404 - val_loss: 0.4220 - val_tp: 58.0000 - val_fp: 691.0000 - val_tn: 44810.0000 - val_fn: 10.0000 - val_accuracy: 0.9846 - val_precision: 0.0774 - val_recall: 0.8529 - val_auc: 0.9441\n",
            "Epoch 7/1000\n",
            "20/20 [==============================] - 1s 27ms/step - loss: 0.3716 - tp: 16740.0000 - fp: 258.0000 - tn: 20430.0000 - fn: 3532.0000 - accuracy: 0.9075 - precision: 0.9848 - recall: 0.8258 - auc: 0.9433 - val_loss: 0.3782 - val_tp: 58.0000 - val_fp: 558.0000 - val_tn: 44943.0000 - val_fn: 10.0000 - val_accuracy: 0.9875 - val_precision: 0.0942 - val_recall: 0.8529 - val_auc: 0.9460\n",
            "Epoch 8/1000\n",
            "20/20 [==============================] - 0s 20ms/step - loss: 0.3418 - tp: 17015.0000 - fp: 224.0000 - tn: 20116.0000 - fn: 3605.0000 - accuracy: 0.9065 - precision: 0.9870 - recall: 0.8252 - auc: 0.9467 - val_loss: 0.3454 - val_tp: 58.0000 - val_fp: 555.0000 - val_tn: 44946.0000 - val_fn: 10.0000 - val_accuracy: 0.9876 - val_precision: 0.0946 - val_recall: 0.8529 - val_auc: 0.9491\n",
            "Epoch 9/1000\n",
            "20/20 [==============================] - 1s 27ms/step - loss: 0.3180 - tp: 17000.0000 - fp: 264.0000 - tn: 20238.0000 - fn: 3458.0000 - accuracy: 0.9091 - precision: 0.9847 - recall: 0.8310 - auc: 0.9496 - val_loss: 0.3147 - val_tp: 58.0000 - val_fp: 514.0000 - val_tn: 44987.0000 - val_fn: 10.0000 - val_accuracy: 0.9885 - val_precision: 0.1014 - val_recall: 0.8529 - val_auc: 0.9524\n",
            "Epoch 10/1000\n",
            "20/20 [==============================] - 0s 24ms/step - loss: 0.2969 - tp: 17142.0000 - fp: 238.0000 - tn: 20181.0000 - fn: 3399.0000 - accuracy: 0.9112 - precision: 0.9863 - recall: 0.8345 - auc: 0.9530 - val_loss: 0.2858 - val_tp: 58.0000 - val_fp: 473.0000 - val_tn: 45028.0000 - val_fn: 10.0000 - val_accuracy: 0.9894 - val_precision: 0.1092 - val_recall: 0.8529 - val_auc: 0.9551\n",
            "Epoch 11/1000\n",
            "20/20 [==============================] - 0s 23ms/step - loss: 0.2772 - tp: 17135.0000 - fp: 199.0000 - tn: 20365.0000 - fn: 3261.0000 - accuracy: 0.9155 - precision: 0.9885 - recall: 0.8401 - auc: 0.9571 - val_loss: 0.2611 - val_tp: 60.0000 - val_fp: 465.0000 - val_tn: 45036.0000 - val_fn: 8.0000 - val_accuracy: 0.9896 - val_precision: 0.1143 - val_recall: 0.8824 - val_auc: 0.9578\n",
            "Epoch 12/1000\n",
            "20/20 [==============================] - 0s 21ms/step - loss: 0.2623 - tp: 17287.0000 - fp: 201.0000 - tn: 20270.0000 - fn: 3202.0000 - accuracy: 0.9169 - precision: 0.9885 - recall: 0.8437 - auc: 0.9598 - val_loss: 0.2388 - val_tp: 60.0000 - val_fp: 477.0000 - val_tn: 45024.0000 - val_fn: 8.0000 - val_accuracy: 0.9894 - val_precision: 0.1117 - val_recall: 0.8824 - val_auc: 0.9597\n",
            "Epoch 13/1000\n",
            "20/20 [==============================] - 0s 24ms/step - loss: 0.2479 - tp: 17437.0000 - fp: 226.0000 - tn: 20225.0000 - fn: 3072.0000 - accuracy: 0.9195 - precision: 0.9872 - recall: 0.8502 - auc: 0.9628 - val_loss: 0.2223 - val_tp: 60.0000 - val_fp: 520.0000 - val_tn: 44981.0000 - val_fn: 8.0000 - val_accuracy: 0.9884 - val_precision: 0.1034 - val_recall: 0.8824 - val_auc: 0.9617\n",
            "Epoch 14/1000\n",
            "20/20 [==============================] - 1s 28ms/step - loss: 0.2364 - tp: 17424.0000 - fp: 236.0000 - tn: 20238.0000 - fn: 3062.0000 - accuracy: 0.9195 - precision: 0.9866 - recall: 0.8505 - auc: 0.9653 - val_loss: 0.2061 - val_tp: 60.0000 - val_fp: 573.0000 - val_tn: 44928.0000 - val_fn: 8.0000 - val_accuracy: 0.9873 - val_precision: 0.0948 - val_recall: 0.8824 - val_auc: 0.9640\n",
            "Epoch 15/1000\n",
            "20/20 [==============================] - 1s 28ms/step - loss: 0.2265 - tp: 17475.0000 - fp: 254.0000 - tn: 20239.0000 - fn: 2992.0000 - accuracy: 0.9208 - precision: 0.9857 - recall: 0.8538 - auc: 0.9674 - val_loss: 0.1916 - val_tp: 60.0000 - val_fp: 601.0000 - val_tn: 44900.0000 - val_fn: 8.0000 - val_accuracy: 0.9866 - val_precision: 0.0908 - val_recall: 0.8824 - val_auc: 0.9662\n",
            "Epoch 16/1000\n",
            "20/20 [==============================] - 0s 21ms/step - loss: 0.2169 - tp: 17648.0000 - fp: 269.0000 - tn: 20130.0000 - fn: 2913.0000 - accuracy: 0.9223 - precision: 0.9850 - recall: 0.8583 - auc: 0.9697 - val_loss: 0.1805 - val_tp: 60.0000 - val_fp: 645.0000 - val_tn: 44856.0000 - val_fn: 8.0000 - val_accuracy: 0.9857 - val_precision: 0.0851 - val_recall: 0.8824 - val_auc: 0.9685\n",
            "Epoch 17/1000\n",
            "20/20 [==============================] - 0s 22ms/step - loss: 0.2109 - tp: 17744.0000 - fp: 297.0000 - tn: 20103.0000 - fn: 2816.0000 - accuracy: 0.9240 - precision: 0.9835 - recall: 0.8630 - auc: 0.9708 - val_loss: 0.1710 - val_tp: 60.0000 - val_fp: 682.0000 - val_tn: 44819.0000 - val_fn: 8.0000 - val_accuracy: 0.9849 - val_precision: 0.0809 - val_recall: 0.8824 - val_auc: 0.9702\n",
            "Epoch 18/1000\n",
            "20/20 [==============================] - 1s 33ms/step - loss: 0.2037 - tp: 17689.0000 - fp: 346.0000 - tn: 20187.0000 - fn: 2738.0000 - accuracy: 0.9247 - precision: 0.9808 - recall: 0.8660 - auc: 0.9725 - val_loss: 0.1617 - val_tp: 60.0000 - val_fp: 721.0000 - val_tn: 44780.0000 - val_fn: 8.0000 - val_accuracy: 0.9840 - val_precision: 0.0768 - val_recall: 0.8824 - val_auc: 0.9723\n",
            "Epoch 19/1000\n",
            "20/20 [==============================] - 1s 26ms/step - loss: 0.1981 - tp: 17740.0000 - fp: 333.0000 - tn: 20165.0000 - fn: 2722.0000 - accuracy: 0.9254 - precision: 0.9816 - recall: 0.8670 - auc: 0.9738 - val_loss: 0.1540 - val_tp: 61.0000 - val_fp: 767.0000 - val_tn: 44734.0000 - val_fn: 7.0000 - val_accuracy: 0.9830 - val_precision: 0.0737 - val_recall: 0.8971 - val_auc: 0.9736\n",
            "Epoch 20/1000\n",
            "20/20 [==============================] - 1s 29ms/step - loss: 0.1929 - tp: 17984.0000 - fp: 367.0000 - tn: 19946.0000 - fn: 2663.0000 - accuracy: 0.9260 - precision: 0.9800 - recall: 0.8710 - auc: 0.9753 - val_loss: 0.1502 - val_tp: 61.0000 - val_fp: 848.0000 - val_tn: 44653.0000 - val_fn: 7.0000 - val_accuracy: 0.9812 - val_precision: 0.0671 - val_recall: 0.8971 - val_auc: 0.9758\n",
            "Epoch 21/1000\n",
            "20/20 [==============================] - 1s 27ms/step - loss: 0.1890 - tp: 17984.0000 - fp: 431.0000 - tn: 20169.0000 - fn: 2376.0000 - accuracy: 0.9315 - precision: 0.9766 - recall: 0.8833 - auc: 0.9762 - val_loss: 0.1445 - val_tp: 61.0000 - val_fp: 878.0000 - val_tn: 44623.0000 - val_fn: 7.0000 - val_accuracy: 0.9806 - val_precision: 0.0650 - val_recall: 0.8971 - val_auc: 0.9770\n",
            "Epoch 22/1000\n",
            "20/20 [==============================] - 1s 29ms/step - loss: 0.1862 - tp: 18226.0000 - fp: 455.0000 - tn: 20050.0000 - fn: 2229.0000 - accuracy: 0.9345 - precision: 0.9756 - recall: 0.8910 - auc: 0.9768 - val_loss: 0.1401 - val_tp: 61.0000 - val_fp: 911.0000 - val_tn: 44590.0000 - val_fn: 7.0000 - val_accuracy: 0.9799 - val_precision: 0.0628 - val_recall: 0.8971 - val_auc: 0.9782\n",
            "Epoch 23/1000\n",
            "20/20 [==============================] - 1s 26ms/step - loss: 0.1821 - tp: 18235.0000 - fp: 432.0000 - tn: 20171.0000 - fn: 2122.0000 - accuracy: 0.9376 - precision: 0.9769 - recall: 0.8958 - auc: 0.9778 - val_loss: 0.1363 - val_tp: 61.0000 - val_fp: 951.0000 - val_tn: 44550.0000 - val_fn: 7.0000 - val_accuracy: 0.9790 - val_precision: 0.0603 - val_recall: 0.8971 - val_auc: 0.9794\n",
            "Epoch 24/1000\n",
            "20/20 [==============================] - 1s 30ms/step - loss: 0.1784 - tp: 18414.0000 - fp: 439.0000 - tn: 19994.0000 - fn: 2113.0000 - accuracy: 0.9377 - precision: 0.9767 - recall: 0.8971 - auc: 0.9790 - val_loss: 0.1357 - val_tp: 61.0000 - val_fp: 1022.0000 - val_tn: 44479.0000 - val_fn: 7.0000 - val_accuracy: 0.9774 - val_precision: 0.0563 - val_recall: 0.8971 - val_auc: 0.9804\n",
            "Epoch 25/1000\n",
            "20/20 [==============================] - 1s 29ms/step - loss: 0.1769 - tp: 18483.0000 - fp: 489.0000 - tn: 19946.0000 - fn: 2042.0000 - accuracy: 0.9382 - precision: 0.9742 - recall: 0.9005 - auc: 0.9792 - val_loss: 0.1341 - val_tp: 61.0000 - val_fp: 1072.0000 - val_tn: 44429.0000 - val_fn: 7.0000 - val_accuracy: 0.9763 - val_precision: 0.0538 - val_recall: 0.8971 - val_auc: 0.9811\n",
            "Epoch 26/1000\n",
            "20/20 [==============================] - 0s 23ms/step - loss: 0.1741 - tp: 18422.0000 - fp: 468.0000 - tn: 20101.0000 - fn: 1969.0000 - accuracy: 0.9405 - precision: 0.9752 - recall: 0.9034 - auc: 0.9799 - val_loss: 0.1305 - val_tp: 61.0000 - val_fp: 1093.0000 - val_tn: 44408.0000 - val_fn: 7.0000 - val_accuracy: 0.9759 - val_precision: 0.0529 - val_recall: 0.8971 - val_auc: 0.9819\n",
            "Epoch 27/1000\n",
            "20/20 [==============================] - 1s 34ms/step - loss: 0.1728 - tp: 18480.0000 - fp: 523.0000 - tn: 20021.0000 - fn: 1936.0000 - accuracy: 0.9400 - precision: 0.9725 - recall: 0.9052 - auc: 0.9803 - val_loss: 0.1304 - val_tp: 61.0000 - val_fp: 1157.0000 - val_tn: 44344.0000 - val_fn: 7.0000 - val_accuracy: 0.9745 - val_precision: 0.0501 - val_recall: 0.8971 - val_auc: 0.9824\n",
            "Epoch 28/1000\n",
            "20/20 [==============================] - 1s 28ms/step - loss: 0.1716 - tp: 18440.0000 - fp: 558.0000 - tn: 20060.0000 - fn: 1902.0000 - accuracy: 0.9399 - precision: 0.9706 - recall: 0.9065 - auc: 0.9806 - val_loss: 0.1287 - val_tp: 61.0000 - val_fp: 1177.0000 - val_tn: 44324.0000 - val_fn: 7.0000 - val_accuracy: 0.9740 - val_precision: 0.0493 - val_recall: 0.8971 - val_auc: 0.9827\n",
            "Epoch 29/1000\n",
            "20/20 [==============================] - 1s 28ms/step - loss: 0.1707 - tp: 18705.0000 - fp: 581.0000 - tn: 19747.0000 - fn: 1927.0000 - accuracy: 0.9388 - precision: 0.9699 - recall: 0.9066 - auc: 0.9810 - val_loss: 0.1281 - val_tp: 61.0000 - val_fp: 1208.0000 - val_tn: 44293.0000 - val_fn: 7.0000 - val_accuracy: 0.9733 - val_precision: 0.0481 - val_recall: 0.8971 - val_auc: 0.9833\n",
            "Epoch 30/1000\n",
            "20/20 [==============================] - 0s 22ms/step - loss: 0.1685 - tp: 18367.0000 - fp: 575.0000 - tn: 20124.0000 - fn: 1894.0000 - accuracy: 0.9397 - precision: 0.9696 - recall: 0.9065 - auc: 0.9814 - val_loss: 0.1274 - val_tp: 61.0000 - val_fp: 1232.0000 - val_tn: 44269.0000 - val_fn: 7.0000 - val_accuracy: 0.9728 - val_precision: 0.0472 - val_recall: 0.8971 - val_auc: 0.9835\n",
            "Epoch 31/1000\n",
            "20/20 [==============================] - 1s 29ms/step - loss: 0.1685 - tp: 18436.0000 - fp: 594.0000 - tn: 20025.0000 - fn: 1905.0000 - accuracy: 0.9390 - precision: 0.9688 - recall: 0.9063 - auc: 0.9814 - val_loss: 0.1248 - val_tp: 61.0000 - val_fp: 1226.0000 - val_tn: 44275.0000 - val_fn: 7.0000 - val_accuracy: 0.9729 - val_precision: 0.0474 - val_recall: 0.8971 - val_auc: 0.9839\n",
            "Epoch 32/1000\n",
            "20/20 [==============================] - 0s 24ms/step - loss: 0.1671 - tp: 18576.0000 - fp: 587.0000 - tn: 19881.0000 - fn: 1916.0000 - accuracy: 0.9389 - precision: 0.9694 - recall: 0.9065 - auc: 0.9817 - val_loss: 0.1260 - val_tp: 61.0000 - val_fp: 1273.0000 - val_tn: 44228.0000 - val_fn: 7.0000 - val_accuracy: 0.9719 - val_precision: 0.0457 - val_recall: 0.8971 - val_auc: 0.9841\n",
            "Epoch 33/1000\n",
            "20/20 [==============================] - 0s 24ms/step - loss: 0.1646 - tp: 18630.0000 - fp: 543.0000 - tn: 19875.0000 - fn: 1912.0000 - accuracy: 0.9401 - precision: 0.9717 - recall: 0.9069 - auc: 0.9824 - val_loss: 0.1267 - val_tp: 61.0000 - val_fp: 1322.0000 - val_tn: 44179.0000 - val_fn: 7.0000 - val_accuracy: 0.9708 - val_precision: 0.0441 - val_recall: 0.8971 - val_auc: 0.9842\n",
            "Epoch 34/1000\n",
            "20/20 [==============================] - 0s 23ms/step - loss: 0.1657 - tp: 18592.0000 - fp: 610.0000 - tn: 19862.0000 - fn: 1896.0000 - accuracy: 0.9388 - precision: 0.9682 - recall: 0.9075 - auc: 0.9821 - val_loss: 0.1254 - val_tp: 61.0000 - val_fp: 1321.0000 - val_tn: 44180.0000 - val_fn: 7.0000 - val_accuracy: 0.9709 - val_precision: 0.0441 - val_recall: 0.8971 - val_auc: 0.9847\n",
            "Epoch 35/1000\n",
            "20/20 [==============================] - 1s 28ms/step - loss: 0.1639 - tp: 18518.0000 - fp: 616.0000 - tn: 19966.0000 - fn: 1860.0000 - accuracy: 0.9396 - precision: 0.9678 - recall: 0.9087 - auc: 0.9825 - val_loss: 0.1247 - val_tp: 61.0000 - val_fp: 1322.0000 - val_tn: 44179.0000 - val_fn: 7.0000 - val_accuracy: 0.9708 - val_precision: 0.0441 - val_recall: 0.8971 - val_auc: 0.9849\n",
            "Epoch 36/1000\n",
            "20/20 [==============================] - 1s 28ms/step - loss: 0.1627 - tp: 18527.0000 - fp: 591.0000 - tn: 20003.0000 - fn: 1839.0000 - accuracy: 0.9407 - precision: 0.9691 - recall: 0.9097 - auc: 0.9828 - val_loss: 0.1240 - val_tp: 61.0000 - val_fp: 1318.0000 - val_tn: 44183.0000 - val_fn: 7.0000 - val_accuracy: 0.9709 - val_precision: 0.0442 - val_recall: 0.8971 - val_auc: 0.9850\n",
            "Epoch 37/1000\n",
            "20/20 [==============================] - 0s 23ms/step - loss: 0.1634 - tp: 18557.0000 - fp: 616.0000 - tn: 19987.0000 - fn: 1800.0000 - accuracy: 0.9410 - precision: 0.9679 - recall: 0.9116 - auc: 0.9827 - val_loss: 0.1243 - val_tp: 61.0000 - val_fp: 1335.0000 - val_tn: 44166.0000 - val_fn: 7.0000 - val_accuracy: 0.9706 - val_precision: 0.0437 - val_recall: 0.8971 - val_auc: 0.9851\n",
            "Epoch 38/1000\n",
            "20/20 [==============================] - 0s 24ms/step - loss: 0.1628 - tp: 18666.0000 - fp: 636.0000 - tn: 19875.0000 - fn: 1783.0000 - accuracy: 0.9409 - precision: 0.9671 - recall: 0.9128 - auc: 0.9829 - val_loss: 0.1233 - val_tp: 61.0000 - val_fp: 1328.0000 - val_tn: 44173.0000 - val_fn: 7.0000 - val_accuracy: 0.9707 - val_precision: 0.0439 - val_recall: 0.8971 - val_auc: 0.9851\n",
            "Epoch 39/1000\n",
            "20/20 [==============================] - 1s 30ms/step - loss: 0.1621 - tp: 18789.0000 - fp: 609.0000 - tn: 19814.0000 - fn: 1748.0000 - accuracy: 0.9425 - precision: 0.9686 - recall: 0.9149 - auc: 0.9831 - val_loss: 0.1242 - val_tp: 61.0000 - val_fp: 1351.0000 - val_tn: 44150.0000 - val_fn: 7.0000 - val_accuracy: 0.9702 - val_precision: 0.0432 - val_recall: 0.8971 - val_auc: 0.9854\n",
            "Epoch 40/1000\n",
            "20/20 [==============================] - 0s 25ms/step - loss: 0.1613 - tp: 18720.0000 - fp: 642.0000 - tn: 19877.0000 - fn: 1721.0000 - accuracy: 0.9423 - precision: 0.9668 - recall: 0.9158 - auc: 0.9832 - val_loss: 0.1238 - val_tp: 61.0000 - val_fp: 1352.0000 - val_tn: 44149.0000 - val_fn: 7.0000 - val_accuracy: 0.9702 - val_precision: 0.0432 - val_recall: 0.8971 - val_auc: 0.9854\n",
            "Epoch 41/1000\n",
            "20/20 [==============================] - 0s 20ms/step - loss: 0.1604 - tp: 18655.0000 - fp: 618.0000 - tn: 19976.0000 - fn: 1711.0000 - accuracy: 0.9431 - precision: 0.9679 - recall: 0.9160 - auc: 0.9834 - val_loss: 0.1231 - val_tp: 62.0000 - val_fp: 1350.0000 - val_tn: 44151.0000 - val_fn: 6.0000 - val_accuracy: 0.9702 - val_precision: 0.0439 - val_recall: 0.9118 - val_auc: 0.9855\n",
            "Epoch 42/1000\n",
            "20/20 [==============================] - 0s 25ms/step - loss: 0.1608 - tp: 18607.0000 - fp: 650.0000 - tn: 19992.0000 - fn: 1711.0000 - accuracy: 0.9424 - precision: 0.9662 - recall: 0.9158 - auc: 0.9834 - val_loss: 0.1224 - val_tp: 62.0000 - val_fp: 1347.0000 - val_tn: 44154.0000 - val_fn: 6.0000 - val_accuracy: 0.9703 - val_precision: 0.0440 - val_recall: 0.9118 - val_auc: 0.9856\n",
            "Epoch 43/1000\n",
            "20/20 [==============================] - 1s 27ms/step - loss: 0.1596 - tp: 18774.0000 - fp: 660.0000 - tn: 19804.0000 - fn: 1722.0000 - accuracy: 0.9418 - precision: 0.9660 - recall: 0.9160 - auc: 0.9838 - val_loss: 0.1232 - val_tp: 62.0000 - val_fp: 1364.0000 - val_tn: 44137.0000 - val_fn: 6.0000 - val_accuracy: 0.9699 - val_precision: 0.0435 - val_recall: 0.9118 - val_auc: 0.9857\n",
            "Epoch 44/1000\n",
            "20/20 [==============================] - 1s 29ms/step - loss: 0.1598 - tp: 18727.0000 - fp: 655.0000 - tn: 19858.0000 - fn: 1720.0000 - accuracy: 0.9420 - precision: 0.9662 - recall: 0.9159 - auc: 0.9835 - val_loss: 0.1235 - val_tp: 62.0000 - val_fp: 1369.0000 - val_tn: 44132.0000 - val_fn: 6.0000 - val_accuracy: 0.9698 - val_precision: 0.0433 - val_recall: 0.9118 - val_auc: 0.9857\n",
            "Epoch 45/1000\n",
            "20/20 [==============================] - 0s 25ms/step - loss: 0.1603 - tp: 18832.0000 - fp: 651.0000 - tn: 19749.0000 - fn: 1728.0000 - accuracy: 0.9419 - precision: 0.9666 - recall: 0.9160 - auc: 0.9836 - val_loss: 0.1226 - val_tp: 62.0000 - val_fp: 1356.0000 - val_tn: 44145.0000 - val_fn: 6.0000 - val_accuracy: 0.9701 - val_precision: 0.0437 - val_recall: 0.9118 - val_auc: 0.9859\n",
            "Epoch 46/1000\n",
            "20/20 [==============================] - 1s 25ms/step - loss: 0.1597 - tp: 18765.0000 - fp: 651.0000 - tn: 19825.0000 - fn: 1719.0000 - accuracy: 0.9421 - precision: 0.9665 - recall: 0.9161 - auc: 0.9836 - val_loss: 0.1223 - val_tp: 62.0000 - val_fp: 1357.0000 - val_tn: 44144.0000 - val_fn: 6.0000 - val_accuracy: 0.9701 - val_precision: 0.0437 - val_recall: 0.9118 - val_auc: 0.9859\n",
            "Epoch 47/1000\n",
            "20/20 [==============================] - 1s 30ms/step - loss: 0.1582 - tp: 18664.0000 - fp: 640.0000 - tn: 19935.0000 - fn: 1721.0000 - accuracy: 0.9424 - precision: 0.9668 - recall: 0.9156 - auc: 0.9841 - val_loss: 0.1220 - val_tp: 62.0000 - val_fp: 1359.0000 - val_tn: 44142.0000 - val_fn: 6.0000 - val_accuracy: 0.9700 - val_precision: 0.0436 - val_recall: 0.9118 - val_auc: 0.9861\n",
            "Epoch 48/1000\n",
            "20/20 [==============================] - 0s 24ms/step - loss: 0.1577 - tp: 18876.0000 - fp: 658.0000 - tn: 19691.0000 - fn: 1735.0000 - accuracy: 0.9416 - precision: 0.9663 - recall: 0.9158 - auc: 0.9844 - val_loss: 0.1230 - val_tp: 62.0000 - val_fp: 1374.0000 - val_tn: 44127.0000 - val_fn: 6.0000 - val_accuracy: 0.9697 - val_precision: 0.0432 - val_recall: 0.9118 - val_auc: 0.9861\n",
            "Epoch 49/1000\n",
            "20/20 [==============================] - 0s 21ms/step - loss: 0.1582 - tp: 18803.0000 - fp: 668.0000 - tn: 19762.0000 - fn: 1727.0000 - accuracy: 0.9415 - precision: 0.9657 - recall: 0.9159 - auc: 0.9841 - val_loss: 0.1226 - val_tp: 62.0000 - val_fp: 1365.0000 - val_tn: 44136.0000 - val_fn: 6.0000 - val_accuracy: 0.9699 - val_precision: 0.0434 - val_recall: 0.9118 - val_auc: 0.9863\n",
            "Epoch 50/1000\n",
            "20/20 [==============================] - 0s 22ms/step - loss: 0.1571 - tp: 18721.0000 - fp: 647.0000 - tn: 19872.0000 - fn: 1720.0000 - accuracy: 0.9422 - precision: 0.9666 - recall: 0.9159 - auc: 0.9843 - val_loss: 0.1223 - val_tp: 62.0000 - val_fp: 1366.0000 - val_tn: 44135.0000 - val_fn: 6.0000 - val_accuracy: 0.9699 - val_precision: 0.0434 - val_recall: 0.9118 - val_auc: 0.9862\n",
            "Epoch 51/1000\n",
            "20/20 [==============================] - 0s 22ms/step - loss: 0.1544 - tp: 18696.0000 - fp: 603.0000 - tn: 19950.0000 - fn: 1711.0000 - accuracy: 0.9435 - precision: 0.9688 - recall: 0.9162 - auc: 0.9850 - val_loss: 0.1236 - val_tp: 62.0000 - val_fp: 1393.0000 - val_tn: 44108.0000 - val_fn: 6.0000 - val_accuracy: 0.9693 - val_precision: 0.0426 - val_recall: 0.9118 - val_auc: 0.9863\n",
            "Epoch 52/1000\n",
            "20/20 [==============================] - 0s 22ms/step - loss: 0.1549 - tp: 18772.0000 - fp: 654.0000 - tn: 19807.0000 - fn: 1727.0000 - accuracy: 0.9419 - precision: 0.9663 - recall: 0.9158 - auc: 0.9851 - val_loss: 0.1236 - val_tp: 62.0000 - val_fp: 1410.0000 - val_tn: 44091.0000 - val_fn: 6.0000 - val_accuracy: 0.9689 - val_precision: 0.0421 - val_recall: 0.9118 - val_auc: 0.9864\n",
            "Epoch 53/1000\n",
            "20/20 [==============================] - 0s 20ms/step - loss: 0.1563 - tp: 19084.0000 - fp: 636.0000 - tn: 19486.0000 - fn: 1754.0000 - accuracy: 0.9417 - precision: 0.9677 - recall: 0.9158 - auc: 0.9847 - val_loss: 0.1238 - val_tp: 62.0000 - val_fp: 1413.0000 - val_tn: 44088.0000 - val_fn: 6.0000 - val_accuracy: 0.9689 - val_precision: 0.0420 - val_recall: 0.9118 - val_auc: 0.9865\n",
            "Epoch 54/1000\n",
            "20/20 [==============================] - 0s 24ms/step - loss: 0.1556 - tp: 18737.0000 - fp: 685.0000 - tn: 19818.0000 - fn: 1720.0000 - accuracy: 0.9413 - precision: 0.9647 - recall: 0.9159 - auc: 0.9849 - val_loss: 0.1212 - val_tp: 62.0000 - val_fp: 1387.0000 - val_tn: 44114.0000 - val_fn: 6.0000 - val_accuracy: 0.9694 - val_precision: 0.0428 - val_recall: 0.9118 - val_auc: 0.9866\n",
            "Epoch 55/1000\n",
            "20/20 [==============================] - 1s 29ms/step - loss: 0.1560 - tp: 18706.0000 - fp: 698.0000 - tn: 19837.0000 - fn: 1719.0000 - accuracy: 0.9410 - precision: 0.9640 - recall: 0.9158 - auc: 0.9849 - val_loss: 0.1209 - val_tp: 62.0000 - val_fp: 1374.0000 - val_tn: 44127.0000 - val_fn: 6.0000 - val_accuracy: 0.9697 - val_precision: 0.0432 - val_recall: 0.9118 - val_auc: 0.9864\n",
            "Epoch 56/1000\n",
            "20/20 [==============================] - 1s 30ms/step - loss: 0.1528 - tp: 18737.0000 - fp: 616.0000 - tn: 19887.0000 - fn: 1720.0000 - accuracy: 0.9430 - precision: 0.9682 - recall: 0.9159 - auc: 0.9855 - val_loss: 0.1220 - val_tp: 62.0000 - val_fp: 1392.0000 - val_tn: 44109.0000 - val_fn: 6.0000 - val_accuracy: 0.9693 - val_precision: 0.0426 - val_recall: 0.9118 - val_auc: 0.9864\n",
            "Epoch 57/1000\n",
            "20/20 [==============================] - 0s 20ms/step - loss: 0.1518 - tp: 18766.0000 - fp: 621.0000 - tn: 19848.0000 - fn: 1725.0000 - accuracy: 0.9427 - precision: 0.9680 - recall: 0.9158 - auc: 0.9858 - val_loss: 0.1228 - val_tp: 62.0000 - val_fp: 1412.0000 - val_tn: 44089.0000 - val_fn: 6.0000 - val_accuracy: 0.9689 - val_precision: 0.0421 - val_recall: 0.9118 - val_auc: 0.9864\n",
            "Epoch 58/1000\n",
            "20/20 [==============================] - 0s 22ms/step - loss: 0.1532 - tp: 18662.0000 - fp: 685.0000 - tn: 19902.0000 - fn: 1711.0000 - accuracy: 0.9415 - precision: 0.9646 - recall: 0.9160 - auc: 0.9855 - val_loss: 0.1211 - val_tp: 62.0000 - val_fp: 1386.0000 - val_tn: 44115.0000 - val_fn: 6.0000 - val_accuracy: 0.9695 - val_precision: 0.0428 - val_recall: 0.9118 - val_auc: 0.9866\n",
            "Epoch 59/1000\n",
            "20/20 [==============================] - 0s 23ms/step - loss: 0.1533 - tp: 18730.0000 - fp: 617.0000 - tn: 19906.0000 - fn: 1707.0000 - accuracy: 0.9433 - precision: 0.9681 - recall: 0.9165 - auc: 0.9854 - val_loss: 0.1200 - val_tp: 62.0000 - val_fp: 1359.0000 - val_tn: 44142.0000 - val_fn: 6.0000 - val_accuracy: 0.9700 - val_precision: 0.0436 - val_recall: 0.9118 - val_auc: 0.9864\n",
            "Epoch 60/1000\n",
            "20/20 [==============================] - 0s 20ms/step - loss: 0.1519 - tp: 18787.0000 - fp: 627.0000 - tn: 19888.0000 - fn: 1658.0000 - accuracy: 0.9442 - precision: 0.9677 - recall: 0.9189 - auc: 0.9858 - val_loss: 0.1204 - val_tp: 62.0000 - val_fp: 1371.0000 - val_tn: 44130.0000 - val_fn: 6.0000 - val_accuracy: 0.9698 - val_precision: 0.0433 - val_recall: 0.9118 - val_auc: 0.9866\n",
            "Epoch 61/1000\n",
            "20/20 [==============================] - 1s 26ms/step - loss: 0.1521 - tp: 19039.0000 - fp: 641.0000 - tn: 19668.0000 - fn: 1612.0000 - accuracy: 0.9450 - precision: 0.9674 - recall: 0.9219 - auc: 0.9858 - val_loss: 0.1212 - val_tp: 62.0000 - val_fp: 1393.0000 - val_tn: 44108.0000 - val_fn: 6.0000 - val_accuracy: 0.9693 - val_precision: 0.0426 - val_recall: 0.9118 - val_auc: 0.9867\n",
            "Epoch 62/1000\n",
            "20/20 [==============================] - 1s 29ms/step - loss: 0.1523 - tp: 18778.0000 - fp: 668.0000 - tn: 19889.0000 - fn: 1625.0000 - accuracy: 0.9440 - precision: 0.9656 - recall: 0.9204 - auc: 0.9858 - val_loss: 0.1194 - val_tp: 62.0000 - val_fp: 1355.0000 - val_tn: 44146.0000 - val_fn: 6.0000 - val_accuracy: 0.9701 - val_precision: 0.0438 - val_recall: 0.9118 - val_auc: 0.9864\n",
            "Epoch 63/1000\n",
            "20/20 [==============================] - 0s 25ms/step - loss: 0.1516 - tp: 18731.0000 - fp: 670.0000 - tn: 19840.0000 - fn: 1719.0000 - accuracy: 0.9417 - precision: 0.9655 - recall: 0.9159 - auc: 0.9861 - val_loss: 0.1189 - val_tp: 62.0000 - val_fp: 1353.0000 - val_tn: 44148.0000 - val_fn: 6.0000 - val_accuracy: 0.9702 - val_precision: 0.0438 - val_recall: 0.9118 - val_auc: 0.9865\n",
            "Epoch 64/1000\n",
            "20/20 [==============================] - 0s 22ms/step - loss: 0.1510 - tp: 18863.0000 - fp: 658.0000 - tn: 19755.0000 - fn: 1684.0000 - accuracy: 0.9428 - precision: 0.9663 - recall: 0.9180 - auc: 0.9862 - val_loss: 0.1194 - val_tp: 62.0000 - val_fp: 1371.0000 - val_tn: 44130.0000 - val_fn: 6.0000 - val_accuracy: 0.9698 - val_precision: 0.0433 - val_recall: 0.9118 - val_auc: 0.9866\n",
            "Epoch 65/1000\n",
            "20/20 [==============================] - 1s 28ms/step - loss: 0.1505 - tp: 18631.0000 - fp: 649.0000 - tn: 20039.0000 - fn: 1641.0000 - accuracy: 0.9441 - precision: 0.9663 - recall: 0.9191 - auc: 0.9863 - val_loss: 0.1180 - val_tp: 62.0000 - val_fp: 1348.0000 - val_tn: 44153.0000 - val_fn: 6.0000 - val_accuracy: 0.9703 - val_precision: 0.0440 - val_recall: 0.9118 - val_auc: 0.9864\n",
            "Epoch 66/1000\n",
            "20/20 [==============================] - 1s 28ms/step - loss: 0.1495 - tp: 18859.0000 - fp: 652.0000 - tn: 19783.0000 - fn: 1666.0000 - accuracy: 0.9434 - precision: 0.9666 - recall: 0.9188 - auc: 0.9866 - val_loss: 0.1195 - val_tp: 62.0000 - val_fp: 1371.0000 - val_tn: 44130.0000 - val_fn: 6.0000 - val_accuracy: 0.9698 - val_precision: 0.0433 - val_recall: 0.9118 - val_auc: 0.9865\n",
            "Epoch 67/1000\n",
            "20/20 [==============================] - 1s 28ms/step - loss: 0.1499 - tp: 18977.0000 - fp: 641.0000 - tn: 19693.0000 - fn: 1649.0000 - accuracy: 0.9441 - precision: 0.9673 - recall: 0.9201 - auc: 0.9866 - val_loss: 0.1204 - val_tp: 62.0000 - val_fp: 1384.0000 - val_tn: 44117.0000 - val_fn: 6.0000 - val_accuracy: 0.9695 - val_precision: 0.0429 - val_recall: 0.9118 - val_auc: 0.9864\n",
            "Epoch 68/1000\n",
            "20/20 [==============================] - 1s 25ms/step - loss: 0.1477 - tp: 18970.0000 - fp: 591.0000 - tn: 19829.0000 - fn: 1570.0000 - accuracy: 0.9472 - precision: 0.9698 - recall: 0.9236 - auc: 0.9871 - val_loss: 0.1205 - val_tp: 62.0000 - val_fp: 1394.0000 - val_tn: 44107.0000 - val_fn: 6.0000 - val_accuracy: 0.9693 - val_precision: 0.0426 - val_recall: 0.9118 - val_auc: 0.9864\n",
            "Epoch 69/1000\n",
            "20/20 [==============================] - 1s 29ms/step - loss: 0.1488 - tp: 18832.0000 - fp: 659.0000 - tn: 19861.0000 - fn: 1608.0000 - accuracy: 0.9447 - precision: 0.9662 - recall: 0.9213 - auc: 0.9867 - val_loss: 0.1183 - val_tp: 62.0000 - val_fp: 1373.0000 - val_tn: 44128.0000 - val_fn: 6.0000 - val_accuracy: 0.9697 - val_precision: 0.0432 - val_recall: 0.9118 - val_auc: 0.9865\n",
            "Epoch 70/1000\n",
            "20/20 [==============================] - 1s 26ms/step - loss: 0.1471 - tp: 18890.0000 - fp: 622.0000 - tn: 19791.0000 - fn: 1657.0000 - accuracy: 0.9444 - precision: 0.9681 - recall: 0.9194 - auc: 0.9873 - val_loss: 0.1191 - val_tp: 62.0000 - val_fp: 1389.0000 - val_tn: 44112.0000 - val_fn: 6.0000 - val_accuracy: 0.9694 - val_precision: 0.0427 - val_recall: 0.9118 - val_auc: 0.9864\n",
            "Epoch 71/1000\n",
            "19/20 [===========================>..] - ETA: 0s - loss: 0.1472 - tp: 17851.0000 - fp: 590.0000 - tn: 18992.0000 - fn: 1479.0000 - accuracy: 0.9468 - precision: 0.9680 - recall: 0.9235 - auc: 0.9873Restoring model weights from the end of the best epoch.\n",
            "20/20 [==============================] - 1s 29ms/step - loss: 0.1469 - tp: 18794.0000 - fp: 620.0000 - tn: 19990.0000 - fn: 1556.0000 - accuracy: 0.9469 - precision: 0.9681 - recall: 0.9235 - auc: 0.9873 - val_loss: 0.1186 - val_tp: 62.0000 - val_fp: 1379.0000 - val_tn: 44122.0000 - val_fn: 6.0000 - val_accuracy: 0.9696 - val_precision: 0.0430 - val_recall: 0.9118 - val_auc: 0.9864\n",
            "Epoch 00071: early stopping\n"
          ],
          "name": "stdout"
        }
      ]
    },
    {
      "cell_type": "code",
      "metadata": {
        "colab_type": "code",
        "id": "FMycrpJwn39w",
        "outputId": "f8be0ceb-301e-4b1f-c582-012291c47ecc",
        "colab": {
          "base_uri": "https://localhost:8080/",
          "height": 609
        }
      },
      "source": [
        "plot_metrics(resampled_history)"
      ],
      "execution_count": 48,
      "outputs": [
        {
          "output_type": "display_data",
          "data": {
            "image/png": "[encoded data removed]",
            "text/plain": [
              "<Figure size 864x720 with 4 Axes>"
            ]
          },
          "metadata": {
            "tags": []
          }
        }
      ]
    },
    {
      "cell_type": "code",
      "metadata": {
        "colab_type": "code",
        "id": "C0fmHSgXxFdW",
        "colab": {}
      },
      "source": [
        "train_predictions_resampled = resampled_model.predict(train_features, batch_size=BATCH_SIZE)\n",
        "test_predictions_resampled = resampled_model.predict(test_features, batch_size=BATCH_SIZE)"
      ],
      "execution_count": 0,
      "outputs": []
    },
    {
      "cell_type": "code",
      "metadata": {
        "colab_type": "code",
        "id": "FO0mMOYUDWFk",
        "outputId": "50e63c99-51a4-4d03-f144-373344425c50",
        "colab": {
          "base_uri": "https://localhost:8080/",
          "height": 1000
        }
      },
      "source": [
        "resampled_results = resampled_model.evaluate(test_features, test_labels,\n",
        "                                             batch_size=BATCH_SIZE, verbose=0)\n",
        "for name, value in zip(resampled_model.metrics_names, resampled_results):\n",
        "  print(name, ': ', value)\n",
        "print()\n",
        "\n",
        "plot_cm(test_labels, test_predictions_resampled)\n",
        "\n",
        "weights1 = resampled_model.layers[0].get_weights()[0]\n",
        "biases1 = resampled_model.layers[0].get_weights()[1]\n",
        "weights2 = resampled_model.layers[1].get_weights()[0]\n",
        "biases2 = resampled_model.layers[1].get_weights()[1]\n",
        "\n",
        "# with np.printoptions(precision=16, suppress=True):\n",
        "#     print(weights1)\n",
        "\n",
        "# print(weights1)\n",
        "# print(biases1)\n",
        "# print(weights2)\n",
        "# print(biases2)"
      ],
      "execution_count": 50,
      "outputs": [
        {
          "output_type": "stream",
          "text": [
            "loss :  0.12061356753110886\n",
            "tp :  93.0\n",
            "fp :  1742.0\n",
            "tn :  55117.0\n",
            "fn :  10.0\n",
            "accuracy :  0.9692426323890686\n",
            "precision :  0.05068119987845421\n",
            "recall :  0.9029126167297363\n",
            "auc :  0.9784748554229736\n",
            "\n",
            "Legitimate Transactions Detected (True Negatives):  55117\n",
            "Legitimate Transactions Incorrectly Detected (False Positives):  1742\n",
            "Fraudulent Transactions Missed (False Negatives):  10\n",
            "Fraudulent Transactions Detected (True Positives):  93\n",
            "Total Fraudulent Transactions:  103\n",
            "[[-0.500355      0.052134015  -0.53797126   -0.13332993    0.13807689\n",
            "   0.03938306    0.40938547    0.54872924    0.26085943    0.13983363\n",
            "  -0.028105136   0.36844173   -0.0860734     0.39938962    0.22456956\n",
            "   0.11929272    0.5582624     0.359121     -0.45654905   -0.32954034\n",
            "   0.43139017   -0.020402692  -0.055294164  -0.38100886    0.43132618\n",
            "   0.12053508    0.12282997    0.14465494   -0.12830819  ]\n",
            " [-0.291461      0.3143248     0.024856996  -0.3189144     0.33814082\n",
            "   0.15954658    0.0016401135  0.36256126   -0.24787223    0.40915465\n",
            "   0.28470182    0.001379961  -0.088097945  -0.2379564    -0.09437604\n",
            "  -0.21122701   -0.3201098    -0.18886599    0.07215653   -0.15160932\n",
            "  -0.09227131   -0.027061194  -0.33320892    0.25930214    0.1502313\n",
            "  -0.10870581   -0.17301534   -0.008551401  -0.31394896  ]\n",
            " [-0.5654235    -0.34434184   -0.18885578   -0.04005671    0.20597489\n",
            "  -0.58613515    0.2942772    -0.032641597   0.3282442     0.64544684\n",
            "   0.50351554    0.1302808    -0.43256417    0.081632495   0.0867796\n",
            "  -0.18079972    0.48171383    0.023471389  -0.4556665     0.0024357461\n",
            "   0.6329548     0.10969154   -0.22435327   -0.32781973    0.5271628\n",
            "   0.42569244   -0.3936497     0.033702716  -0.65501314  ]\n",
            " [ 0.7042403     0.55264586    0.2794808     0.7415366    -0.57944757\n",
            "   0.30153543   -0.37702954   -0.200611     -0.48694873   -0.91995895\n",
            "  -0.71218604   -0.47565392    0.8182977    -0.82226753   -0.88243663\n",
            "   0.4798151    -0.46778157   -0.4948794     0.4207972     0.630697\n",
            "  -0.26687503    0.26534232    0.8530753     0.23614374   -0.47725087\n",
            "  -0.6681119     0.2790091    -0.5900054     0.9153458   ]\n",
            " [ 0.030770112   0.074517414  -0.07452124    0.2502427    -0.13671781\n",
            "   0.24438825   -0.32954752    0.39981422   -0.19290338   -0.43080822\n",
            "   0.108326934  -0.05224821   -0.19740538    0.2028691     0.28999224\n",
            "  -0.18137908   -0.15781374    0.10270619   -0.25595173   -0.32260522\n",
            "  -0.069338374  -0.0114682745  0.032377206  -0.2831811     0.23004024\n",
            "   0.23757215   -0.12300078    0.26540422    0.4010879   ]\n",
            " [ 0.31582364   -0.18272705    0.19570364    0.06875566   -0.2550449\n",
            "   0.06721333   -0.34224728   -0.02807213    0.07209638   -0.054325864\n",
            "   0.041902505   0.10708983   -0.24403445    0.2657361     0.07701848\n",
            "   0.29817757   -0.10109919   -0.22566985    0.26535967   -0.35015103\n",
            "  -0.30166745   -0.3052209    -0.14772706   -0.22949238    0.000264796\n",
            "  -0.01723109   -0.019046549  -0.19556305    0.14962938  ]\n",
            " [-0.0442635    -0.15846461   -0.012532456  -0.23100504   -0.015153508\n",
            "  -0.4245519     0.056011803   0.25044754    0.07555219    0.20449536\n",
            "  -0.019888712  -0.005884083  -0.108425066  -0.037476663   0.024047596\n",
            "  -0.13105612   -0.17735544    0.23790064   -0.06934444    0.20956808\n",
            "  -0.1011874    -0.10388179   -0.11261132   -0.28020522    0.03283356\n",
            "   0.31711313   -0.19355676    0.18420766   -0.27705237  ]\n",
            " [-0.43723753   -0.44462734   -0.6280644     0.0031712335  0.23789337\n",
            "  -0.50209004    0.15228696    0.28958118    0.48863006    0.33925602\n",
            "   0.2818752     0.30865103   -0.093458965   0.70149827    0.87860864\n",
            "  -0.3210385     0.4035302     0.34210637   -0.76619565   -0.16422893\n",
            "   0.31295297   -0.24158259   -0.51581806   -0.44706458    0.3604658\n",
            "   0.24900542   -0.4554597     0.43798864   -0.3982658   ]\n",
            " [-0.028553488  -0.21294127   -0.34945443    0.051094238   0.028607499\n",
            "  -0.18005258    0.3100492     0.48445567    0.08926423    0.47602862\n",
            "  -0.07968221   -0.13133833    0.16118224    0.25521898    0.43470398\n",
            "  -0.23505451    0.26389968    0.035437923  -0.36807236    0.028675044\n",
            "   0.06652383   -0.3945395    -0.34208465    0.04654827    0.23402838\n",
            "  -0.12454219   -0.073671356   0.37954035   -0.3692756   ]\n",
            " [-0.51423967   -0.047699083  -0.51926464    0.1623403     0.29307118\n",
            "  -0.30714202    0.40519202    0.39651862    0.4972981    -0.13113347\n",
            "   0.45366454    0.2142943    -0.15973821    0.22667131    0.51709014\n",
            "  -0.20648213    0.525614      0.17220809   -0.53552735   -0.2030931\n",
            "   0.53150266   -0.148176     -0.08618378   -0.47879827   -0.0024454272\n",
            "   0.42985794   -0.055548932  -0.0022102483 -0.032657478 ]\n",
            " [ 0.0032486594 -0.15362608    0.43699074    0.3910106     0.012643346\n",
            "   0.40895033   -0.35098365   -0.03771147   -0.2273356    -0.5379901\n",
            "  -0.31059045   -0.11777112    0.20591232    0.031592846  -0.30372795\n",
            "   0.3665084    -0.03361795   -0.09202212    0.4482075     0.046867132\n",
            "  -0.2464488    -0.09704834    0.38990045    0.2352086    -0.24740325\n",
            "   0.019395057   0.12868923   -0.08183111    0.18204552  ]\n",
            " [-0.5513853    -0.18761271   -0.5011682    -0.47068867    0.44848323\n",
            "  -0.57655954    0.5616701     0.2994431     0.23011506    0.80821073\n",
            "   0.5987422     0.63942176   -0.11341349    0.39298475    0.23358856\n",
            "  -0.5184658     0.6904533     0.6084045    -0.39637065   -0.52580386\n",
            "   0.6420563    -0.58001316   -0.55212146   -0.18619102    0.6548961\n",
            "   0.4062858    -0.49103066    0.32080287   -0.87831414  ]\n",
            " [ 0.49237084    0.51790106   -0.0027352218  0.018556768   0.16760674\n",
            "   0.30017322    0.30045176    0.78213704   -0.35302657    0.57608765\n",
            "  -0.14766735   -0.06952254    0.11150978   -0.15731718    0.07660502\n",
            "  -0.31476855   -0.20220035   -0.16349305   -0.07132126    0.27030998\n",
            "   0.09879118    0.19448787    0.044920627   0.14960416    0.36563054\n",
            "  -0.12548883    0.38161242   -0.3488108    -0.7512764   ]\n",
            " [-0.35112667   -0.15598267   -0.4641315    -0.2875398     0.38730037\n",
            "  -0.15951028    0.61647785    0.51240766    0.6683022     0.61191267\n",
            "   0.54183877    0.6268612    -0.6467589     0.3668982     0.6306103\n",
            "  -0.385053      0.22657822    0.6076156    -0.7453301    -0.2424411\n",
            "   0.45538506    0.03823299   -0.32954532   -0.33604798    0.415463\n",
            "   0.31427228   -0.50550306    0.6924942    -0.57417184  ]\n",
            " [ 0.032332204   0.066709876  -0.11306867   -0.09582606    0.1634228\n",
            "  -0.30832118    0.26869822   -0.8345003    -0.3138283     1.24248\n",
            "  -0.008207441  -0.025418587  -0.1593236    -0.029757803  -0.03401331\n",
            "  -0.40593302   -0.05757182    0.1394701     0.17491841    0.19821054\n",
            "  -0.04735748    0.19987155   -0.38959768    0.44097733    0.5510036\n",
            "  -0.038509738  -0.019856405  -0.19643229   -0.8763695   ]\n",
            " [-0.26788193   -0.37872365   -0.28415567    0.12580313    0.02850551\n",
            "  -0.07387294    0.4196147     0.05810804    0.14043738   -0.05093219\n",
            "  -0.10762033    0.3452371    -0.49302927    0.4940513     0.5551872\n",
            "   0.0037866589  0.418341      0.07462871   -0.22028151    0.13601997\n",
            "  -0.06567313    0.04547522   -0.27438062   -0.06114481    0.13497508\n",
            "  -0.03408094   -0.40615496    0.009508579  -0.2598316   ]\n",
            " [-0.32845673    0.14879039   -0.2648807     0.09945311   -0.036376674\n",
            "   0.1536056    -0.35152915    0.41236576   -0.06498378   -0.06960924\n",
            "   0.06273191   -0.059892453  -0.10986649    0.35926557    0.35640574\n",
            "  -0.063189395  -0.16169377    0.21460992   -0.04742896   -0.20329632\n",
            "   0.052607358  -0.016250191  -0.22304542   -0.049718127   0.10085087\n",
            "   0.20230173   -0.044024713   0.107576475   0.17641078  ]\n",
            " [ 0.30219218    0.23899865   -0.117362924   0.11200301    0.27776834\n",
            "  -0.31669748   -0.17588086   -0.10590427   -0.2448784    -0.12155736\n",
            "  -0.031901665  -0.29639053   -0.11894887   -0.363499      0.075601384\n",
            "  -0.22643948   -0.33926585   -0.06627384    0.32071716    0.06153836\n",
            "   0.2106908    -0.16743691    0.16414025   -0.14783601   -0.06501055\n",
            "  -0.21778037    0.2528143    -0.0721622    -0.10976934  ]\n",
            " [-0.06408673   -0.074121736  -0.1500365    -0.18522972   -0.12001694\n",
            "   0.26124015   -0.01720482   -0.4633184     0.27781713    0.4336739\n",
            "  -0.058774576   0.23031285   -0.14262836    0.27203164    0.20302056\n",
            "  -0.16120374   -0.12267816   -0.24406344    0.17570375   -0.03843663\n",
            "  -0.008584814   0.19095634   -0.15800366    0.10836029    0.15919147\n",
            "   0.1338302     0.35533985    0.032064214  -0.40640065  ]\n",
            " [-0.035125427  -0.088704124  -0.20569299    0.027203763   0.15572153\n",
            "  -0.26075462   -0.07472488   -0.27230155    0.0077666817  0.10871875\n",
            "  -0.045553803  -0.17089425   -0.24882953   -0.001875977   0.08426033\n",
            "  -0.3987329    -0.21032158    0.24445517    0.06514973   -0.25121516\n",
            "  -0.17329396    0.1368024     0.0069264756  0.20014629    0.18880314\n",
            "  -0.018737847  -0.1744853    -0.2738069    -0.013133597 ]\n",
            " [ 0.15852751    0.18824473    0.44839534    0.110813975  -0.11422745\n",
            "  -0.11062373   -0.35566604   -0.12992087   -0.19569518   -0.2674909\n",
            "  -0.41108602    0.07174802    0.36595118   -0.38038513   -0.17463171\n",
            "  -0.14634217    0.008210759  -0.2645528     0.43702492    0.054331478\n",
            "  -0.5028139     0.353088      0.25477296   -0.08905185   -0.41935858\n",
            "   0.058453053  -0.12447674   -0.22296613    0.12384055  ]\n",
            " [ 0.12809385    0.37153578    0.050084528  -0.19205129    0.29990867\n",
            "  -0.08701186   -0.12606598   -0.04273878   -0.52757156    0.6239163\n",
            "  -0.0773141    -0.3870711     0.03429763    0.059794463  -0.14985536\n",
            "  -0.10686386   -0.49621788   -0.21358174    0.080249354   0.11608551\n",
            "  -0.22888626    0.23721497   -0.15247634   -0.24326436    0.2749164\n",
            "  -0.17350814   -0.13337426   -0.14729851   -0.49483758  ]\n",
            " [ 0.10801264   -0.51122075    0.4078776    -0.07247972   -0.02021462\n",
            "   0.11320519   -0.13992265    0.25855       0.17107946   -0.836927\n",
            "  -0.34628662    0.211709      0.46273205   -0.14499398   -0.33852422\n",
            "  -0.17856601    0.086953886   0.14748242    0.17263003   -0.22790271\n",
            "  -0.4662913    -0.14654797    0.34458962    0.30780897   -0.731846\n",
            "   0.05612571   -0.24712114   -0.018241871   0.6983613   ]\n",
            " [ 0.1754539     0.088994965  -0.14793047    0.054594      0.18369272\n",
            "   0.10621463   -0.45909566   -0.33972394    0.03619563   -0.19327874\n",
            "   0.012694982  -0.09216288    0.10042836   -0.17652643   -0.107121445\n",
            "  -0.4770953    -0.20919661    0.09647741    0.18788284    0.05734329\n",
            "   0.13814694    0.21257904   -0.10537936    0.20937218    0.35670328\n",
            "  -0.10630737   -0.0036653145 -0.176061     -0.02278027  ]\n",
            " [ 0.45143533    0.34236044    0.2312776    -0.3957011    -0.06192858\n",
            "  -0.082442686   0.10893392   -0.64989185   -0.031065872   1.0289886\n",
            "   0.16246493   -0.008585685   0.15386829   -0.057197396  -0.1609154\n",
            "   0.18029441   -0.018816931  -0.20422049    0.0067447512  0.01709735\n",
            "   0.21646582    0.15029003   -0.051776506   0.22867401   -0.08290073\n",
            "   0.17464054    0.21292348   -0.26096302   -0.52587754  ]\n",
            " [-0.44486254   -0.52666366   -0.40479976    0.38580805   -0.36562058\n",
            "  -0.23990463    0.07692761    0.057559136   0.64818394   -0.74339944\n",
            "   0.15676752    0.09358488   -0.647286      0.19858813    0.5769795\n",
            "   0.39925134    0.7314097     0.042681657  -0.45160508   -0.11423837\n",
            "   0.069175094  -0.11268661   -0.039835047  -0.22338949   -0.22989391\n",
            "   0.21257004    0.027102126   0.30190152    0.6293482   ]\n",
            " [ 0.16722107    0.08069245    0.11301004    0.12166897    0.17146088\n",
            "  -0.07246221   -0.1120271     0.16512917   -0.26629913    0.578623\n",
            "  -0.073045224  -0.12268512   -0.15002798   -0.29602918   -0.078437105\n",
            "   0.20346768   -0.15144716   -0.113145135  -0.15110792    0.26233515\n",
            "  -0.13368842    0.3460644     0.06433198   -0.039646     -0.1911137\n",
            "  -0.099469006   0.34983626   -0.028722435  -0.5870789   ]\n",
            " [ 0.20283383    0.03886386    0.13430764   -0.014810575  -0.3028361\n",
            "   0.20865215    0.05678956    0.11931418    0.285932     -0.043751094\n",
            "   0.040416326   0.15431863   -0.12268939   -0.007980083  -0.2428495\n",
            "  -0.15221454   -0.12564962   -0.04033278   -0.0474275     0.26747927\n",
            "  -0.38285476   -0.19999807    0.04828293    0.45098296   -0.06449609\n",
            "   0.024728063   0.21976018   -0.11837054    0.14515841  ]\n",
            " [-0.35219887   -0.02621985   -0.32704514   -0.066739194  -0.36588687\n",
            "  -0.17858794   -0.25927773    0.58592063    0.0694045    -0.5327034\n",
            "   0.14137942   -0.007601824  -0.51097554    0.21444362    0.49789673\n",
            "   0.38660267    0.37288103    0.60145015   -0.5681695    -0.38888055\n",
            "   0.002296901   0.07778705    0.012448124  -0.28107318   -0.19060421\n",
            "   0.31624255   -0.024335217   0.2181057     0.6202613   ]]\n"
          ],
          "name": "stdout"
        },
        {
          "output_type": "display_data",
          "data": {
            "image/png": "[encoded data removed]",
            "text/plain": [
              "<Figure size 360x360 with 2 Axes>"
            ]
          },
          "metadata": {
            "tags": []
          }
        }
      ]
    },
    {
      "cell_type": "code",
      "metadata": {
        "colab_type": "code",
        "id": "fye_CiuYrZ1U",
        "outputId": "fa69c2b8-de09-4ec2-9ccf-9c6315f5271b",
        "colab": {
          "base_uri": "https://localhost:8080/",
          "height": 623
        }
      },
      "source": [
        "plot_roc(\"Train Resampled\", train_labels, train_predictions_resampled,  color=colors[2])\n",
        "plot_roc(\"Test Resampled\", test_labels, test_predictions_resampled,  color=colors[2], linestyle='--')\n",
        "plt.legend(loc='lower right')"
      ],
      "execution_count": 51,
      "outputs": [
        {
          "output_type": "execute_result",
          "data": {
            "text/plain": [
              "<matplotlib.legend.Legend at 0x7f48f5cb6d30>"
            ]
          },
          "metadata": {
            "tags": []
          },
          "execution_count": 51
        },
        {
          "output_type": "display_data",
          "data": {
            "image/png": "[encoded data removed]",
            "text/plain": [
              "<Figure size 864x720 with 1 Axes>"
            ]
          },
          "metadata": {
            "tags": []
          }
        }
      ]
    },
    {
      "cell_type": "markdown",
      "metadata": {
        "id": "XJFMPVRhGTq5",
        "colab_type": "text"
      },
      "source": [
        "Save Model and Weights/Biases to CSV"
      ]
    },
    {
      "cell_type": "code",
      "metadata": {
        "id": "DMvNOkohWeUX",
        "colab_type": "code",
        "outputId": "4885d161-3b03-4869-d2fd-dd82e53a0e05",
        "colab": {
          "base_uri": "https://localhost:8080/",
          "height": 67
        }
      },
      "source": [
        "!pip install h5py"
      ],
      "execution_count": 52,
      "outputs": [
        {
          "output_type": "stream",
          "text": [
            "Requirement already satisfied: h5py in /usr/local/lib/python3.6/dist-packages (2.10.0)\n",
            "Requirement already satisfied: numpy>=1.7 in /usr/local/lib/python3.6/dist-packages (from h5py) (1.18.2)\n",
            "Requirement already satisfied: six in /usr/local/lib/python3.6/dist-packages (from h5py) (1.12.0)\n"
          ],
          "name": "stdout"
        }
      ]
    },
    {
      "cell_type": "code",
      "metadata": {
        "id": "TdFdHTsSFI7N",
        "colab_type": "code",
        "outputId": "ef3bd7d0-1a7e-441d-a0f8-810d79f5dc91",
        "colab": {
          "base_uri": "https://localhost:8080/",
          "height": 34
        }
      },
      "source": [
        "# serialize model to JSON\n",
        "model_json = resampled_model.to_json()\n",
        "with open(\"model2.json\", \"w\") as json_file:\n",
        "  json_file.write(model_json)\n",
        "# serialize weights to HDF5\n",
        "resampled_model.save_weights(\"model2.h5\")\n",
        "print(\"Saved model to disk\")"
      ],
      "execution_count": 53,
      "outputs": [
        {
          "output_type": "stream",
          "text": [
            "Saved model to disk\n"
          ],
          "name": "stdout"
        }
      ]
    },
    {
      "cell_type": "code",
      "metadata": {
        "id": "Ews-1304FUt_",
        "colab_type": "code",
        "outputId": "5ff280f6-3735-47be-9721-c953bbc3b665",
        "colab": {
          "base_uri": "https://localhost:8080/",
          "height": 34
        }
      },
      "source": [
        "from keras.models import model_from_json"
      ],
      "execution_count": 54,
      "outputs": [
        {
          "output_type": "stream",
          "text": [
            "Using TensorFlow backend.\n"
          ],
          "name": "stderr"
        }
      ]
    },
    {
      "cell_type": "code",
      "metadata": {
        "id": "7gF-Joe6EUa5",
        "colab_type": "code",
        "outputId": "f37b12ea-fc53-4fdf-ef06-14fe40d95fb3",
        "colab": {
          "base_uri": "https://localhost:8080/",
          "height": 34
        }
      },
      "source": [
        "# load json and create model\n",
        "json_file = open('model2.json', 'r')\n",
        "loaded_model_json = json_file.read()\n",
        "json_file.close()\n",
        "# loaded_model = model_from_json(loaded_model_json, custom_objects={'test2': test2})\n",
        "loaded_model = make_model()\n",
        "# load weights into new model\n",
        "loaded_model.load_weights(\"model2.h5\")\n",
        "print(\"Loaded model from disk\")"
      ],
      "execution_count": 55,
      "outputs": [
        {
          "output_type": "stream",
          "text": [
            "Loaded model from disk\n"
          ],
          "name": "stdout"
        }
      ]
    },
    {
      "cell_type": "code",
      "metadata": {
        "id": "WXsUKwPeH3Lt",
        "colab_type": "code",
        "outputId": "94f7c9af-2212-4a90-9b61-b641c4171504",
        "colab": {
          "base_uri": "https://localhost:8080/",
          "height": 602
        }
      },
      "source": [
        "# Test load\n",
        "\n",
        "train_predictions_resampled = loaded_model.predict(train_features, batch_size=BATCH_SIZE)\n",
        "test_predictions_resampled = loaded_model.predict(test_features, batch_size=BATCH_SIZE)\n",
        "\n",
        "resampled_results = loaded_model.evaluate(test_features, test_labels,\n",
        "                                             batch_size=BATCH_SIZE, verbose=0)\n",
        "for name, value in zip(loaded_model.metrics_names, resampled_results):\n",
        "  print(name, ': ', value)\n",
        "print()\n",
        "\n",
        "plot_cm(test_labels, test_predictions_resampled)"
      ],
      "execution_count": 56,
      "outputs": [
        {
          "output_type": "stream",
          "text": [
            "loss :  0.12061356753110886\n",
            "tp :  186.0\n",
            "fp :  3484.0\n",
            "tn :  110234.0\n",
            "fn :  20.0\n",
            "accuracy :  0.9692426323890686\n",
            "precision :  0.05068119987845421\n",
            "recall :  0.9029126167297363\n",
            "auc :  0.9784748554229736\n",
            "\n",
            "Legitimate Transactions Detected (True Negatives):  55117\n",
            "Legitimate Transactions Incorrectly Detected (False Positives):  1742\n",
            "Fraudulent Transactions Missed (False Negatives):  10\n",
            "Fraudulent Transactions Detected (True Positives):  93\n",
            "Total Fraudulent Transactions:  103\n"
          ],
          "name": "stdout"
        },
        {
          "output_type": "display_data",
          "data": {
            "image/png": "[encoded data removed]",
            "text/plain": [
              "<Figure size 360x360 with 2 Axes>"
            ]
          },
          "metadata": {
            "tags": []
          }
        }
      ]
    },
    {
      "cell_type": "code",
      "metadata": {
        "id": "UusckmmkIZaR",
        "colab_type": "code",
        "colab": {}
      },
      "source": [
        "# Retrieve Weights\n",
        "\n",
        "weights1 = loaded_model.layers[0].get_weights()[0]\n",
        "biases1 = loaded_model.layers[0].get_weights()[1]\n",
        "weights2 = loaded_model.layers[1].get_weights()[0]\n",
        "biases2 = loaded_model.layers[1].get_weights()[1]\n",
        "\n",
        "np.savetxt('weights1.csv', weights1, delimiter=',')\n",
        "np.savetxt('biases1.csv', biases1, delimiter=',')\n",
        "np.savetxt('weights2.csv', weights2, delimiter=',')\n",
        "np.savetxt('biases2.csv', biases2, delimiter=',')"
      ],
      "execution_count": 0,
      "outputs": []
    }
  ]
}