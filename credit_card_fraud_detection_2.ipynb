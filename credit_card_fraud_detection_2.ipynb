{
  "nbformat": 4,
  "nbformat_minor": 0,
  "metadata": {
    "colab": {
      "name": "credit-card-fraud-detection-2.ipynb",
      "provenance": [],
      "collapsed_sections": [],
      "toc_visible": true
    },
    "kernelspec": {
      "name": "python3",
      "display_name": "Python 3"
    },
    "accelerator": "GPU"
  },
  "cells": [
    {
      "cell_type": "code",
      "metadata": {
        "colab_type": "code",
        "id": "yJHVo_K_v20i",
        "colab": {}
      },
      "source": [
        "from __future__ import absolute_import, division, print_function, unicode_literals"
      ],
      "execution_count": 0,
      "outputs": []
    },
    {
      "cell_type": "code",
      "metadata": {
        "colab_type": "code",
        "id": "fYBlUQ5FvzxP",
        "colab": {}
      },
      "source": [
        "try:\n",
        "  # %tensorflow_version only exists in Colab.\n",
        "  %tensorflow_version 2.x\n",
        "except Exception:\n",
        "  pass"
      ],
      "execution_count": 0,
      "outputs": []
    },
    {
      "cell_type": "code",
      "metadata": {
        "colab_type": "code",
        "id": "JM7hDSNClfoK",
        "colab": {}
      },
      "source": [
        "import tensorflow as tf\n",
        "from tensorflow import keras\n",
        "\n",
        "import os\n",
        "import tempfile\n",
        "\n",
        "import matplotlib as mpl\n",
        "import matplotlib.pyplot as plt\n",
        "import numpy as np\n",
        "import pandas as pd\n",
        "import seaborn as sns\n",
        "\n",
        "import math\n",
        "\n",
        "import sklearn\n",
        "from sklearn.metrics import confusion_matrix\n",
        "from sklearn.model_selection import train_test_split\n",
        "from sklearn.preprocessing import StandardScaler"
      ],
      "execution_count": 0,
      "outputs": []
    },
    {
      "cell_type": "markdown",
      "metadata": {
        "id": "fWwLCJrgF5nQ",
        "colab_type": "text"
      },
      "source": [
        "Import and Preprocess datset"
      ]
    },
    {
      "cell_type": "code",
      "metadata": {
        "colab_type": "code",
        "id": "c8o1FHzD-_y_",
        "colab": {}
      },
      "source": [
        "mpl.rcParams['figure.figsize'] = (12, 10)\n",
        "colors = plt.rcParams['axes.prop_cycle'].by_key()['color']"
      ],
      "execution_count": 0,
      "outputs": []
    },
    {
      "cell_type": "code",
      "metadata": {
        "colab_type": "code",
        "id": "pR_SnbMArXr7",
        "outputId": "e2f33ec6-f592-4905-e0fe-23cc482f241d",
        "colab": {
          "base_uri": "https://localhost:8080/",
          "height": 215
        }
      },
      "source": [
        "file = tf.keras.utils\n",
        "raw_df = pd.read_csv('https://storage.googleapis.com/download.tensorflow.org/data/creditcard.csv')\n",
        "raw_df.head()"
      ],
      "execution_count": 62,
      "outputs": [
        {
          "output_type": "execute_result",
          "data": {
            "text/html": [
              "<div>\n",
              "<style scoped>\n",
              "    .dataframe tbody tr th:only-of-type {\n",
              "        vertical-align: middle;\n",
              "    }\n",
              "\n",
              "    .dataframe tbody tr th {\n",
              "        vertical-align: top;\n",
              "    }\n",
              "\n",
              "    .dataframe thead th {\n",
              "        text-align: right;\n",
              "    }\n",
              "</style>\n",
              "<table border=\"1\" class=\"dataframe\">\n",
              "  <thead>\n",
              "    <tr style=\"text-align: right;\">\n",
              "      <th></th>\n",
              "      <th>Time</th>\n",
              "      <th>V1</th>\n",
              "      <th>V2</th>\n",
              "      <th>V3</th>\n",
              "      <th>V4</th>\n",
              "      <th>V5</th>\n",
              "      <th>V6</th>\n",
              "      <th>V7</th>\n",
              "      <th>V8</th>\n",
              "      <th>V9</th>\n",
              "      <th>V10</th>\n",
              "      <th>V11</th>\n",
              "      <th>V12</th>\n",
              "      <th>V13</th>\n",
              "      <th>V14</th>\n",
              "      <th>V15</th>\n",
              "      <th>V16</th>\n",
              "      <th>V17</th>\n",
              "      <th>V18</th>\n",
              "      <th>V19</th>\n",
              "      <th>V20</th>\n",
              "      <th>V21</th>\n",
              "      <th>V22</th>\n",
              "      <th>V23</th>\n",
              "      <th>V24</th>\n",
              "      <th>V25</th>\n",
              "      <th>V26</th>\n",
              "      <th>V27</th>\n",
              "      <th>V28</th>\n",
              "      <th>Amount</th>\n",
              "      <th>Class</th>\n",
              "    </tr>\n",
              "  </thead>\n",
              "  <tbody>\n",
              "    <tr>\n",
              "      <th>0</th>\n",
              "      <td>0.0</td>\n",
              "      <td>-1.359807</td>\n",
              "      <td>-0.072781</td>\n",
              "      <td>2.536347</td>\n",
              "      <td>1.378155</td>\n",
              "      <td>-0.338321</td>\n",
              "      <td>0.462388</td>\n",
              "      <td>0.239599</td>\n",
              "      <td>0.098698</td>\n",
              "      <td>0.363787</td>\n",
              "      <td>0.090794</td>\n",
              "      <td>-0.551600</td>\n",
              "      <td>-0.617801</td>\n",
              "      <td>-0.991390</td>\n",
              "      <td>-0.311169</td>\n",
              "      <td>1.468177</td>\n",
              "      <td>-0.470401</td>\n",
              "      <td>0.207971</td>\n",
              "      <td>0.025791</td>\n",
              "      <td>0.403993</td>\n",
              "      <td>0.251412</td>\n",
              "      <td>-0.018307</td>\n",
              "      <td>0.277838</td>\n",
              "      <td>-0.110474</td>\n",
              "      <td>0.066928</td>\n",
              "      <td>0.128539</td>\n",
              "      <td>-0.189115</td>\n",
              "      <td>0.133558</td>\n",
              "      <td>-0.021053</td>\n",
              "      <td>149.62</td>\n",
              "      <td>0</td>\n",
              "    </tr>\n",
              "    <tr>\n",
              "      <th>1</th>\n",
              "      <td>0.0</td>\n",
              "      <td>1.191857</td>\n",
              "      <td>0.266151</td>\n",
              "      <td>0.166480</td>\n",
              "      <td>0.448154</td>\n",
              "      <td>0.060018</td>\n",
              "      <td>-0.082361</td>\n",
              "      <td>-0.078803</td>\n",
              "      <td>0.085102</td>\n",
              "      <td>-0.255425</td>\n",
              "      <td>-0.166974</td>\n",
              "      <td>1.612727</td>\n",
              "      <td>1.065235</td>\n",
              "      <td>0.489095</td>\n",
              "      <td>-0.143772</td>\n",
              "      <td>0.635558</td>\n",
              "      <td>0.463917</td>\n",
              "      <td>-0.114805</td>\n",
              "      <td>-0.183361</td>\n",
              "      <td>-0.145783</td>\n",
              "      <td>-0.069083</td>\n",
              "      <td>-0.225775</td>\n",
              "      <td>-0.638672</td>\n",
              "      <td>0.101288</td>\n",
              "      <td>-0.339846</td>\n",
              "      <td>0.167170</td>\n",
              "      <td>0.125895</td>\n",
              "      <td>-0.008983</td>\n",
              "      <td>0.014724</td>\n",
              "      <td>2.69</td>\n",
              "      <td>0</td>\n",
              "    </tr>\n",
              "    <tr>\n",
              "      <th>2</th>\n",
              "      <td>1.0</td>\n",
              "      <td>-1.358354</td>\n",
              "      <td>-1.340163</td>\n",
              "      <td>1.773209</td>\n",
              "      <td>0.379780</td>\n",
              "      <td>-0.503198</td>\n",
              "      <td>1.800499</td>\n",
              "      <td>0.791461</td>\n",
              "      <td>0.247676</td>\n",
              "      <td>-1.514654</td>\n",
              "      <td>0.207643</td>\n",
              "      <td>0.624501</td>\n",
              "      <td>0.066084</td>\n",
              "      <td>0.717293</td>\n",
              "      <td>-0.165946</td>\n",
              "      <td>2.345865</td>\n",
              "      <td>-2.890083</td>\n",
              "      <td>1.109969</td>\n",
              "      <td>-0.121359</td>\n",
              "      <td>-2.261857</td>\n",
              "      <td>0.524980</td>\n",
              "      <td>0.247998</td>\n",
              "      <td>0.771679</td>\n",
              "      <td>0.909412</td>\n",
              "      <td>-0.689281</td>\n",
              "      <td>-0.327642</td>\n",
              "      <td>-0.139097</td>\n",
              "      <td>-0.055353</td>\n",
              "      <td>-0.059752</td>\n",
              "      <td>378.66</td>\n",
              "      <td>0</td>\n",
              "    </tr>\n",
              "    <tr>\n",
              "      <th>3</th>\n",
              "      <td>1.0</td>\n",
              "      <td>-0.966272</td>\n",
              "      <td>-0.185226</td>\n",
              "      <td>1.792993</td>\n",
              "      <td>-0.863291</td>\n",
              "      <td>-0.010309</td>\n",
              "      <td>1.247203</td>\n",
              "      <td>0.237609</td>\n",
              "      <td>0.377436</td>\n",
              "      <td>-1.387024</td>\n",
              "      <td>-0.054952</td>\n",
              "      <td>-0.226487</td>\n",
              "      <td>0.178228</td>\n",
              "      <td>0.507757</td>\n",
              "      <td>-0.287924</td>\n",
              "      <td>-0.631418</td>\n",
              "      <td>-1.059647</td>\n",
              "      <td>-0.684093</td>\n",
              "      <td>1.965775</td>\n",
              "      <td>-1.232622</td>\n",
              "      <td>-0.208038</td>\n",
              "      <td>-0.108300</td>\n",
              "      <td>0.005274</td>\n",
              "      <td>-0.190321</td>\n",
              "      <td>-1.175575</td>\n",
              "      <td>0.647376</td>\n",
              "      <td>-0.221929</td>\n",
              "      <td>0.062723</td>\n",
              "      <td>0.061458</td>\n",
              "      <td>123.50</td>\n",
              "      <td>0</td>\n",
              "    </tr>\n",
              "    <tr>\n",
              "      <th>4</th>\n",
              "      <td>2.0</td>\n",
              "      <td>-1.158233</td>\n",
              "      <td>0.877737</td>\n",
              "      <td>1.548718</td>\n",
              "      <td>0.403034</td>\n",
              "      <td>-0.407193</td>\n",
              "      <td>0.095921</td>\n",
              "      <td>0.592941</td>\n",
              "      <td>-0.270533</td>\n",
              "      <td>0.817739</td>\n",
              "      <td>0.753074</td>\n",
              "      <td>-0.822843</td>\n",
              "      <td>0.538196</td>\n",
              "      <td>1.345852</td>\n",
              "      <td>-1.119670</td>\n",
              "      <td>0.175121</td>\n",
              "      <td>-0.451449</td>\n",
              "      <td>-0.237033</td>\n",
              "      <td>-0.038195</td>\n",
              "      <td>0.803487</td>\n",
              "      <td>0.408542</td>\n",
              "      <td>-0.009431</td>\n",
              "      <td>0.798278</td>\n",
              "      <td>-0.137458</td>\n",
              "      <td>0.141267</td>\n",
              "      <td>-0.206010</td>\n",
              "      <td>0.502292</td>\n",
              "      <td>0.219422</td>\n",
              "      <td>0.215153</td>\n",
              "      <td>69.99</td>\n",
              "      <td>0</td>\n",
              "    </tr>\n",
              "  </tbody>\n",
              "</table>\n",
              "</div>"
            ],
            "text/plain": [
              "   Time        V1        V2        V3  ...       V27       V28  Amount  Class\n",
              "0   0.0 -1.359807 -0.072781  2.536347  ...  0.133558 -0.021053  149.62      0\n",
              "1   0.0  1.191857  0.266151  0.166480  ... -0.008983  0.014724    2.69      0\n",
              "2   1.0 -1.358354 -1.340163  1.773209  ... -0.055353 -0.059752  378.66      0\n",
              "3   1.0 -0.966272 -0.185226  1.792993  ...  0.062723  0.061458  123.50      0\n",
              "4   2.0 -1.158233  0.877737  1.548718  ...  0.219422  0.215153   69.99      0\n",
              "\n",
              "[5 rows x 31 columns]"
            ]
          },
          "metadata": {
            "tags": []
          },
          "execution_count": 62
        }
      ]
    },
    {
      "cell_type": "code",
      "metadata": {
        "colab_type": "code",
        "id": "-fgdQgmwUFuj",
        "outputId": "f0556451-2d60-46b3-feb4-4ec3274d9f14",
        "colab": {
          "base_uri": "https://localhost:8080/",
          "height": 304
        }
      },
      "source": [
        "raw_df[['Time', 'V1', 'V2', 'V3', 'V4', 'V5', 'V26', 'V27', 'V28', 'Amount', 'Class']].describe()"
      ],
      "execution_count": 63,
      "outputs": [
        {
          "output_type": "execute_result",
          "data": {
            "text/html": [
              "<div>\n",
              "<style scoped>\n",
              "    .dataframe tbody tr th:only-of-type {\n",
              "        vertical-align: middle;\n",
              "    }\n",
              "\n",
              "    .dataframe tbody tr th {\n",
              "        vertical-align: top;\n",
              "    }\n",
              "\n",
              "    .dataframe thead th {\n",
              "        text-align: right;\n",
              "    }\n",
              "</style>\n",
              "<table border=\"1\" class=\"dataframe\">\n",
              "  <thead>\n",
              "    <tr style=\"text-align: right;\">\n",
              "      <th></th>\n",
              "      <th>Time</th>\n",
              "      <th>V1</th>\n",
              "      <th>V2</th>\n",
              "      <th>V3</th>\n",
              "      <th>V4</th>\n",
              "      <th>V5</th>\n",
              "      <th>V26</th>\n",
              "      <th>V27</th>\n",
              "      <th>V28</th>\n",
              "      <th>Amount</th>\n",
              "      <th>Class</th>\n",
              "    </tr>\n",
              "  </thead>\n",
              "  <tbody>\n",
              "    <tr>\n",
              "      <th>count</th>\n",
              "      <td>284807.000000</td>\n",
              "      <td>2.848070e+05</td>\n",
              "      <td>2.848070e+05</td>\n",
              "      <td>2.848070e+05</td>\n",
              "      <td>2.848070e+05</td>\n",
              "      <td>2.848070e+05</td>\n",
              "      <td>2.848070e+05</td>\n",
              "      <td>2.848070e+05</td>\n",
              "      <td>2.848070e+05</td>\n",
              "      <td>284807.000000</td>\n",
              "      <td>284807.000000</td>\n",
              "    </tr>\n",
              "    <tr>\n",
              "      <th>mean</th>\n",
              "      <td>94813.859575</td>\n",
              "      <td>3.919560e-15</td>\n",
              "      <td>5.688174e-16</td>\n",
              "      <td>-8.769071e-15</td>\n",
              "      <td>2.782312e-15</td>\n",
              "      <td>-1.552563e-15</td>\n",
              "      <td>1.699104e-15</td>\n",
              "      <td>-3.660161e-16</td>\n",
              "      <td>-1.206049e-16</td>\n",
              "      <td>88.349619</td>\n",
              "      <td>0.001727</td>\n",
              "    </tr>\n",
              "    <tr>\n",
              "      <th>std</th>\n",
              "      <td>47488.145955</td>\n",
              "      <td>1.958696e+00</td>\n",
              "      <td>1.651309e+00</td>\n",
              "      <td>1.516255e+00</td>\n",
              "      <td>1.415869e+00</td>\n",
              "      <td>1.380247e+00</td>\n",
              "      <td>4.822270e-01</td>\n",
              "      <td>4.036325e-01</td>\n",
              "      <td>3.300833e-01</td>\n",
              "      <td>250.120109</td>\n",
              "      <td>0.041527</td>\n",
              "    </tr>\n",
              "    <tr>\n",
              "      <th>min</th>\n",
              "      <td>0.000000</td>\n",
              "      <td>-5.640751e+01</td>\n",
              "      <td>-7.271573e+01</td>\n",
              "      <td>-4.832559e+01</td>\n",
              "      <td>-5.683171e+00</td>\n",
              "      <td>-1.137433e+02</td>\n",
              "      <td>-2.604551e+00</td>\n",
              "      <td>-2.256568e+01</td>\n",
              "      <td>-1.543008e+01</td>\n",
              "      <td>0.000000</td>\n",
              "      <td>0.000000</td>\n",
              "    </tr>\n",
              "    <tr>\n",
              "      <th>25%</th>\n",
              "      <td>54201.500000</td>\n",
              "      <td>-9.203734e-01</td>\n",
              "      <td>-5.985499e-01</td>\n",
              "      <td>-8.903648e-01</td>\n",
              "      <td>-8.486401e-01</td>\n",
              "      <td>-6.915971e-01</td>\n",
              "      <td>-3.269839e-01</td>\n",
              "      <td>-7.083953e-02</td>\n",
              "      <td>-5.295979e-02</td>\n",
              "      <td>5.600000</td>\n",
              "      <td>0.000000</td>\n",
              "    </tr>\n",
              "    <tr>\n",
              "      <th>50%</th>\n",
              "      <td>84692.000000</td>\n",
              "      <td>1.810880e-02</td>\n",
              "      <td>6.548556e-02</td>\n",
              "      <td>1.798463e-01</td>\n",
              "      <td>-1.984653e-02</td>\n",
              "      <td>-5.433583e-02</td>\n",
              "      <td>-5.213911e-02</td>\n",
              "      <td>1.342146e-03</td>\n",
              "      <td>1.124383e-02</td>\n",
              "      <td>22.000000</td>\n",
              "      <td>0.000000</td>\n",
              "    </tr>\n",
              "    <tr>\n",
              "      <th>75%</th>\n",
              "      <td>139320.500000</td>\n",
              "      <td>1.315642e+00</td>\n",
              "      <td>8.037239e-01</td>\n",
              "      <td>1.027196e+00</td>\n",
              "      <td>7.433413e-01</td>\n",
              "      <td>6.119264e-01</td>\n",
              "      <td>2.409522e-01</td>\n",
              "      <td>9.104512e-02</td>\n",
              "      <td>7.827995e-02</td>\n",
              "      <td>77.165000</td>\n",
              "      <td>0.000000</td>\n",
              "    </tr>\n",
              "    <tr>\n",
              "      <th>max</th>\n",
              "      <td>172792.000000</td>\n",
              "      <td>2.454930e+00</td>\n",
              "      <td>2.205773e+01</td>\n",
              "      <td>9.382558e+00</td>\n",
              "      <td>1.687534e+01</td>\n",
              "      <td>3.480167e+01</td>\n",
              "      <td>3.517346e+00</td>\n",
              "      <td>3.161220e+01</td>\n",
              "      <td>3.384781e+01</td>\n",
              "      <td>25691.160000</td>\n",
              "      <td>1.000000</td>\n",
              "    </tr>\n",
              "  </tbody>\n",
              "</table>\n",
              "</div>"
            ],
            "text/plain": [
              "                Time            V1  ...         Amount          Class\n",
              "count  284807.000000  2.848070e+05  ...  284807.000000  284807.000000\n",
              "mean    94813.859575  3.919560e-15  ...      88.349619       0.001727\n",
              "std     47488.145955  1.958696e+00  ...     250.120109       0.041527\n",
              "min         0.000000 -5.640751e+01  ...       0.000000       0.000000\n",
              "25%     54201.500000 -9.203734e-01  ...       5.600000       0.000000\n",
              "50%     84692.000000  1.810880e-02  ...      22.000000       0.000000\n",
              "75%    139320.500000  1.315642e+00  ...      77.165000       0.000000\n",
              "max    172792.000000  2.454930e+00  ...   25691.160000       1.000000\n",
              "\n",
              "[8 rows x 11 columns]"
            ]
          },
          "metadata": {
            "tags": []
          },
          "execution_count": 63
        }
      ]
    },
    {
      "cell_type": "code",
      "metadata": {
        "colab_type": "code",
        "id": "HCJFrtuY2iLF",
        "outputId": "c0183b16-d087-44b8-ea49-fa7c1789b699",
        "colab": {
          "base_uri": "https://localhost:8080/",
          "height": 84
        }
      },
      "source": [
        "neg, pos = np.bincount(raw_df['Class'])\n",
        "total = neg + pos\n",
        "print('Examples:\\n    Total: {}\\n    Positive: {} ({:.2f}% of total)\\n'.format(\n",
        "    total, pos, 100 * pos / total))"
      ],
      "execution_count": 64,
      "outputs": [
        {
          "output_type": "stream",
          "text": [
            "Examples:\n",
            "    Total: 284807\n",
            "    Positive: 492 (0.17% of total)\n",
            "\n"
          ],
          "name": "stdout"
        }
      ]
    },
    {
      "cell_type": "code",
      "metadata": {
        "colab_type": "code",
        "id": "Ef42jTuxEjnj",
        "colab": {}
      },
      "source": [
        "cleaned_df = raw_df.copy()\n",
        "\n",
        "# You don't want the `Time` column.\n",
        "cleaned_df.pop('Time')\n",
        "\n",
        "# The `Amount` column covers a huge range. Convert to log-space.\n",
        "eps=0.001 # 0 => 0.1¢\n",
        "cleaned_df['Log Amount'] = np.log(cleaned_df.pop('Amount')+eps)"
      ],
      "execution_count": 0,
      "outputs": []
    },
    {
      "cell_type": "code",
      "metadata": {
        "colab_type": "code",
        "id": "xfxhKg7Yr1-b",
        "colab": {}
      },
      "source": [
        "# Use a utility from sklearn to split and shuffle our dataset.\n",
        "train_df, test_df = train_test_split(cleaned_df, test_size=0.2)\n",
        "train_df, val_df = train_test_split(train_df, test_size=0.2)\n",
        "\n",
        "# Form np arrays of labels and features.\n",
        "train_labels = np.array(train_df.pop('Class'))\n",
        "bool_train_labels = train_labels != 0\n",
        "val_labels = np.array(val_df.pop('Class'))\n",
        "test_labels = np.array(test_df.pop('Class'))\n",
        "\n",
        "train_features = np.array(train_df)\n",
        "val_features = np.array(val_df)\n",
        "test_features = np.array(test_df)"
      ],
      "execution_count": 0,
      "outputs": []
    },
    {
      "cell_type": "code",
      "metadata": {
        "colab_type": "code",
        "id": "IO-qEUmJ5JQg",
        "outputId": "8124e219-39c4-4d6c-cf3b-63925728a2ba",
        "colab": {
          "base_uri": "https://localhost:8080/",
          "height": 118
        }
      },
      "source": [
        "# Normalize and clip the data\n",
        "\n",
        "scaler = StandardScaler()\n",
        "train_features = scaler.fit_transform(train_features)\n",
        "\n",
        "val_features = scaler.transform(val_features)\n",
        "test_features = scaler.transform(test_features)\n",
        "\n",
        "clip = 1\n",
        "\n",
        "train_features = np.clip(train_features, -clip, clip)\n",
        "val_features = np.clip(val_features, -clip, clip)\n",
        "test_features = np.clip(test_features, -clip, clip)\n",
        "\n",
        "np.savetxt('test_features.csv', test_features[:1000], delimiter=',')\n",
        "np.savetxt('test_labels.csv', test_labels[:1000], delimiter=',')\n",
        "\n",
        "print('Training labels shape:', train_labels.shape)\n",
        "print('Validation labels shape:', val_labels.shape)\n",
        "print('Test labels shape:', test_labels.shape)\n",
        "\n",
        "print('Training features shape:', train_features.shape)\n",
        "print('Validation features shape:', val_features.shape)\n",
        "print('Test features shape:', test_features.shape)\n"
      ],
      "execution_count": 67,
      "outputs": [
        {
          "output_type": "stream",
          "text": [
            "Training labels shape: (182276,)\n",
            "Validation labels shape: (45569,)\n",
            "Test labels shape: (56962,)\n",
            "Training features shape: (182276, 29)\n",
            "Validation features shape: (45569, 29)\n",
            "Test features shape: (56962, 29)\n"
          ],
          "name": "stdout"
        }
      ]
    },
    {
      "cell_type": "code",
      "metadata": {
        "id": "k1grK0dP5RnY",
        "colab_type": "code",
        "colab": {}
      },
      "source": [
        "# Attempt to create Chebyshev polynomial approximation algorithm\n",
        "\n",
        "# # Tools\n",
        "\n",
        "# import operator as op\n",
        "# from functools import reduce\n",
        "\n",
        "# def ncr(n, r):\n",
        "#     r = min(r, n-r)\n",
        "#     numer = reduce(op.mul, range(n, n-r, -1), 1)\n",
        "#     denom = reduce(op.mul, range(1, r+1), 1)\n",
        "#     return numer / denom"
      ],
      "execution_count": 0,
      "outputs": []
    },
    {
      "cell_type": "code",
      "metadata": {
        "id": "16uoq6333_FI",
        "colab_type": "code",
        "colab": {}
      },
      "source": [
        "# # Given\n",
        "\n",
        "# p = 16\n",
        "# q = 4\n",
        "# N = p + q + 1\n",
        "\n",
        "# alpha = np.zeros(N+1, dtype=float)\n",
        "# a = np.zeros(N+1, dtype=float)\n",
        "\n",
        "# # Initialization\n",
        "\n",
        "# alpha[N] = ((-1)**p) * (2**(-2*(p+q))) * N/2 * ncr(p+q, q)\n",
        "# alpha[N-1] = 2 * (q-p) * alpha[N]\n",
        "\n",
        "# for mew in range(N-1, 2, -1):\n",
        "#   alpha[mew-1] = 2/(N+1-mew) * ( (q-p)*alpha[mew] - (N+1+mew)/2*alpha[mew+1] )\n",
        "\n",
        "# for mew in range(N, 1, -1):\n",
        "#   a[mew] = alpha[mew]/mew\n",
        "\n",
        "# a[0] = 1 - np.sum(a)\n",
        "\n",
        "# sig_approx = np.polynomial.Chebyshev(a)\n",
        "\n",
        "# x, y = sig_approx.linspace(1000, [-1, 1])\n",
        "\n",
        "# plt.plot(x, y)\n",
        "# plt.show()\n",
        "\n",
        "# print(sig_approx)"
      ],
      "execution_count": 0,
      "outputs": []
    },
    {
      "cell_type": "markdown",
      "metadata": {
        "id": "gGtbtwpmF0k4",
        "colab_type": "text"
      },
      "source": [
        "Extract approximate function Chebyshev polynomial coefficients / save to disk"
      ]
    },
    {
      "cell_type": "code",
      "metadata": {
        "id": "IBLeOJ2rSFfw",
        "colab_type": "code",
        "outputId": "9ba80bed-8513-4561-bca9-13dfb3c82121",
        "colab": {
          "base_uri": "https://localhost:8080/",
          "height": 725
        }
      },
      "source": [
        "# Extract approximate function Chebyshev polynomial coefficients / save to disk\n",
        "\n",
        "def sigmoid(x):\n",
        "  return 1/(1 + np.exp(-x)) \n",
        "\n",
        "approx = np.polynomial.chebyshev.Chebyshev.interpolate(sigmoid, 15, [-100, 100])\n",
        "coef = np.polynomial.chebyshev.cheb2poly(approx.coef)\n",
        "for i in range(16):\n",
        "  if i == 0:\n",
        "    coef[i] = 0.76*(coef[i]+0.15)*(0.04**i)  \n",
        "  else:\n",
        "    coef[i] = 0.76*coef[i]*(0.04**i)\n",
        "np.savetxt('coef.csv', coef, delimiter=',')\n",
        "print(coef)\n",
        "x, y = approx.linspace(1000000, [-100, 100])\n",
        "plt.title(\"Degree-15 Chebyshev Polynomial Approximation of Sigmoid Function\")\n",
        "plt.xlabel(\"x\")\n",
        "plt.ylabel(\"f(x)\")\n",
        "plt.plot(x, y)\n",
        "plt.show()\n",
        "\n",
        "poly = \"\"\n",
        "for i in range(len(coef)):\n",
        "  if i == 0:\n",
        "    poly += str(coef[i]) + \" \"\n",
        "  else:\n",
        "    poly += \"+ (\" + str(coef[i]) + \")x\" + \"^(\" + str(i) + \") \"\n",
        "\n",
        "print(poly)\n"
      ],
      "execution_count": 70,
      "outputs": [
        {
          "output_type": "stream",
          "text": [
            "[ 4.94000000e-01  1.80385159e-01  1.09015019e-17 -4.53564039e-03\n",
            " -2.95926839e-20  5.48868668e-05 -1.54555892e-21 -3.37775893e-07\n",
            "  1.56159513e-23  1.14101140e-09 -5.82665205e-26 -2.14479855e-12\n",
            "  9.44042206e-29  2.10396440e-15 -5.56640625e-32 -8.39487958e-19]\n"
          ],
          "name": "stdout"
        },
        {
          "output_type": "display_data",
          "data": {
            "image/png": "[encoded data removed]",
            "text/plain": [
              "<Figure size 864x720 with 1 Axes>"
            ]
          },
          "metadata": {
            "tags": []
          }
        },
        {
          "output_type": "stream",
          "text": [
            "0.4939999999999998 + (0.18038515864766605)x^(1) + (1.0901501923399337e-17)x^(2) + (-0.004535640387668542)x^(3) + (-2.9592683858936655e-20)x^(4) + (5.4886866762235074e-05)x^(5) + (-1.5455589164048437e-21)x^(6) + (-3.377758932422119e-07)x^(7) + (1.5615951269865042e-23)x^(8) + (1.1410113968693596e-09)x^(9) + (-5.826652050018312e-26)x^(10) + (-2.1447985504561754e-12)x^(11) + (9.440422058105471e-29)x^(12) + (2.103964397492797e-15)x^(13) + (-5.566406250000002e-32)x^(14) + (-8.394879584813549e-19)x^(15) \n"
          ],
          "name": "stdout"
        }
      ]
    },
    {
      "cell_type": "code",
      "metadata": {
        "colab_type": "code",
        "id": "WTSkhT1jyGu6",
        "colab": {}
      },
      "source": [
        "# Helper functions\n",
        "\n",
        "def plot_metrics(history):\n",
        "  metrics =  ['loss', 'auc', 'precision', 'recall']\n",
        "  for n, metric in enumerate(metrics):\n",
        "    name = metric.replace(\"_\",\" \").capitalize()\n",
        "    plt.subplot(2,2,n+1)\n",
        "    plt.plot(history.epoch,  history.history[metric], color=colors[0], label='Train')\n",
        "    plt.plot(history.epoch, history.history['val_'+metric],\n",
        "             color=colors[0], linestyle=\"--\", label='Val')\n",
        "    plt.xlabel('Epoch')\n",
        "    plt.ylabel(name)\n",
        "    if metric == 'loss':\n",
        "      plt.ylim([0, plt.ylim()[1]])\n",
        "    elif metric == 'auc':\n",
        "      plt.ylim([0.8,1])\n",
        "    else:\n",
        "      plt.ylim([0,1])\n",
        "\n",
        "    plt.legend()\n",
        "\n",
        "def plot_cm(labels, predictions, p=0.5):\n",
        "  cm = confusion_matrix(labels, predictions > p)\n",
        "  plt.figure(figsize=(5,5))\n",
        "  sns.heatmap(cm, annot=True, fmt=\"d\")\n",
        "  plt.title('Confusion matrix @{:.2f}'.format(p))\n",
        "  plt.ylabel('Actual label')\n",
        "  plt.xlabel('Predicted label')\n",
        "\n",
        "  print('Legitimate Transactions Detected (True Negatives): ', cm[0][0])\n",
        "  print('Legitimate Transactions Incorrectly Detected (False Positives): ', cm[0][1])\n",
        "  print('Fraudulent Transactions Missed (False Negatives): ', cm[1][0])\n",
        "  print('Fraudulent Transactions Detected (True Positives): ', cm[1][1])\n",
        "  print('Total Fraudulent Transactions: ', np.sum(cm[1]))\n",
        "\n",
        "def plot_roc(name, labels, predictions, **kwargs):\n",
        "  fp, tp, _ = sklearn.metrics.roc_curve(labels, predictions)\n",
        "\n",
        "  plt.plot(100*fp, 100*tp, label=name, linewidth=2, **kwargs)\n",
        "  plt.xlabel('False positives [%]')\n",
        "  plt.ylabel('True positives [%]')\n",
        "  plt.xlim([-0.5,20])\n",
        "  plt.ylim([80,100.5])\n",
        "  plt.grid(True)\n",
        "  ax = plt.gca()\n",
        "  ax.set_aspect('equal')"
      ],
      "execution_count": 0,
      "outputs": []
    },
    {
      "cell_type": "markdown",
      "metadata": {
        "id": "PqK6lI-gUx4U",
        "colab_type": "text"
      },
      "source": [
        "Define Approximate Function"
      ]
    },
    {
      "cell_type": "code",
      "metadata": {
        "id": "Ar1DbsyDWSXd",
        "colab_type": "code",
        "colab": {}
      },
      "source": [
        "def test2(x):\n",
        "  return tf.constant(0.494, dtype=tf.float32) + tf.add_n([ \n",
        "                   0.180385159*tf.pow(x, 1), \n",
        "                   1.09015019*10**(-17)*tf.pow(x, 2), \n",
        "                   -4.53564039*10**(-3)*tf.pow(x, 3), \n",
        "                   0*-2.95926839*10**(-20)*tf.pow(x, 4), \n",
        "                   5.48868668*10**(-5)*tf.pow(x, 5), \n",
        "                   0*-1.54555892*10**(-21)*tf.pow(x, 6), \n",
        "                   -3.37775893*10**(-7)*tf.pow(x, 7), \n",
        "                   0*1.56159513*10**(-23)*tf.pow(x, 8), \n",
        "                   1.14101140*10**(-9)*tf.pow(x, 9), \n",
        "                   0*-5.82665205*10**(-26)*tf.pow(x, 10), \n",
        "                   -2.14479855*10**(-12)*tf.pow(x, 11), \n",
        "                   0*9.44042206*10**(-29)*tf.pow(x, 12), \n",
        "                   2.10396440*10**(-15)*tf.pow(x, 13), \n",
        "                   0*-5.56640625*10**(-32)*tf.pow(x, 14), \n",
        "                   -8.39487958*10**(-19)*tf.pow(x, 15)\n",
        "  ])"
      ],
      "execution_count": 0,
      "outputs": []
    },
    {
      "cell_type": "markdown",
      "metadata": {
        "id": "Oj0BtSSOFuvS",
        "colab_type": "text"
      },
      "source": [
        "Define Model"
      ]
    },
    {
      "cell_type": "code",
      "metadata": {
        "colab_type": "code",
        "id": "3JQDzUqT3UYG",
        "colab": {}
      },
      "source": [
        "METRICS = [\n",
        "      keras.metrics.TruePositives(name='tp'),\n",
        "      keras.metrics.FalsePositives(name='fp'),\n",
        "      keras.metrics.TrueNegatives(name='tn'),\n",
        "      keras.metrics.FalseNegatives(name='fn'), \n",
        "      keras.metrics.BinaryAccuracy(name='accuracy'),\n",
        "      keras.metrics.Precision(name='precision'),\n",
        "      keras.metrics.Recall(name='recall'),\n",
        "      keras.metrics.AUC(name='auc'),\n",
        "]\n",
        "\n",
        "def make_model(metrics = METRICS, output_bias=None):\n",
        "  if output_bias is not None:\n",
        "    output_bias = tf.keras.initializers.Constant(output_bias)\n",
        "  model = keras.Sequential([\n",
        "      keras.layers.Dense(\n",
        "          29, activation=test2,#tf_relu_approx,\n",
        "          input_shape=(train_features.shape[-1],)),\n",
        "      # keras.layers.Dropout(0.5),\n",
        "      keras.layers.Dense(1, activation=test2,\n",
        "                         bias_initializer=output_bias),\n",
        "  ])\n",
        "\n",
        "  model.compile(\n",
        "      optimizer=keras.optimizers.Adam(lr=1e-3),\n",
        "      loss=keras.losses.BinaryCrossentropy(),\n",
        "      metrics=metrics)\n",
        "\n",
        "  return model"
      ],
      "execution_count": 0,
      "outputs": []
    },
    {
      "cell_type": "code",
      "metadata": {
        "colab_type": "code",
        "id": "ouUkwPcGQsy3",
        "colab": {}
      },
      "source": [
        "EPOCHS = 100\n",
        "BATCH_SIZE = 2048\n",
        "\n",
        "early_stopping = tf.keras.callbacks.EarlyStopping(\n",
        "    monitor='val_auc', \n",
        "    verbose=1,\n",
        "    patience=10,\n",
        "    mode='max',\n",
        "    restore_best_weights=True)"
      ],
      "execution_count": 0,
      "outputs": []
    },
    {
      "cell_type": "code",
      "metadata": {
        "colab_type": "code",
        "id": "1xlR_dekzw7C",
        "outputId": "a98ec833-8d51-4645-a5a1-b818a40f0b48",
        "colab": {
          "base_uri": "https://localhost:8080/",
          "height": 218
        }
      },
      "source": [
        "model = make_model()\n",
        "model.summary()"
      ],
      "execution_count": 75,
      "outputs": [
        {
          "output_type": "stream",
          "text": [
            "Model: \"sequential_4\"\n",
            "_________________________________________________________________\n",
            "Layer (type)                 Output Shape              Param #   \n",
            "=================================================================\n",
            "dense_8 (Dense)              (None, 29)                870       \n",
            "_________________________________________________________________\n",
            "dense_9 (Dense)              (None, 1)                 30        \n",
            "=================================================================\n",
            "Total params: 900\n",
            "Trainable params: 900\n",
            "Non-trainable params: 0\n",
            "_________________________________________________________________\n"
          ],
          "name": "stdout"
        }
      ]
    },
    {
      "cell_type": "code",
      "metadata": {
        "colab_type": "code",
        "id": "LopSd-yQqO3a",
        "outputId": "260d0eff-c9f6-4999-d8cf-a2a02a770f7c",
        "colab": {
          "base_uri": "https://localhost:8080/",
          "height": 185
        }
      },
      "source": [
        "model.predict(train_features[:10])"
      ],
      "execution_count": 76,
      "outputs": [
        {
          "output_type": "execute_result",
          "data": {
            "text/plain": [
              "array([[0.30068403],\n",
              "       [0.31374204],\n",
              "       [0.28836524],\n",
              "       [0.29494905],\n",
              "       [0.28450078],\n",
              "       [0.28452685],\n",
              "       [0.30861765],\n",
              "       [0.3060624 ],\n",
              "       [0.30793655],\n",
              "       [0.31983685]], dtype=float32)"
            ]
          },
          "metadata": {
            "tags": []
          },
          "execution_count": 76
        }
      ]
    },
    {
      "cell_type": "code",
      "metadata": {
        "colab_type": "code",
        "id": "H-oPqh3SoGXk",
        "outputId": "b9c00a02-fc3b-42e7-90d0-64dfb37b33ce",
        "colab": {
          "base_uri": "https://localhost:8080/",
          "height": 34
        }
      },
      "source": [
        "results = model.evaluate(train_features, train_labels, batch_size=BATCH_SIZE, verbose=0)\n",
        "print(\"Loss: {:0.4f}\".format(results[0]))"
      ],
      "execution_count": 77,
      "outputs": [
        {
          "output_type": "stream",
          "text": [
            "Loss: 0.3565\n"
          ],
          "name": "stdout"
        }
      ]
    },
    {
      "cell_type": "code",
      "metadata": {
        "colab_type": "code",
        "id": "F5KWPSjjstUS",
        "outputId": "2666e01f-a76d-4cb7-9012-60dc28ce5133",
        "colab": {
          "base_uri": "https://localhost:8080/",
          "height": 34
        }
      },
      "source": [
        "initial_bias = np.log([pos/neg])\n",
        "initial_bias"
      ],
      "execution_count": 78,
      "outputs": [
        {
          "output_type": "execute_result",
          "data": {
            "text/plain": [
              "array([-6.35935934])"
            ]
          },
          "metadata": {
            "tags": []
          },
          "execution_count": 78
        }
      ]
    },
    {
      "cell_type": "code",
      "metadata": {
        "colab_type": "code",
        "id": "50oyu1uss0i-",
        "outputId": "ef556fcf-efea-47f0-9530-26b448b3cc9e",
        "colab": {
          "base_uri": "https://localhost:8080/",
          "height": 185
        }
      },
      "source": [
        "model = make_model(output_bias = initial_bias)\n",
        "model.predict(train_features[:10])"
      ],
      "execution_count": 79,
      "outputs": [
        {
          "output_type": "execute_result",
          "data": {
            "text/plain": [
              "array([[0.08857045],\n",
              "       [0.08620724],\n",
              "       [0.07861236],\n",
              "       [0.07924572],\n",
              "       [0.08581206],\n",
              "       [0.09104541],\n",
              "       [0.0834038 ],\n",
              "       [0.08642712],\n",
              "       [0.08921149],\n",
              "       [0.08311865]], dtype=float32)"
            ]
          },
          "metadata": {
            "tags": []
          },
          "execution_count": 79
        }
      ]
    },
    {
      "cell_type": "code",
      "metadata": {
        "colab_type": "code",
        "id": "xVDqCWXDqHSc",
        "outputId": "2f23a38b-9d36-4f9d-c374-2a99ac80c991",
        "colab": {
          "base_uri": "https://localhost:8080/",
          "height": 34
        }
      },
      "source": [
        "results = model.evaluate(train_features, train_labels, batch_size=BATCH_SIZE, verbose=0)\n",
        "print(\"Loss: {:0.4f}\".format(results[0]))"
      ],
      "execution_count": 80,
      "outputs": [
        {
          "output_type": "stream",
          "text": [
            "Loss: 0.0938\n"
          ],
          "name": "stdout"
        }
      ]
    },
    {
      "cell_type": "code",
      "metadata": {
        "colab_type": "code",
        "id": "_tSUm4yAVIif",
        "colab": {}
      },
      "source": [
        "initial_weights = os.path.join(tempfile.mkdtemp(),'initial_weights')\n",
        "model.save_weights(initial_weights)"
      ],
      "execution_count": 0,
      "outputs": []
    },
    {
      "cell_type": "markdown",
      "metadata": {
        "id": "t4fG1JzCGI0B",
        "colab_type": "text"
      },
      "source": [
        "Oversample"
      ]
    },
    {
      "cell_type": "code",
      "metadata": {
        "colab_type": "code",
        "id": "sHirNp6u7OWp",
        "colab": {}
      },
      "source": [
        "pos_features = train_features[bool_train_labels]\n",
        "neg_features = train_features[~bool_train_labels]\n",
        "\n",
        "pos_labels = train_labels[bool_train_labels]\n",
        "neg_labels = train_labels[~bool_train_labels]"
      ],
      "execution_count": 0,
      "outputs": []
    },
    {
      "cell_type": "code",
      "metadata": {
        "colab_type": "code",
        "id": "BUzGjSkwqT88",
        "outputId": "87e89759-da40-40cd-87c3-3ea89a65fe4e",
        "colab": {
          "base_uri": "https://localhost:8080/",
          "height": 67
        }
      },
      "source": [
        "print(pos_features.shape)\n",
        "print(neg_features.shape)\n",
        "\n",
        "ids = np.arange(len(pos_features))\n",
        "choices = np.random.choice(ids, len(neg_features))\n",
        "\n",
        "res_pos_features = pos_features[choices]\n",
        "res_pos_labels = pos_labels[choices]\n",
        "\n",
        "res_pos_features.shape"
      ],
      "execution_count": 83,
      "outputs": [
        {
          "output_type": "stream",
          "text": [
            "(309, 29)\n",
            "(181967, 29)\n"
          ],
          "name": "stdout"
        },
        {
          "output_type": "execute_result",
          "data": {
            "text/plain": [
              "(181967, 29)"
            ]
          },
          "metadata": {
            "tags": []
          },
          "execution_count": 83
        }
      ]
    },
    {
      "cell_type": "code",
      "metadata": {
        "colab_type": "code",
        "id": "7ie_FFet6cep",
        "outputId": "e1f5c056-c4f1-4b3a-bcbe-b754b6a2d99c",
        "colab": {
          "base_uri": "https://localhost:8080/",
          "height": 34
        }
      },
      "source": [
        "resampled_features = np.concatenate([res_pos_features, neg_features], axis=0)\n",
        "resampled_labels = np.concatenate([res_pos_labels, neg_labels], axis=0)\n",
        "\n",
        "order = np.arange(len(resampled_labels))\n",
        "np.random.shuffle(order)\n",
        "resampled_features = resampled_features[order]\n",
        "resampled_labels = resampled_labels[order]\n",
        "\n",
        "resampled_features.shape"
      ],
      "execution_count": 84,
      "outputs": [
        {
          "output_type": "execute_result",
          "data": {
            "text/plain": [
              "(363934, 29)"
            ]
          },
          "metadata": {
            "tags": []
          },
          "execution_count": 84
        }
      ]
    },
    {
      "cell_type": "code",
      "metadata": {
        "colab_type": "code",
        "id": "EZwSOh1LNnlV",
        "colab": {}
      },
      "source": [
        "BUFFER_SIZE = 100000\n",
        "\n",
        "def make_ds(features, labels):\n",
        "  ds = tf.data.Dataset.from_tensor_slices((features, labels))#.cache()\n",
        "  ds = ds.shuffle(BUFFER_SIZE).repeat()\n",
        "  return ds\n",
        "\n",
        "pos_ds = make_ds(pos_features, pos_labels)\n",
        "neg_ds = make_ds(neg_features, neg_labels)"
      ],
      "execution_count": 0,
      "outputs": []
    },
    {
      "cell_type": "code",
      "metadata": {
        "colab_type": "code",
        "id": "llXc9rNH7Fbz",
        "outputId": "4bc49cae-5d56-43b8-934f-d3fc68bc51f0",
        "colab": {
          "base_uri": "https://localhost:8080/",
          "height": 151
        }
      },
      "source": [
        "for features, label in pos_ds.take(1):\n",
        "  print(\"Features:\\n\", features.numpy())\n",
        "  print()\n",
        "  print(\"Label: \", label.numpy())"
      ],
      "execution_count": 86,
      "outputs": [
        {
          "output_type": "stream",
          "text": [
            "Features:\n",
            " [-1.          1.         -1.          1.         -1.         -1.\n",
            " -1.          1.         -1.         -1.          1.         -1.\n",
            " -0.35797325 -1.         -1.         -1.         -1.         -1.\n",
            " -0.61809421  1.          1.         -0.26273372 -0.81012227 -1.\n",
            "  1.          1.          1.          1.         -1.        ]\n",
            "\n",
            "Label:  1\n"
          ],
          "name": "stdout"
        }
      ]
    },
    {
      "cell_type": "code",
      "metadata": {
        "colab_type": "code",
        "id": "e7w9UQPT9wzE",
        "colab": {}
      },
      "source": [
        "resampled_ds = tf.data.experimental.sample_from_datasets([pos_ds, neg_ds], weights=[0.5, 0.5])\n",
        "resampled_ds = resampled_ds.batch(BATCH_SIZE).prefetch(2)"
      ],
      "execution_count": 0,
      "outputs": []
    },
    {
      "cell_type": "code",
      "metadata": {
        "colab_type": "code",
        "id": "EWXARdTdAuQK",
        "outputId": "69e6ea83-e009-4e66-919d-a0a49a30a47e",
        "colab": {
          "base_uri": "https://localhost:8080/",
          "height": 34
        }
      },
      "source": [
        "for features, label in resampled_ds.take(1):\n",
        "  print(label.numpy().mean())"
      ],
      "execution_count": 88,
      "outputs": [
        {
          "output_type": "stream",
          "text": [
            "0.49072265625\n"
          ],
          "name": "stdout"
        }
      ]
    },
    {
      "cell_type": "code",
      "metadata": {
        "colab_type": "code",
        "id": "xH-7K46AAxpq",
        "outputId": "4cc20519-f92b-43aa-8f96-27cbb58c355b",
        "colab": {
          "base_uri": "https://localhost:8080/",
          "height": 34
        }
      },
      "source": [
        "resampled_steps_per_epoch = np.ceil(2.0*neg/BATCH_SIZE)\n",
        "resampled_steps_per_epoch"
      ],
      "execution_count": 89,
      "outputs": [
        {
          "output_type": "execute_result",
          "data": {
            "text/plain": [
              "278.0"
            ]
          },
          "metadata": {
            "tags": []
          },
          "execution_count": 89
        }
      ]
    },
    {
      "cell_type": "code",
      "metadata": {
        "colab_type": "code",
        "id": "soRQ89JYqd6b",
        "colab": {}
      },
      "source": [
        "val_ds = tf.data.Dataset.from_tensor_slices((val_features, val_labels)).cache()\n",
        "val_ds = val_ds.batch(BATCH_SIZE).prefetch(2) "
      ],
      "execution_count": 0,
      "outputs": []
    },
    {
      "cell_type": "markdown",
      "metadata": {
        "id": "5ZmOJ-ZgGNkK",
        "colab_type": "text"
      },
      "source": [
        "Train"
      ]
    },
    {
      "cell_type": "code",
      "metadata": {
        "colab_type": "code",
        "id": "e_yn9I26qAHU",
        "outputId": "0ebe4a5d-4885-425a-cda3-6f7a64bea0d7",
        "colab": {
          "base_uri": "https://localhost:8080/",
          "height": 1000
        }
      },
      "source": [
        "resampled_model = make_model()\n",
        "resampled_model.load_weights(initial_weights)\n",
        "\n",
        "# Reset the bias to zero, since this dataset is balanced.\n",
        "output_layer = resampled_model.layers[-1] \n",
        "output_layer.bias.assign([0])\n",
        "\n",
        "resampled_history = resampled_model.fit(\n",
        "    resampled_ds,\n",
        "    # These are not real epochs\n",
        "    steps_per_epoch = 20,\n",
        "    epochs=10*EPOCHS,\n",
        "    callbacks = [early_stopping],\n",
        "    validation_data=(val_ds))"
      ],
      "execution_count": 91,
      "outputs": [
        {
          "output_type": "stream",
          "text": [
            "Epoch 1/1000\n",
            "20/20 [==============================] - 1s 66ms/step - loss: 0.6751 - tp: 5178.0000 - fp: 500.0000 - tn: 383776.0000 - fn: 16058.0000 - accuracy: 0.9592 - precision: 0.9119 - recall: 0.2438 - auc: 0.9705 - val_loss: 0.6245 - val_tp: 50.0000 - val_fp: 4073.0000 - val_tn: 41424.0000 - val_fn: 22.0000 - val_accuracy: 0.9101 - val_precision: 0.0121 - val_recall: 0.6944 - val_auc: 0.8256\n",
            "Epoch 2/1000\n",
            "20/20 [==============================] - 1s 25ms/step - loss: 0.6156 - tp: 16446.0000 - fp: 2293.0000 - tn: 18200.0000 - fn: 4021.0000 - accuracy: 0.8458 - precision: 0.8776 - recall: 0.8035 - auc: 0.9007 - val_loss: 0.6130 - val_tp: 55.0000 - val_fp: 4649.0000 - val_tn: 40848.0000 - val_fn: 17.0000 - val_accuracy: 0.8976 - val_precision: 0.0117 - val_recall: 0.7639 - val_auc: 0.8762\n",
            "Epoch 3/1000\n",
            "20/20 [==============================] - 0s 23ms/step - loss: 0.5643 - tp: 17157.0000 - fp: 1579.0000 - tn: 18630.0000 - fn: 3594.0000 - accuracy: 0.8737 - precision: 0.9157 - recall: 0.8268 - auc: 0.9190 - val_loss: 0.5728 - val_tp: 52.0000 - val_fp: 2747.0000 - val_tn: 42750.0000 - val_fn: 20.0000 - val_accuracy: 0.9393 - val_precision: 0.0186 - val_recall: 0.7222 - val_auc: 0.8961\n",
            "Epoch 4/1000\n",
            "20/20 [==============================] - 0s 22ms/step - loss: 0.5177 - tp: 16921.0000 - fp: 1021.0000 - tn: 19330.0000 - fn: 3688.0000 - accuracy: 0.8850 - precision: 0.9431 - recall: 0.8210 - auc: 0.9243 - val_loss: 0.5285 - val_tp: 53.0000 - val_fp: 1789.0000 - val_tn: 43708.0000 - val_fn: 19.0000 - val_accuracy: 0.9603 - val_precision: 0.0288 - val_recall: 0.7361 - val_auc: 0.9063\n",
            "Epoch 5/1000\n",
            "20/20 [==============================] - 0s 21ms/step - loss: 0.4738 - tp: 16766.0000 - fp: 623.0000 - tn: 19939.0000 - fn: 3632.0000 - accuracy: 0.8961 - precision: 0.9642 - recall: 0.8219 - auc: 0.9290 - val_loss: 0.4781 - val_tp: 54.0000 - val_fp: 1136.0000 - val_tn: 44361.0000 - val_fn: 18.0000 - val_accuracy: 0.9747 - val_precision: 0.0454 - val_recall: 0.7500 - val_auc: 0.9102\n",
            "Epoch 6/1000\n",
            "20/20 [==============================] - 0s 22ms/step - loss: 0.4332 - tp: 16808.0000 - fp: 441.0000 - tn: 20072.0000 - fn: 3639.0000 - accuracy: 0.9004 - precision: 0.9744 - recall: 0.8220 - auc: 0.9331 - val_loss: 0.4362 - val_tp: 54.0000 - val_fp: 886.0000 - val_tn: 44611.0000 - val_fn: 18.0000 - val_accuracy: 0.9802 - val_precision: 0.0574 - val_recall: 0.7500 - val_auc: 0.9138\n",
            "Epoch 7/1000\n",
            "20/20 [==============================] - 1s 25ms/step - loss: 0.3978 - tp: 16897.0000 - fp: 380.0000 - tn: 20122.0000 - fn: 3561.0000 - accuracy: 0.9038 - precision: 0.9780 - recall: 0.8259 - auc: 0.9362 - val_loss: 0.3965 - val_tp: 56.0000 - val_fp: 722.0000 - val_tn: 44775.0000 - val_fn: 16.0000 - val_accuracy: 0.9838 - val_precision: 0.0720 - val_recall: 0.7778 - val_auc: 0.9182\n",
            "Epoch 8/1000\n",
            "20/20 [==============================] - 0s 24ms/step - loss: 0.3668 - tp: 16940.0000 - fp: 328.0000 - tn: 20200.0000 - fn: 3492.0000 - accuracy: 0.9067 - precision: 0.9810 - recall: 0.8291 - auc: 0.9394 - val_loss: 0.3594 - val_tp: 57.0000 - val_fp: 587.0000 - val_tn: 44910.0000 - val_fn: 15.0000 - val_accuracy: 0.9868 - val_precision: 0.0885 - val_recall: 0.7917 - val_auc: 0.9215\n",
            "Epoch 9/1000\n",
            "20/20 [==============================] - 1s 32ms/step - loss: 0.3380 - tp: 17085.0000 - fp: 241.0000 - tn: 20178.0000 - fn: 3456.0000 - accuracy: 0.9097 - precision: 0.9861 - recall: 0.8318 - auc: 0.9442 - val_loss: 0.3273 - val_tp: 57.0000 - val_fp: 522.0000 - val_tn: 44975.0000 - val_fn: 15.0000 - val_accuracy: 0.9882 - val_precision: 0.0984 - val_recall: 0.7917 - val_auc: 0.9244\n",
            "Epoch 10/1000\n",
            "20/20 [==============================] - 0s 23ms/step - loss: 0.3149 - tp: 17197.0000 - fp: 267.0000 - tn: 20092.0000 - fn: 3404.0000 - accuracy: 0.9104 - precision: 0.9847 - recall: 0.8348 - auc: 0.9475 - val_loss: 0.2997 - val_tp: 58.0000 - val_fp: 509.0000 - val_tn: 44988.0000 - val_fn: 14.0000 - val_accuracy: 0.9885 - val_precision: 0.1023 - val_recall: 0.8056 - val_auc: 0.9281\n",
            "Epoch 11/1000\n",
            "20/20 [==============================] - 1s 31ms/step - loss: 0.2942 - tp: 17181.0000 - fp: 244.0000 - tn: 20223.0000 - fn: 3312.0000 - accuracy: 0.9132 - precision: 0.9860 - recall: 0.8384 - auc: 0.9511 - val_loss: 0.2733 - val_tp: 58.0000 - val_fp: 482.0000 - val_tn: 45015.0000 - val_fn: 14.0000 - val_accuracy: 0.9891 - val_precision: 0.1074 - val_recall: 0.8056 - val_auc: 0.9323\n",
            "Epoch 12/1000\n",
            "20/20 [==============================] - 1s 28ms/step - loss: 0.2764 - tp: 17294.0000 - fp: 206.0000 - tn: 20211.0000 - fn: 3249.0000 - accuracy: 0.9156 - precision: 0.9882 - recall: 0.8418 - auc: 0.9547 - val_loss: 0.2494 - val_tp: 58.0000 - val_fp: 454.0000 - val_tn: 45043.0000 - val_fn: 14.0000 - val_accuracy: 0.9897 - val_precision: 0.1133 - val_recall: 0.8056 - val_auc: 0.9368\n",
            "Epoch 13/1000\n",
            "20/20 [==============================] - 1s 28ms/step - loss: 0.2600 - tp: 17399.0000 - fp: 223.0000 - tn: 20222.0000 - fn: 3116.0000 - accuracy: 0.9185 - precision: 0.9873 - recall: 0.8481 - auc: 0.9586 - val_loss: 0.2300 - val_tp: 58.0000 - val_fp: 464.0000 - val_tn: 45033.0000 - val_fn: 14.0000 - val_accuracy: 0.9895 - val_precision: 0.1111 - val_recall: 0.8056 - val_auc: 0.9414\n",
            "Epoch 14/1000\n",
            "20/20 [==============================] - 0s 20ms/step - loss: 0.2477 - tp: 17466.0000 - fp: 252.0000 - tn: 20182.0000 - fn: 3060.0000 - accuracy: 0.9191 - precision: 0.9858 - recall: 0.8509 - auc: 0.9611 - val_loss: 0.2128 - val_tp: 59.0000 - val_fp: 479.0000 - val_tn: 45018.0000 - val_fn: 13.0000 - val_accuracy: 0.9892 - val_precision: 0.1097 - val_recall: 0.8194 - val_auc: 0.9454\n",
            "Epoch 15/1000\n",
            "20/20 [==============================] - 1s 30ms/step - loss: 0.2372 - tp: 17446.0000 - fp: 228.0000 - tn: 20383.0000 - fn: 2903.0000 - accuracy: 0.9236 - precision: 0.9871 - recall: 0.8573 - auc: 0.9631 - val_loss: 0.1949 - val_tp: 59.0000 - val_fp: 491.0000 - val_tn: 45006.0000 - val_fn: 13.0000 - val_accuracy: 0.9889 - val_precision: 0.1073 - val_recall: 0.8194 - val_auc: 0.9487\n",
            "Epoch 16/1000\n",
            "20/20 [==============================] - 1s 28ms/step - loss: 0.2254 - tp: 17853.0000 - fp: 200.0000 - tn: 20083.0000 - fn: 2824.0000 - accuracy: 0.9262 - precision: 0.9889 - recall: 0.8634 - auc: 0.9666 - val_loss: 0.1844 - val_tp: 60.0000 - val_fp: 550.0000 - val_tn: 44947.0000 - val_fn: 12.0000 - val_accuracy: 0.9877 - val_precision: 0.0984 - val_recall: 0.8333 - val_auc: 0.9517\n",
            "Epoch 17/1000\n",
            "20/20 [==============================] - 0s 20ms/step - loss: 0.2178 - tp: 17737.0000 - fp: 248.0000 - tn: 20199.0000 - fn: 2776.0000 - accuracy: 0.9262 - precision: 0.9862 - recall: 0.8647 - auc: 0.9681 - val_loss: 0.1744 - val_tp: 60.0000 - val_fp: 603.0000 - val_tn: 44894.0000 - val_fn: 12.0000 - val_accuracy: 0.9865 - val_precision: 0.0905 - val_recall: 0.8333 - val_auc: 0.9540\n",
            "Epoch 18/1000\n",
            "20/20 [==============================] - 1s 31ms/step - loss: 0.2104 - tp: 17891.0000 - fp: 282.0000 - tn: 20077.0000 - fn: 2710.0000 - accuracy: 0.9270 - precision: 0.9845 - recall: 0.8685 - auc: 0.9703 - val_loss: 0.1644 - val_tp: 60.0000 - val_fp: 633.0000 - val_tn: 44864.0000 - val_fn: 12.0000 - val_accuracy: 0.9858 - val_precision: 0.0866 - val_recall: 0.8333 - val_auc: 0.9564\n",
            "Epoch 19/1000\n",
            "20/20 [==============================] - 1s 26ms/step - loss: 0.2032 - tp: 17871.0000 - fp: 281.0000 - tn: 20179.0000 - fn: 2629.0000 - accuracy: 0.9290 - precision: 0.9845 - recall: 0.8718 - auc: 0.9720 - val_loss: 0.1565 - val_tp: 62.0000 - val_fp: 670.0000 - val_tn: 44827.0000 - val_fn: 10.0000 - val_accuracy: 0.9851 - val_precision: 0.0847 - val_recall: 0.8611 - val_auc: 0.9580\n",
            "Epoch 20/1000\n",
            "20/20 [==============================] - 1s 30ms/step - loss: 0.1980 - tp: 17989.0000 - fp: 311.0000 - tn: 20056.0000 - fn: 2604.0000 - accuracy: 0.9288 - precision: 0.9830 - recall: 0.8735 - auc: 0.9735 - val_loss: 0.1505 - val_tp: 62.0000 - val_fp: 705.0000 - val_tn: 44792.0000 - val_fn: 10.0000 - val_accuracy: 0.9843 - val_precision: 0.0808 - val_recall: 0.8611 - val_auc: 0.9596\n",
            "Epoch 21/1000\n",
            "20/20 [==============================] - 0s 25ms/step - loss: 0.1938 - tp: 18111.0000 - fp: 353.0000 - tn: 19898.0000 - fn: 2598.0000 - accuracy: 0.9280 - precision: 0.9809 - recall: 0.8745 - auc: 0.9747 - val_loss: 0.1458 - val_tp: 62.0000 - val_fp: 750.0000 - val_tn: 44747.0000 - val_fn: 10.0000 - val_accuracy: 0.9833 - val_precision: 0.0764 - val_recall: 0.8611 - val_auc: 0.9613\n",
            "Epoch 22/1000\n",
            "20/20 [==============================] - 0s 25ms/step - loss: 0.1885 - tp: 18009.0000 - fp: 349.0000 - tn: 20078.0000 - fn: 2524.0000 - accuracy: 0.9299 - precision: 0.9810 - recall: 0.8771 - auc: 0.9760 - val_loss: 0.1409 - val_tp: 62.0000 - val_fp: 789.0000 - val_tn: 44708.0000 - val_fn: 10.0000 - val_accuracy: 0.9825 - val_precision: 0.0729 - val_recall: 0.8611 - val_auc: 0.9625\n",
            "Epoch 23/1000\n",
            "20/20 [==============================] - 0s 24ms/step - loss: 0.1861 - tp: 18070.0000 - fp: 398.0000 - tn: 19957.0000 - fn: 2535.0000 - accuracy: 0.9284 - precision: 0.9784 - recall: 0.8770 - auc: 0.9767 - val_loss: 0.1359 - val_tp: 62.0000 - val_fp: 807.0000 - val_tn: 44690.0000 - val_fn: 10.0000 - val_accuracy: 0.9821 - val_precision: 0.0713 - val_recall: 0.8611 - val_auc: 0.9634\n",
            "Epoch 24/1000\n",
            "20/20 [==============================] - 1s 28ms/step - loss: 0.1809 - tp: 18013.0000 - fp: 364.0000 - tn: 20063.0000 - fn: 2520.0000 - accuracy: 0.9296 - precision: 0.9802 - recall: 0.8773 - auc: 0.9781 - val_loss: 0.1332 - val_tp: 63.0000 - val_fp: 863.0000 - val_tn: 44634.0000 - val_fn: 9.0000 - val_accuracy: 0.9809 - val_precision: 0.0680 - val_recall: 0.8750 - val_auc: 0.9639\n",
            "Epoch 25/1000\n",
            "20/20 [==============================] - 0s 24ms/step - loss: 0.1791 - tp: 18084.0000 - fp: 418.0000 - tn: 19917.0000 - fn: 2541.0000 - accuracy: 0.9278 - precision: 0.9774 - recall: 0.8768 - auc: 0.9786 - val_loss: 0.1309 - val_tp: 65.0000 - val_fp: 908.0000 - val_tn: 44589.0000 - val_fn: 7.0000 - val_accuracy: 0.9799 - val_precision: 0.0668 - val_recall: 0.9028 - val_auc: 0.9651\n",
            "Epoch 26/1000\n",
            "20/20 [==============================] - 1s 25ms/step - loss: 0.1757 - tp: 18002.0000 - fp: 416.0000 - tn: 20141.0000 - fn: 2401.0000 - accuracy: 0.9312 - precision: 0.9774 - recall: 0.8823 - auc: 0.9792 - val_loss: 0.1280 - val_tp: 65.0000 - val_fp: 948.0000 - val_tn: 44549.0000 - val_fn: 7.0000 - val_accuracy: 0.9790 - val_precision: 0.0642 - val_recall: 0.9028 - val_auc: 0.9653\n",
            "Epoch 27/1000\n",
            "20/20 [==============================] - 1s 28ms/step - loss: 0.1728 - tp: 18147.0000 - fp: 441.0000 - tn: 19995.0000 - fn: 2377.0000 - accuracy: 0.9312 - precision: 0.9763 - recall: 0.8842 - auc: 0.9802 - val_loss: 0.1268 - val_tp: 66.0000 - val_fp: 1007.0000 - val_tn: 44490.0000 - val_fn: 6.0000 - val_accuracy: 0.9778 - val_precision: 0.0615 - val_recall: 0.9167 - val_auc: 0.9668\n",
            "Epoch 28/1000\n",
            "20/20 [==============================] - 1s 25ms/step - loss: 0.1705 - tp: 18122.0000 - fp: 443.0000 - tn: 20079.0000 - fn: 2316.0000 - accuracy: 0.9326 - precision: 0.9761 - recall: 0.8867 - auc: 0.9805 - val_loss: 0.1257 - val_tp: 67.0000 - val_fp: 1057.0000 - val_tn: 44440.0000 - val_fn: 5.0000 - val_accuracy: 0.9767 - val_precision: 0.0596 - val_recall: 0.9306 - val_auc: 0.9673\n",
            "Epoch 29/1000\n",
            "20/20 [==============================] - 0s 22ms/step - loss: 0.1698 - tp: 18253.0000 - fp: 504.0000 - tn: 19932.0000 - fn: 2271.0000 - accuracy: 0.9323 - precision: 0.9731 - recall: 0.8893 - auc: 0.9808 - val_loss: 0.1244 - val_tp: 67.0000 - val_fp: 1085.0000 - val_tn: 44412.0000 - val_fn: 5.0000 - val_accuracy: 0.9761 - val_precision: 0.0582 - val_recall: 0.9306 - val_auc: 0.9680\n",
            "Epoch 30/1000\n",
            "20/20 [==============================] - 1s 27ms/step - loss: 0.1684 - tp: 18324.0000 - fp: 521.0000 - tn: 20039.0000 - fn: 2076.0000 - accuracy: 0.9366 - precision: 0.9724 - recall: 0.8982 - auc: 0.9810 - val_loss: 0.1225 - val_tp: 67.0000 - val_fp: 1093.0000 - val_tn: 44404.0000 - val_fn: 5.0000 - val_accuracy: 0.9759 - val_precision: 0.0578 - val_recall: 0.9306 - val_auc: 0.9682\n",
            "Epoch 31/1000\n",
            "20/20 [==============================] - 0s 22ms/step - loss: 0.1676 - tp: 18576.0000 - fp: 523.0000 - tn: 19862.0000 - fn: 1999.0000 - accuracy: 0.9384 - precision: 0.9726 - recall: 0.9028 - auc: 0.9813 - val_loss: 0.1220 - val_tp: 67.0000 - val_fp: 1129.0000 - val_tn: 44368.0000 - val_fn: 5.0000 - val_accuracy: 0.9751 - val_precision: 0.0560 - val_recall: 0.9306 - val_auc: 0.9692\n",
            "Epoch 32/1000\n",
            "20/20 [==============================] - 0s 22ms/step - loss: 0.1664 - tp: 18562.0000 - fp: 564.0000 - tn: 19840.0000 - fn: 1994.0000 - accuracy: 0.9375 - precision: 0.9705 - recall: 0.9030 - auc: 0.9817 - val_loss: 0.1215 - val_tp: 67.0000 - val_fp: 1157.0000 - val_tn: 44340.0000 - val_fn: 5.0000 - val_accuracy: 0.9745 - val_precision: 0.0547 - val_recall: 0.9306 - val_auc: 0.9697\n",
            "Epoch 33/1000\n",
            "20/20 [==============================] - 0s 24ms/step - loss: 0.1642 - tp: 18536.0000 - fp: 548.0000 - tn: 19927.0000 - fn: 1949.0000 - accuracy: 0.9390 - precision: 0.9713 - recall: 0.9049 - auc: 0.9822 - val_loss: 0.1210 - val_tp: 67.0000 - val_fp: 1185.0000 - val_tn: 44312.0000 - val_fn: 5.0000 - val_accuracy: 0.9739 - val_precision: 0.0535 - val_recall: 0.9306 - val_auc: 0.9701\n",
            "Epoch 34/1000\n",
            "20/20 [==============================] - 0s 23ms/step - loss: 0.1642 - tp: 18469.0000 - fp: 559.0000 - tn: 20014.0000 - fn: 1918.0000 - accuracy: 0.9395 - precision: 0.9706 - recall: 0.9059 - auc: 0.9820 - val_loss: 0.1195 - val_tp: 67.0000 - val_fp: 1180.0000 - val_tn: 44317.0000 - val_fn: 5.0000 - val_accuracy: 0.9740 - val_precision: 0.0537 - val_recall: 0.9306 - val_auc: 0.9704\n",
            "Epoch 35/1000\n",
            "20/20 [==============================] - 1s 28ms/step - loss: 0.1629 - tp: 18723.0000 - fp: 540.0000 - tn: 19761.0000 - fn: 1936.0000 - accuracy: 0.9396 - precision: 0.9720 - recall: 0.9063 - auc: 0.9826 - val_loss: 0.1206 - val_tp: 67.0000 - val_fp: 1233.0000 - val_tn: 44264.0000 - val_fn: 5.0000 - val_accuracy: 0.9728 - val_precision: 0.0515 - val_recall: 0.9306 - val_auc: 0.9707\n",
            "Epoch 36/1000\n",
            "20/20 [==============================] - 1s 30ms/step - loss: 0.1614 - tp: 18673.0000 - fp: 542.0000 - tn: 19812.0000 - fn: 1933.0000 - accuracy: 0.9396 - precision: 0.9718 - recall: 0.9062 - auc: 0.9828 - val_loss: 0.1215 - val_tp: 67.0000 - val_fp: 1255.0000 - val_tn: 44242.0000 - val_fn: 5.0000 - val_accuracy: 0.9723 - val_precision: 0.0507 - val_recall: 0.9306 - val_auc: 0.9710\n",
            "Epoch 37/1000\n",
            "20/20 [==============================] - 1s 29ms/step - loss: 0.1612 - tp: 18599.0000 - fp: 563.0000 - tn: 19865.0000 - fn: 1933.0000 - accuracy: 0.9391 - precision: 0.9706 - recall: 0.9059 - auc: 0.9828 - val_loss: 0.1200 - val_tp: 67.0000 - val_fp: 1253.0000 - val_tn: 44244.0000 - val_fn: 5.0000 - val_accuracy: 0.9724 - val_precision: 0.0508 - val_recall: 0.9306 - val_auc: 0.9713\n",
            "Epoch 38/1000\n",
            "20/20 [==============================] - 1s 31ms/step - loss: 0.1618 - tp: 18790.0000 - fp: 623.0000 - tn: 19608.0000 - fn: 1939.0000 - accuracy: 0.9375 - precision: 0.9679 - recall: 0.9065 - auc: 0.9829 - val_loss: 0.1198 - val_tp: 67.0000 - val_fp: 1261.0000 - val_tn: 44236.0000 - val_fn: 5.0000 - val_accuracy: 0.9722 - val_precision: 0.0505 - val_recall: 0.9306 - val_auc: 0.9717\n",
            "Epoch 39/1000\n",
            "20/20 [==============================] - 1s 26ms/step - loss: 0.1596 - tp: 18521.0000 - fp: 586.0000 - tn: 19933.0000 - fn: 1920.0000 - accuracy: 0.9388 - precision: 0.9693 - recall: 0.9061 - auc: 0.9831 - val_loss: 0.1193 - val_tp: 67.0000 - val_fp: 1265.0000 - val_tn: 44232.0000 - val_fn: 5.0000 - val_accuracy: 0.9721 - val_precision: 0.0503 - val_recall: 0.9306 - val_auc: 0.9716\n",
            "Epoch 40/1000\n",
            "20/20 [==============================] - 1s 28ms/step - loss: 0.1587 - tp: 18522.0000 - fp: 576.0000 - tn: 19943.0000 - fn: 1919.0000 - accuracy: 0.9391 - precision: 0.9698 - recall: 0.9061 - auc: 0.9835 - val_loss: 0.1185 - val_tp: 67.0000 - val_fp: 1255.0000 - val_tn: 44242.0000 - val_fn: 5.0000 - val_accuracy: 0.9723 - val_precision: 0.0507 - val_recall: 0.9306 - val_auc: 0.9720\n",
            "Epoch 41/1000\n",
            "20/20 [==============================] - 1s 27ms/step - loss: 0.1584 - tp: 18763.0000 - fp: 570.0000 - tn: 19747.0000 - fn: 1880.0000 - accuracy: 0.9402 - precision: 0.9705 - recall: 0.9089 - auc: 0.9834 - val_loss: 0.1200 - val_tp: 67.0000 - val_fp: 1297.0000 - val_tn: 44200.0000 - val_fn: 5.0000 - val_accuracy: 0.9714 - val_precision: 0.0491 - val_recall: 0.9306 - val_auc: 0.9720\n",
            "Epoch 42/1000\n",
            "20/20 [==============================] - 1s 29ms/step - loss: 0.1584 - tp: 18393.0000 - fp: 608.0000 - tn: 20126.0000 - fn: 1833.0000 - accuracy: 0.9404 - precision: 0.9680 - recall: 0.9094 - auc: 0.9832 - val_loss: 0.1170 - val_tp: 67.0000 - val_fp: 1248.0000 - val_tn: 44249.0000 - val_fn: 5.0000 - val_accuracy: 0.9725 - val_precision: 0.0510 - val_recall: 0.9306 - val_auc: 0.9722\n",
            "Epoch 43/1000\n",
            "20/20 [==============================] - 1s 28ms/step - loss: 0.1571 - tp: 18551.0000 - fp: 588.0000 - tn: 19975.0000 - fn: 1846.0000 - accuracy: 0.9406 - precision: 0.9693 - recall: 0.9095 - auc: 0.9837 - val_loss: 0.1182 - val_tp: 67.0000 - val_fp: 1278.0000 - val_tn: 44219.0000 - val_fn: 5.0000 - val_accuracy: 0.9718 - val_precision: 0.0498 - val_recall: 0.9306 - val_auc: 0.9726\n",
            "Epoch 44/1000\n",
            "20/20 [==============================] - 1s 26ms/step - loss: 0.1575 - tp: 18743.0000 - fp: 628.0000 - tn: 19793.0000 - fn: 1796.0000 - accuracy: 0.9408 - precision: 0.9676 - recall: 0.9126 - auc: 0.9838 - val_loss: 0.1184 - val_tp: 67.0000 - val_fp: 1285.0000 - val_tn: 44212.0000 - val_fn: 5.0000 - val_accuracy: 0.9717 - val_precision: 0.0496 - val_recall: 0.9306 - val_auc: 0.9727\n",
            "Epoch 45/1000\n",
            "20/20 [==============================] - 0s 24ms/step - loss: 0.1567 - tp: 18602.0000 - fp: 623.0000 - tn: 19954.0000 - fn: 1781.0000 - accuracy: 0.9413 - precision: 0.9676 - recall: 0.9126 - auc: 0.9839 - val_loss: 0.1186 - val_tp: 67.0000 - val_fp: 1290.0000 - val_tn: 44207.0000 - val_fn: 5.0000 - val_accuracy: 0.9716 - val_precision: 0.0494 - val_recall: 0.9306 - val_auc: 0.9727\n",
            "Epoch 46/1000\n",
            "20/20 [==============================] - 1s 26ms/step - loss: 0.1574 - tp: 18665.0000 - fp: 610.0000 - tn: 19899.0000 - fn: 1786.0000 - accuracy: 0.9415 - precision: 0.9684 - recall: 0.9127 - auc: 0.9837 - val_loss: 0.1171 - val_tp: 67.0000 - val_fp: 1281.0000 - val_tn: 44216.0000 - val_fn: 5.0000 - val_accuracy: 0.9718 - val_precision: 0.0497 - val_recall: 0.9306 - val_auc: 0.9727\n",
            "Epoch 47/1000\n",
            "20/20 [==============================] - 0s 23ms/step - loss: 0.1537 - tp: 18633.0000 - fp: 545.0000 - tn: 19999.0000 - fn: 1783.0000 - accuracy: 0.9432 - precision: 0.9716 - recall: 0.9127 - auc: 0.9846 - val_loss: 0.1185 - val_tp: 67.0000 - val_fp: 1309.0000 - val_tn: 44188.0000 - val_fn: 5.0000 - val_accuracy: 0.9712 - val_precision: 0.0487 - val_recall: 0.9306 - val_auc: 0.9724\n",
            "Epoch 48/1000\n",
            "20/20 [==============================] - 0s 24ms/step - loss: 0.1563 - tp: 18734.0000 - fp: 640.0000 - tn: 19792.0000 - fn: 1794.0000 - accuracy: 0.9406 - precision: 0.9670 - recall: 0.9126 - auc: 0.9842 - val_loss: 0.1196 - val_tp: 67.0000 - val_fp: 1319.0000 - val_tn: 44178.0000 - val_fn: 5.0000 - val_accuracy: 0.9709 - val_precision: 0.0483 - val_recall: 0.9306 - val_auc: 0.9727\n",
            "Epoch 49/1000\n",
            "20/20 [==============================] - 0s 21ms/step - loss: 0.1556 - tp: 18794.0000 - fp: 623.0000 - tn: 19744.0000 - fn: 1799.0000 - accuracy: 0.9409 - precision: 0.9679 - recall: 0.9126 - auc: 0.9843 - val_loss: 0.1190 - val_tp: 67.0000 - val_fp: 1322.0000 - val_tn: 44175.0000 - val_fn: 5.0000 - val_accuracy: 0.9709 - val_precision: 0.0482 - val_recall: 0.9306 - val_auc: 0.9728\n",
            "Epoch 50/1000\n",
            "20/20 [==============================] - 1s 28ms/step - loss: 0.1566 - tp: 18679.0000 - fp: 660.0000 - tn: 19828.0000 - fn: 1793.0000 - accuracy: 0.9401 - precision: 0.9659 - recall: 0.9124 - auc: 0.9841 - val_loss: 0.1185 - val_tp: 67.0000 - val_fp: 1318.0000 - val_tn: 44179.0000 - val_fn: 5.0000 - val_accuracy: 0.9710 - val_precision: 0.0484 - val_recall: 0.9306 - val_auc: 0.9729\n",
            "Epoch 51/1000\n",
            "20/20 [==============================] - 0s 20ms/step - loss: 0.1555 - tp: 18729.0000 - fp: 644.0000 - tn: 19798.0000 - fn: 1789.0000 - accuracy: 0.9406 - precision: 0.9668 - recall: 0.9128 - auc: 0.9842 - val_loss: 0.1178 - val_tp: 67.0000 - val_fp: 1312.0000 - val_tn: 44185.0000 - val_fn: 5.0000 - val_accuracy: 0.9711 - val_precision: 0.0486 - val_recall: 0.9306 - val_auc: 0.9729\n",
            "Epoch 52/1000\n",
            "20/20 [==============================] - 0s 25ms/step - loss: 0.1548 - tp: 18773.0000 - fp: 590.0000 - tn: 19799.0000 - fn: 1798.0000 - accuracy: 0.9417 - precision: 0.9695 - recall: 0.9126 - auc: 0.9843 - val_loss: 0.1183 - val_tp: 67.0000 - val_fp: 1320.0000 - val_tn: 44177.0000 - val_fn: 5.0000 - val_accuracy: 0.9709 - val_precision: 0.0483 - val_recall: 0.9306 - val_auc: 0.9750\n",
            "Epoch 53/1000\n",
            "20/20 [==============================] - 0s 20ms/step - loss: 0.1545 - tp: 18873.0000 - fp: 632.0000 - tn: 19677.0000 - fn: 1778.0000 - accuracy: 0.9412 - precision: 0.9676 - recall: 0.9139 - auc: 0.9845 - val_loss: 0.1191 - val_tp: 67.0000 - val_fp: 1334.0000 - val_tn: 44163.0000 - val_fn: 5.0000 - val_accuracy: 0.9706 - val_precision: 0.0478 - val_recall: 0.9306 - val_auc: 0.9749\n",
            "Epoch 54/1000\n",
            "20/20 [==============================] - 1s 29ms/step - loss: 0.1535 - tp: 18736.0000 - fp: 591.0000 - tn: 19909.0000 - fn: 1724.0000 - accuracy: 0.9435 - precision: 0.9694 - recall: 0.9157 - auc: 0.9847 - val_loss: 0.1187 - val_tp: 67.0000 - val_fp: 1333.0000 - val_tn: 44164.0000 - val_fn: 5.0000 - val_accuracy: 0.9706 - val_precision: 0.0479 - val_recall: 0.9306 - val_auc: 0.9750\n",
            "Epoch 55/1000\n",
            "20/20 [==============================] - 1s 29ms/step - loss: 0.1541 - tp: 18937.0000 - fp: 647.0000 - tn: 19638.0000 - fn: 1738.0000 - accuracy: 0.9418 - precision: 0.9670 - recall: 0.9159 - auc: 0.9849 - val_loss: 0.1193 - val_tp: 67.0000 - val_fp: 1343.0000 - val_tn: 44154.0000 - val_fn: 5.0000 - val_accuracy: 0.9704 - val_precision: 0.0475 - val_recall: 0.9306 - val_auc: 0.9748\n",
            "Epoch 56/1000\n",
            "20/20 [==============================] - 0s 23ms/step - loss: 0.1526 - tp: 18772.0000 - fp: 587.0000 - tn: 19873.0000 - fn: 1728.0000 - accuracy: 0.9435 - precision: 0.9697 - recall: 0.9157 - auc: 0.9850 - val_loss: 0.1191 - val_tp: 67.0000 - val_fp: 1347.0000 - val_tn: 44150.0000 - val_fn: 5.0000 - val_accuracy: 0.9703 - val_precision: 0.0474 - val_recall: 0.9306 - val_auc: 0.9749\n",
            "Epoch 57/1000\n",
            "20/20 [==============================] - 0s 21ms/step - loss: 0.1540 - tp: 18604.0000 - fp: 648.0000 - tn: 19998.0000 - fn: 1710.0000 - accuracy: 0.9424 - precision: 0.9663 - recall: 0.9158 - auc: 0.9848 - val_loss: 0.1162 - val_tp: 67.0000 - val_fp: 1299.0000 - val_tn: 44198.0000 - val_fn: 5.0000 - val_accuracy: 0.9714 - val_precision: 0.0490 - val_recall: 0.9306 - val_auc: 0.9751\n",
            "Epoch 58/1000\n",
            "20/20 [==============================] - 0s 24ms/step - loss: 0.1532 - tp: 18683.0000 - fp: 630.0000 - tn: 19931.0000 - fn: 1716.0000 - accuracy: 0.9427 - precision: 0.9674 - recall: 0.9159 - auc: 0.9851 - val_loss: 0.1167 - val_tp: 67.0000 - val_fp: 1311.0000 - val_tn: 44186.0000 - val_fn: 5.0000 - val_accuracy: 0.9711 - val_precision: 0.0486 - val_recall: 0.9306 - val_auc: 0.9748\n",
            "Epoch 59/1000\n",
            "20/20 [==============================] - 0s 21ms/step - loss: 0.1528 - tp: 18631.0000 - fp: 645.0000 - tn: 19972.0000 - fn: 1712.0000 - accuracy: 0.9425 - precision: 0.9665 - recall: 0.9158 - auc: 0.9852 - val_loss: 0.1170 - val_tp: 67.0000 - val_fp: 1317.0000 - val_tn: 44180.0000 - val_fn: 5.0000 - val_accuracy: 0.9710 - val_precision: 0.0484 - val_recall: 0.9306 - val_auc: 0.9749\n",
            "Epoch 60/1000\n",
            "20/20 [==============================] - 1s 25ms/step - loss: 0.1532 - tp: 18921.0000 - fp: 628.0000 - tn: 19673.0000 - fn: 1738.0000 - accuracy: 0.9422 - precision: 0.9679 - recall: 0.9159 - auc: 0.9851 - val_loss: 0.1171 - val_tp: 67.0000 - val_fp: 1318.0000 - val_tn: 44179.0000 - val_fn: 5.0000 - val_accuracy: 0.9710 - val_precision: 0.0484 - val_recall: 0.9306 - val_auc: 0.9749\n",
            "Epoch 61/1000\n",
            "20/20 [==============================] - 0s 20ms/step - loss: 0.1496 - tp: 18646.0000 - fp: 581.0000 - tn: 20022.0000 - fn: 1711.0000 - accuracy: 0.9440 - precision: 0.9698 - recall: 0.9160 - auc: 0.9859 - val_loss: 0.1185 - val_tp: 67.0000 - val_fp: 1332.0000 - val_tn: 44165.0000 - val_fn: 5.0000 - val_accuracy: 0.9707 - val_precision: 0.0479 - val_recall: 0.9306 - val_auc: 0.9748\n",
            "Epoch 62/1000\n",
            "20/20 [==============================] - 0s 21ms/step - loss: 0.1524 - tp: 18758.0000 - fp: 640.0000 - tn: 19842.0000 - fn: 1720.0000 - accuracy: 0.9424 - precision: 0.9670 - recall: 0.9160 - auc: 0.9854 - val_loss: 0.1166 - val_tp: 67.0000 - val_fp: 1304.0000 - val_tn: 44193.0000 - val_fn: 5.0000 - val_accuracy: 0.9713 - val_precision: 0.0489 - val_recall: 0.9306 - val_auc: 0.9749\n",
            "Epoch 63/1000\n",
            "20/20 [==============================] - 1s 25ms/step - loss: 0.1510 - tp: 18603.0000 - fp: 613.0000 - tn: 20031.0000 - fn: 1713.0000 - accuracy: 0.9432 - precision: 0.9681 - recall: 0.9157 - auc: 0.9855 - val_loss: 0.1162 - val_tp: 67.0000 - val_fp: 1296.0000 - val_tn: 44201.0000 - val_fn: 5.0000 - val_accuracy: 0.9714 - val_precision: 0.0492 - val_recall: 0.9306 - val_auc: 0.9748\n",
            "Epoch 64/1000\n",
            "20/20 [==============================] - 0s 23ms/step - loss: 0.1493 - tp: 18725.0000 - fp: 572.0000 - tn: 19944.0000 - fn: 1719.0000 - accuracy: 0.9441 - precision: 0.9704 - recall: 0.9159 - auc: 0.9860 - val_loss: 0.1174 - val_tp: 67.0000 - val_fp: 1322.0000 - val_tn: 44175.0000 - val_fn: 5.0000 - val_accuracy: 0.9709 - val_precision: 0.0482 - val_recall: 0.9306 - val_auc: 0.9747\n",
            "Epoch 65/1000\n",
            "20/20 [==============================] - 1s 31ms/step - loss: 0.1487 - tp: 18705.0000 - fp: 602.0000 - tn: 19936.0000 - fn: 1717.0000 - accuracy: 0.9434 - precision: 0.9688 - recall: 0.9159 - auc: 0.9862 - val_loss: 0.1174 - val_tp: 67.0000 - val_fp: 1333.0000 - val_tn: 44164.0000 - val_fn: 5.0000 - val_accuracy: 0.9706 - val_precision: 0.0479 - val_recall: 0.9306 - val_auc: 0.9748\n",
            "Epoch 66/1000\n",
            "20/20 [==============================] - 1s 28ms/step - loss: 0.1516 - tp: 18797.0000 - fp: 652.0000 - tn: 19784.0000 - fn: 1727.0000 - accuracy: 0.9419 - precision: 0.9665 - recall: 0.9159 - auc: 0.9858 - val_loss: 0.1150 - val_tp: 67.0000 - val_fp: 1286.0000 - val_tn: 44211.0000 - val_fn: 5.0000 - val_accuracy: 0.9717 - val_precision: 0.0495 - val_recall: 0.9306 - val_auc: 0.9749\n",
            "Epoch 67/1000\n",
            "19/20 [===========================>..] - ETA: 0s - loss: 0.1501 - tp: 17713.0000 - fp: 570.0000 - tn: 19002.0000 - fn: 1627.0000 - accuracy: 0.9435 - precision: 0.9688 - recall: 0.9159 - auc: 0.9861Restoring model weights from the end of the best epoch.\n",
            "20/20 [==============================] - 1s 29ms/step - loss: 0.1499 - tp: 18666.0000 - fp: 594.0000 - tn: 19983.0000 - fn: 1717.0000 - accuracy: 0.9436 - precision: 0.9692 - recall: 0.9158 - auc: 0.9861 - val_loss: 0.1145 - val_tp: 67.0000 - val_fp: 1277.0000 - val_tn: 44220.0000 - val_fn: 5.0000 - val_accuracy: 0.9719 - val_precision: 0.0499 - val_recall: 0.9306 - val_auc: 0.9750\n",
            "Epoch 00067: early stopping\n"
          ],
          "name": "stdout"
        }
      ]
    },
    {
      "cell_type": "code",
      "metadata": {
        "colab_type": "code",
        "id": "FMycrpJwn39w",
        "outputId": "3e5d95ba-6480-40fc-b8ae-d61867b4d3ba",
        "colab": {
          "base_uri": "https://localhost:8080/",
          "height": 609
        }
      },
      "source": [
        "plot_metrics(resampled_history)"
      ],
      "execution_count": 92,
      "outputs": [
        {
          "output_type": "display_data",
          "data": {
            "image/png": "[encoded data removed]",
            "text/plain": [
              "<Figure size 864x720 with 4 Axes>"
            ]
          },
          "metadata": {
            "tags": []
          }
        }
      ]
    },
    {
      "cell_type": "code",
      "metadata": {
        "colab_type": "code",
        "id": "C0fmHSgXxFdW",
        "colab": {}
      },
      "source": [
        "train_predictions_resampled = resampled_model.predict(train_features, batch_size=BATCH_SIZE)\n",
        "test_predictions_resampled = resampled_model.predict(test_features, batch_size=BATCH_SIZE)"
      ],
      "execution_count": 0,
      "outputs": []
    },
    {
      "cell_type": "code",
      "metadata": {
        "colab_type": "code",
        "id": "FO0mMOYUDWFk",
        "outputId": "ab4990a7-58ed-48f4-8ec7-ca2eae03610c",
        "colab": {
          "base_uri": "https://localhost:8080/",
          "height": 602
        }
      },
      "source": [
        "resampled_results = resampled_model.evaluate(test_features, test_labels,\n",
        "                                             batch_size=BATCH_SIZE, verbose=0)\n",
        "for name, value in zip(resampled_model.metrics_names, resampled_results):\n",
        "  print(name, ': ', value)\n",
        "print()\n",
        "\n",
        "plot_cm(test_labels, test_predictions_resampled)\n",
        "\n",
        "weights1 = resampled_model.layers[0].get_weights()[0]\n",
        "biases1 = resampled_model.layers[0].get_weights()[1]\n",
        "weights2 = resampled_model.layers[1].get_weights()[0]\n",
        "biases2 = resampled_model.layers[1].get_weights()[1]\n",
        "\n",
        "# with np.printoptions(precision=16, suppress=True):\n",
        "#     print(weights1)\n",
        "\n",
        "# print(weights1)\n",
        "# print(biases1)\n",
        "# print(weights2)\n",
        "# print(biases2)"
      ],
      "execution_count": 94,
      "outputs": [
        {
          "output_type": "stream",
          "text": [
            "loss :  0.11650435626506805\n",
            "tp :  99.0\n",
            "fp :  1705.0\n",
            "tn :  55146.0\n",
            "fn :  12.0\n",
            "accuracy :  0.9698570966720581\n",
            "precision :  0.05487804859876633\n",
            "recall :  0.8918918967247009\n",
            "auc :  0.9844763875007629\n",
            "\n",
            "Legitimate Transactions Detected (True Negatives):  55146\n",
            "Legitimate Transactions Incorrectly Detected (False Positives):  1705\n",
            "Fraudulent Transactions Missed (False Negatives):  12\n",
            "Fraudulent Transactions Detected (True Positives):  99\n",
            "Total Fraudulent Transactions:  111\n"
          ],
          "name": "stdout"
        },
        {
          "output_type": "display_data",
          "data": {
            "image/png": "[encoded data removed]",
            "text/plain": [
              "<Figure size 360x360 with 2 Axes>"
            ]
          },
          "metadata": {
            "tags": []
          }
        }
      ]
    },
    {
      "cell_type": "code",
      "metadata": {
        "colab_type": "code",
        "id": "fye_CiuYrZ1U",
        "outputId": "3a4d39b1-e61b-40ca-dc22-264e5a36ac33",
        "colab": {
          "base_uri": "https://localhost:8080/",
          "height": 623
        }
      },
      "source": [
        "plot_roc(\"Train Resampled\", train_labels, train_predictions_resampled,  color=colors[2])\n",
        "plot_roc(\"Test Resampled\", test_labels, test_predictions_resampled,  color=colors[2], linestyle='--')\n",
        "plt.legend(loc='lower right')"
      ],
      "execution_count": 95,
      "outputs": [
        {
          "output_type": "execute_result",
          "data": {
            "text/plain": [
              "<matplotlib.legend.Legend at 0x7f48ef72d5c0>"
            ]
          },
          "metadata": {
            "tags": []
          },
          "execution_count": 95
        },
        {
          "output_type": "display_data",
          "data": {
            "image/png": "[encoded data removed]",
            "text/plain": [
              "<Figure size 864x720 with 1 Axes>"
            ]
          },
          "metadata": {
            "tags": []
          }
        }
      ]
    },
    {
      "cell_type": "markdown",
      "metadata": {
        "id": "XJFMPVRhGTq5",
        "colab_type": "text"
      },
      "source": [
        "Save Model and Weights/Biases to CSV"
      ]
    },
    {
      "cell_type": "code",
      "metadata": {
        "id": "DMvNOkohWeUX",
        "colab_type": "code",
        "outputId": "7929aebc-c77a-476f-cc40-85d6763bb167",
        "colab": {
          "base_uri": "https://localhost:8080/",
          "height": 67
        }
      },
      "source": [
        "!pip install h5py"
      ],
      "execution_count": 96,
      "outputs": [
        {
          "output_type": "stream",
          "text": [
            "Requirement already satisfied: h5py in /usr/local/lib/python3.6/dist-packages (2.10.0)\n",
            "Requirement already satisfied: six in /usr/local/lib/python3.6/dist-packages (from h5py) (1.12.0)\n",
            "Requirement already satisfied: numpy>=1.7 in /usr/local/lib/python3.6/dist-packages (from h5py) (1.18.2)\n"
          ],
          "name": "stdout"
        }
      ]
    },
    {
      "cell_type": "code",
      "metadata": {
        "id": "TdFdHTsSFI7N",
        "colab_type": "code",
        "outputId": "64807aa5-d46f-4576-bbfe-61056827643b",
        "colab": {
          "base_uri": "https://localhost:8080/",
          "height": 34
        }
      },
      "source": [
        "# serialize model to JSON\n",
        "model_json = resampled_model.to_json()\n",
        "with open(\"model2.json\", \"w\") as json_file:\n",
        "  json_file.write(model_json)\n",
        "# serialize weights to HDF5\n",
        "resampled_model.save_weights(\"model2.h5\")\n",
        "print(\"Saved model to disk\")"
      ],
      "execution_count": 97,
      "outputs": [
        {
          "output_type": "stream",
          "text": [
            "Saved model to disk\n"
          ],
          "name": "stdout"
        }
      ]
    },
    {
      "cell_type": "code",
      "metadata": {
        "id": "Ews-1304FUt_",
        "colab_type": "code",
        "colab": {}
      },
      "source": [
        "from keras.models import model_from_json"
      ],
      "execution_count": 0,
      "outputs": []
    },
    {
      "cell_type": "code",
      "metadata": {
        "id": "7gF-Joe6EUa5",
        "colab_type": "code",
        "outputId": "24e1942b-7671-4691-f2d0-9598fde6aa40",
        "colab": {
          "base_uri": "https://localhost:8080/",
          "height": 34
        }
      },
      "source": [
        "# load json and create model\n",
        "json_file = open('model2.json', 'r')\n",
        "loaded_model_json = json_file.read()\n",
        "json_file.close()\n",
        "# loaded_model = model_from_json(loaded_model_json, custom_objects={'test2': test2})\n",
        "loaded_model = make_model()\n",
        "# load weights into new model\n",
        "loaded_model.load_weights(\"model2.h5\")\n",
        "print(\"Loaded model from disk\")"
      ],
      "execution_count": 99,
      "outputs": [
        {
          "output_type": "stream",
          "text": [
            "Loaded model from disk\n"
          ],
          "name": "stdout"
        }
      ]
    },
    {
      "cell_type": "code",
      "metadata": {
        "id": "WXsUKwPeH3Lt",
        "colab_type": "code",
        "outputId": "591f3251-3baf-4727-8379-ab590e25bb7a",
        "colab": {
          "base_uri": "https://localhost:8080/",
          "height": 602
        }
      },
      "source": [
        "# Test load\n",
        "\n",
        "train_predictions_resampled = loaded_model.predict(train_features, batch_size=BATCH_SIZE)\n",
        "test_predictions_resampled = loaded_model.predict(test_features, batch_size=BATCH_SIZE)\n",
        "\n",
        "resampled_results = loaded_model.evaluate(test_features, test_labels,\n",
        "                                             batch_size=BATCH_SIZE, verbose=0)\n",
        "for name, value in zip(loaded_model.metrics_names, resampled_results):\n",
        "  print(name, ': ', value)\n",
        "print()\n",
        "\n",
        "plot_cm(test_labels, test_predictions_resampled)"
      ],
      "execution_count": 100,
      "outputs": [
        {
          "output_type": "stream",
          "text": [
            "loss :  0.11650435626506805\n",
            "tp :  198.0\n",
            "fp :  3410.0\n",
            "tn :  110292.0\n",
            "fn :  24.0\n",
            "accuracy :  0.9698570966720581\n",
            "precision :  0.05487804859876633\n",
            "recall :  0.8918918967247009\n",
            "auc :  0.9844763875007629\n",
            "\n",
            "Legitimate Transactions Detected (True Negatives):  55146\n",
            "Legitimate Transactions Incorrectly Detected (False Positives):  1705\n",
            "Fraudulent Transactions Missed (False Negatives):  12\n",
            "Fraudulent Transactions Detected (True Positives):  99\n",
            "Total Fraudulent Transactions:  111\n"
          ],
          "name": "stdout"
        },
        {
          "output_type": "display_data",
          "data": {
            "image/png": "[encoded data removed]",
            "text/plain": [
              "<Figure size 360x360 with 2 Axes>"
            ]
          },
          "metadata": {
            "tags": []
          }
        }
      ]
    },
    {
      "cell_type": "code",
      "metadata": {
        "id": "UusckmmkIZaR",
        "colab_type": "code",
        "colab": {}
      },
      "source": [
        "# Retrieve Weights\n",
        "\n",
        "weights1 = loaded_model.layers[0].get_weights()[0]\n",
        "biases1 = loaded_model.layers[0].get_weights()[1]\n",
        "weights2 = loaded_model.layers[1].get_weights()[0]\n",
        "biases2 = loaded_model.layers[1].get_weights()[1]\n",
        "\n",
        "np.savetxt('weights1.csv', weights1, delimiter=',')\n",
        "np.savetxt('biases1.csv', biases1, delimiter=',')\n",
        "np.savetxt('weights2.csv', weights2, delimiter=',')\n",
        "np.savetxt('biases2.csv', biases2, delimiter=',')"
      ],
      "execution_count": 0,
      "outputs": []
    }
  ]
}